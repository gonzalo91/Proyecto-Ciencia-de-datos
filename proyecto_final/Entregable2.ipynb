{
 "cells": [
  {
   "cell_type": "markdown",
   "metadata": {},
   "source": [
    "\n",
    "\n",
    "# Gun violence data / Avance II - Equipo \\#5\n",
    "\n",
    "\n",
    "\n",
    "### INTEGRANTES\n",
    "- Brayan Arturo Gonzalez Barron 1620548 \n",
    "- Jose Eduardo Lince Alvarez 1745066 \n",
    "- Gonzalo Adrián Cavazos Rodríguez 1742463 \n",
    "\n",
    "### Objetivos\n",
    "Objetivo Principal:\n",
    "Al estudiar este conjunto de datos se pretende poder hacer deducciones con base al comportamiento de estos, en el aspecto de que lugares son más peligrosos, o propensos en los que ellas personas puedan sufrir de un atentado, además con base a sus características predecir el estatus del participante.\n",
    "\n",
    "#### Objetivos Secundarios:\n",
    " - Situación final de los participantes, ya sea víctima, sospechoso, etc.\n",
    " - Que tanta posibilidad hay de morir en un incidente con arma de fuego\n",
    " - Determinar si el genero o la edad influyen en los incidentes\n",
    "\n",
    "\n",
    "### Caracteristicas Principales\n",
    "- Gran cantidad de datos\n",
    "- Datos relativamente recientes\n",
    "- Variedad de datos (Estatus final de participantes, edad, fecha, etc)\n",
    "\n",
    "### Beneficios de trabajar con esta BD\n",
    "Encontramos que hay una fuerte relacion con los datos relacionados, por lo que pudimos identificar algunos de los metodos de analisis que podriamos utilizar.\n",
    "Tambien observamos que nuestra base de datos presenta datos continuos y discretos con los cuales se puede trabajar para sacar clasificaciones o regresiones que nos definan la relación que existe entre estos mismos\n",
    "\n",
    "### Preguntas de interes\n",
    "¿Cuáles son los estados más peligrosos o mortales?\n",
    "\n",
    "¿Hay una alza o baja de violencia por ataques de arma de fuego por estado? (Los mas peligrosos) \n",
    "\n",
    "En base a la pregunta anterior, predecir si seguirán en aumento, bajaran, o se mantendran igual los indices de violencia (por estado). \n",
    "\n",
    "### MOTIVACION \n",
    "A traves de distintas tecnicas de mineria de datos, poder responder a las preguntas planteadas apoyandonos de algunos de los metodos estadisticos para la prediccion de eventos en futuro.\n",
    "\n",
    "    "
   ]
  },
  {
   "cell_type": "code",
   "execution_count": 2,
   "metadata": {},
   "outputs": [],
   "source": [
    "import pandas as pd\n",
    "import numpy as np\n",
    "import matplotlib.pyplot as plt"
   ]
  },
  {
   "cell_type": "code",
   "execution_count": 2,
   "metadata": {},
   "outputs": [],
   "source": [
    "df = pd.read_csv(r\"gun-violence.csv\")"
   ]
  },
  {
   "cell_type": "markdown",
   "metadata": {},
   "source": [
    "## Preparacion\n",
    "\n",
    "Vemos que columnas podremos encontrar en este dataset, tenemos el id para determinar numero de incidentes,\n",
    "tambien fecha para saber cuando sucedieron los hechos, tenemos ubicaciones y direcciones de los eventos que\n",
    "nos podrian ayudar a filtrar y crear clases de zonas, \n",
    "numero de muertos para tomar encuenta los indices de violoencia, \n",
    "edad de los participantes para tambien obtener algun indicador de edad"
   ]
  },
  {
   "cell_type": "code",
   "execution_count": 3,
   "metadata": {},
   "outputs": [
    {
     "data": {
      "text/html": [
       "<div>\n",
       "<style scoped>\n",
       "    .dataframe tbody tr th:only-of-type {\n",
       "        vertical-align: middle;\n",
       "    }\n",
       "\n",
       "    .dataframe tbody tr th {\n",
       "        vertical-align: top;\n",
       "    }\n",
       "\n",
       "    .dataframe thead th {\n",
       "        text-align: right;\n",
       "    }\n",
       "</style>\n",
       "<table border=\"1\" class=\"dataframe\">\n",
       "  <thead>\n",
       "    <tr style=\"text-align: right;\">\n",
       "      <th></th>\n",
       "      <th>incident_id</th>\n",
       "      <th>date</th>\n",
       "      <th>state</th>\n",
       "      <th>city_or_county</th>\n",
       "      <th>address</th>\n",
       "      <th>n_killed</th>\n",
       "      <th>n_injured</th>\n",
       "      <th>incident_url</th>\n",
       "      <th>source_url</th>\n",
       "      <th>incident_url_fields_missing</th>\n",
       "      <th>...</th>\n",
       "      <th>participant_age</th>\n",
       "      <th>participant_age_group</th>\n",
       "      <th>participant_gender</th>\n",
       "      <th>participant_name</th>\n",
       "      <th>participant_relationship</th>\n",
       "      <th>participant_status</th>\n",
       "      <th>participant_type</th>\n",
       "      <th>sources</th>\n",
       "      <th>state_house_district</th>\n",
       "      <th>state_senate_district</th>\n",
       "    </tr>\n",
       "  </thead>\n",
       "  <tbody>\n",
       "    <tr>\n",
       "      <th>0</th>\n",
       "      <td>461105</td>\n",
       "      <td>2013-01-01</td>\n",
       "      <td>Pennsylvania</td>\n",
       "      <td>Mckeesport</td>\n",
       "      <td>1506 Versailles Avenue and Coursin Street</td>\n",
       "      <td>0</td>\n",
       "      <td>4</td>\n",
       "      <td>http://www.gunviolencearchive.org/incident/461105</td>\n",
       "      <td>http://www.post-gazette.com/local/south/2013/0...</td>\n",
       "      <td>False</td>\n",
       "      <td>...</td>\n",
       "      <td>0::20</td>\n",
       "      <td>0::Adult 18+||1::Adult 18+||2::Adult 18+||3::A...</td>\n",
       "      <td>0::Male||1::Male||3::Male||4::Female</td>\n",
       "      <td>0::Julian Sims</td>\n",
       "      <td>NaN</td>\n",
       "      <td>0::Arrested||1::Injured||2::Injured||3::Injure...</td>\n",
       "      <td>0::Victim||1::Victim||2::Victim||3::Victim||4:...</td>\n",
       "      <td>http://pittsburgh.cbslocal.com/2013/01/01/4-pe...</td>\n",
       "      <td>NaN</td>\n",
       "      <td>NaN</td>\n",
       "    </tr>\n",
       "    <tr>\n",
       "      <th>1</th>\n",
       "      <td>460726</td>\n",
       "      <td>2013-01-01</td>\n",
       "      <td>California</td>\n",
       "      <td>Hawthorne</td>\n",
       "      <td>13500 block of Cerise Avenue</td>\n",
       "      <td>1</td>\n",
       "      <td>3</td>\n",
       "      <td>http://www.gunviolencearchive.org/incident/460726</td>\n",
       "      <td>http://www.dailybulletin.com/article/zz/201301...</td>\n",
       "      <td>False</td>\n",
       "      <td>...</td>\n",
       "      <td>0::20</td>\n",
       "      <td>0::Adult 18+||1::Adult 18+||2::Adult 18+||3::A...</td>\n",
       "      <td>0::Male</td>\n",
       "      <td>0::Bernard Gillis</td>\n",
       "      <td>NaN</td>\n",
       "      <td>0::Killed||1::Injured||2::Injured||3::Injured</td>\n",
       "      <td>0::Victim||1::Victim||2::Victim||3::Victim||4:...</td>\n",
       "      <td>http://losangeles.cbslocal.com/2013/01/01/man-...</td>\n",
       "      <td>62.0</td>\n",
       "      <td>35.0</td>\n",
       "    </tr>\n",
       "    <tr>\n",
       "      <th>2</th>\n",
       "      <td>478855</td>\n",
       "      <td>2013-01-01</td>\n",
       "      <td>Ohio</td>\n",
       "      <td>Lorain</td>\n",
       "      <td>1776 East 28th Street</td>\n",
       "      <td>1</td>\n",
       "      <td>3</td>\n",
       "      <td>http://www.gunviolencearchive.org/incident/478855</td>\n",
       "      <td>http://chronicle.northcoastnow.com/2013/02/14/...</td>\n",
       "      <td>False</td>\n",
       "      <td>...</td>\n",
       "      <td>0::25||1::31||2::33||3::34||4::33</td>\n",
       "      <td>0::Adult 18+||1::Adult 18+||2::Adult 18+||3::A...</td>\n",
       "      <td>0::Male||1::Male||2::Male||3::Male||4::Male</td>\n",
       "      <td>0::Damien Bell||1::Desmen Noble||2::Herman Sea...</td>\n",
       "      <td>NaN</td>\n",
       "      <td>0::Injured, Unharmed, Arrested||1::Unharmed, A...</td>\n",
       "      <td>0::Subject-Suspect||1::Subject-Suspect||2::Vic...</td>\n",
       "      <td>http://www.morningjournal.com/general-news/201...</td>\n",
       "      <td>56.0</td>\n",
       "      <td>13.0</td>\n",
       "    </tr>\n",
       "    <tr>\n",
       "      <th>3</th>\n",
       "      <td>478925</td>\n",
       "      <td>2013-01-05</td>\n",
       "      <td>Colorado</td>\n",
       "      <td>Aurora</td>\n",
       "      <td>16000 block of East Ithaca Place</td>\n",
       "      <td>4</td>\n",
       "      <td>0</td>\n",
       "      <td>http://www.gunviolencearchive.org/incident/478925</td>\n",
       "      <td>http://www.dailydemocrat.com/20130106/aurora-s...</td>\n",
       "      <td>False</td>\n",
       "      <td>...</td>\n",
       "      <td>0::29||1::33||2::56||3::33</td>\n",
       "      <td>0::Adult 18+||1::Adult 18+||2::Adult 18+||3::A...</td>\n",
       "      <td>0::Female||1::Male||2::Male||3::Male</td>\n",
       "      <td>0::Stacie Philbrook||1::Christopher Ratliffe||...</td>\n",
       "      <td>NaN</td>\n",
       "      <td>0::Killed||1::Killed||2::Killed||3::Killed</td>\n",
       "      <td>0::Victim||1::Victim||2::Victim||3::Subject-Su...</td>\n",
       "      <td>http://denver.cbslocal.com/2013/01/06/officer-...</td>\n",
       "      <td>40.0</td>\n",
       "      <td>28.0</td>\n",
       "    </tr>\n",
       "    <tr>\n",
       "      <th>4</th>\n",
       "      <td>478959</td>\n",
       "      <td>2013-01-07</td>\n",
       "      <td>North Carolina</td>\n",
       "      <td>Greensboro</td>\n",
       "      <td>307 Mourning Dove Terrace</td>\n",
       "      <td>2</td>\n",
       "      <td>2</td>\n",
       "      <td>http://www.gunviolencearchive.org/incident/478959</td>\n",
       "      <td>http://www.journalnow.com/news/local/article_d...</td>\n",
       "      <td>False</td>\n",
       "      <td>...</td>\n",
       "      <td>0::18||1::46||2::14||3::47</td>\n",
       "      <td>0::Adult 18+||1::Adult 18+||2::Teen 12-17||3::...</td>\n",
       "      <td>0::Female||1::Male||2::Male||3::Female</td>\n",
       "      <td>0::Danielle Imani Jameison||1::Maurice Eugene ...</td>\n",
       "      <td>3::Family</td>\n",
       "      <td>0::Injured||1::Injured||2::Killed||3::Killed</td>\n",
       "      <td>0::Victim||1::Victim||2::Victim||3::Subject-Su...</td>\n",
       "      <td>http://myfox8.com/2013/01/08/update-mother-sho...</td>\n",
       "      <td>62.0</td>\n",
       "      <td>27.0</td>\n",
       "    </tr>\n",
       "  </tbody>\n",
       "</table>\n",
       "<p>5 rows × 29 columns</p>\n",
       "</div>"
      ],
      "text/plain": [
       "   incident_id        date           state city_or_county  \\\n",
       "0       461105  2013-01-01    Pennsylvania     Mckeesport   \n",
       "1       460726  2013-01-01      California      Hawthorne   \n",
       "2       478855  2013-01-01            Ohio         Lorain   \n",
       "3       478925  2013-01-05        Colorado         Aurora   \n",
       "4       478959  2013-01-07  North Carolina     Greensboro   \n",
       "\n",
       "                                     address  n_killed  n_injured  \\\n",
       "0  1506 Versailles Avenue and Coursin Street         0          4   \n",
       "1               13500 block of Cerise Avenue         1          3   \n",
       "2                      1776 East 28th Street         1          3   \n",
       "3           16000 block of East Ithaca Place         4          0   \n",
       "4                  307 Mourning Dove Terrace         2          2   \n",
       "\n",
       "                                        incident_url  \\\n",
       "0  http://www.gunviolencearchive.org/incident/461105   \n",
       "1  http://www.gunviolencearchive.org/incident/460726   \n",
       "2  http://www.gunviolencearchive.org/incident/478855   \n",
       "3  http://www.gunviolencearchive.org/incident/478925   \n",
       "4  http://www.gunviolencearchive.org/incident/478959   \n",
       "\n",
       "                                          source_url  \\\n",
       "0  http://www.post-gazette.com/local/south/2013/0...   \n",
       "1  http://www.dailybulletin.com/article/zz/201301...   \n",
       "2  http://chronicle.northcoastnow.com/2013/02/14/...   \n",
       "3  http://www.dailydemocrat.com/20130106/aurora-s...   \n",
       "4  http://www.journalnow.com/news/local/article_d...   \n",
       "\n",
       "   incident_url_fields_missing  ...                    participant_age  \\\n",
       "0                        False  ...                              0::20   \n",
       "1                        False  ...                              0::20   \n",
       "2                        False  ...  0::25||1::31||2::33||3::34||4::33   \n",
       "3                        False  ...         0::29||1::33||2::56||3::33   \n",
       "4                        False  ...         0::18||1::46||2::14||3::47   \n",
       "\n",
       "                               participant_age_group  \\\n",
       "0  0::Adult 18+||1::Adult 18+||2::Adult 18+||3::A...   \n",
       "1  0::Adult 18+||1::Adult 18+||2::Adult 18+||3::A...   \n",
       "2  0::Adult 18+||1::Adult 18+||2::Adult 18+||3::A...   \n",
       "3  0::Adult 18+||1::Adult 18+||2::Adult 18+||3::A...   \n",
       "4  0::Adult 18+||1::Adult 18+||2::Teen 12-17||3::...   \n",
       "\n",
       "                            participant_gender  \\\n",
       "0         0::Male||1::Male||3::Male||4::Female   \n",
       "1                                      0::Male   \n",
       "2  0::Male||1::Male||2::Male||3::Male||4::Male   \n",
       "3         0::Female||1::Male||2::Male||3::Male   \n",
       "4       0::Female||1::Male||2::Male||3::Female   \n",
       "\n",
       "                                    participant_name  \\\n",
       "0                                     0::Julian Sims   \n",
       "1                                  0::Bernard Gillis   \n",
       "2  0::Damien Bell||1::Desmen Noble||2::Herman Sea...   \n",
       "3  0::Stacie Philbrook||1::Christopher Ratliffe||...   \n",
       "4  0::Danielle Imani Jameison||1::Maurice Eugene ...   \n",
       "\n",
       "   participant_relationship  \\\n",
       "0                       NaN   \n",
       "1                       NaN   \n",
       "2                       NaN   \n",
       "3                       NaN   \n",
       "4                 3::Family   \n",
       "\n",
       "                                  participant_status  \\\n",
       "0  0::Arrested||1::Injured||2::Injured||3::Injure...   \n",
       "1      0::Killed||1::Injured||2::Injured||3::Injured   \n",
       "2  0::Injured, Unharmed, Arrested||1::Unharmed, A...   \n",
       "3         0::Killed||1::Killed||2::Killed||3::Killed   \n",
       "4       0::Injured||1::Injured||2::Killed||3::Killed   \n",
       "\n",
       "                                    participant_type  \\\n",
       "0  0::Victim||1::Victim||2::Victim||3::Victim||4:...   \n",
       "1  0::Victim||1::Victim||2::Victim||3::Victim||4:...   \n",
       "2  0::Subject-Suspect||1::Subject-Suspect||2::Vic...   \n",
       "3  0::Victim||1::Victim||2::Victim||3::Subject-Su...   \n",
       "4  0::Victim||1::Victim||2::Victim||3::Subject-Su...   \n",
       "\n",
       "                                             sources state_house_district  \\\n",
       "0  http://pittsburgh.cbslocal.com/2013/01/01/4-pe...                  NaN   \n",
       "1  http://losangeles.cbslocal.com/2013/01/01/man-...                 62.0   \n",
       "2  http://www.morningjournal.com/general-news/201...                 56.0   \n",
       "3  http://denver.cbslocal.com/2013/01/06/officer-...                 40.0   \n",
       "4  http://myfox8.com/2013/01/08/update-mother-sho...                 62.0   \n",
       "\n",
       "  state_senate_district  \n",
       "0                   NaN  \n",
       "1                  35.0  \n",
       "2                  13.0  \n",
       "3                  28.0  \n",
       "4                  27.0  \n",
       "\n",
       "[5 rows x 29 columns]"
      ]
     },
     "execution_count": 3,
     "metadata": {},
     "output_type": "execute_result"
    }
   ],
   "source": [
    "df.head(5)"
   ]
  },
  {
   "cell_type": "markdown",
   "metadata": {},
   "source": [
    "### Conteo de datos y columnas\n",
    "Podemos darnos cuenta que tenemos 239667 registros antes de realizar nuestra limpieza y alrededor de 29 columnas, no ocuparemos todas para la resolucion de las preguntas asi en la limpieza eliminaremos las que no son necesarias"
   ]
  },
  {
   "cell_type": "code",
   "execution_count": 4,
   "metadata": {},
   "outputs": [
    {
     "name": "stdout",
     "output_type": "stream",
     "text": [
      "(239677, 29)\n"
     ]
    }
   ],
   "source": [
    "print(df.shape)"
   ]
  },
  {
   "cell_type": "code",
   "execution_count": 5,
   "metadata": {},
   "outputs": [
    {
     "data": {
      "text/plain": [
       "Index(['incident_id', 'date', 'state', 'city_or_county', 'address', 'n_killed',\n",
       "       'n_injured', 'incident_url', 'source_url',\n",
       "       'incident_url_fields_missing', 'congressional_district', 'gun_stolen',\n",
       "       'gun_type', 'incident_characteristics', 'latitude',\n",
       "       'location_description', 'longitude', 'n_guns_involved', 'notes',\n",
       "       'participant_age', 'participant_age_group', 'participant_gender',\n",
       "       'participant_name', 'participant_relationship', 'participant_status',\n",
       "       'participant_type', 'sources', 'state_house_district',\n",
       "       'state_senate_district'],\n",
       "      dtype='object')"
      ]
     },
     "execution_count": 5,
     "metadata": {},
     "output_type": "execute_result"
    }
   ],
   "source": [
    "df.columns"
   ]
  },
  {
   "cell_type": "markdown",
   "metadata": {},
   "source": [
    "### Renombrando Columnas\n",
    "Le daremos un nombre en español a las columnas.\n",
    "\n",
    "Ademas, podemos describir nuestras columnas de una mejor manera"
   ]
  },
  {
   "cell_type": "code",
   "execution_count": 6,
   "metadata": {},
   "outputs": [],
   "source": [
    "df=df.rename(columns={'incident_id':'id', 'date':'fecha', 'state':'estado', 'city_or_county':'condado_o_localidad', 'address': 'direccion',\n",
    "                 'gun_type':'tipo_arma', 'n_injured':'num_lesionados', 'location_description':'desc_lugar',\n",
    "                  'participant_age':'edad_participante', 'participant_age_group':'edad_grupo_participantes',\n",
    "                      'n_guns_involved' : 'armas_involucradas',\n",
    "                   'participant_gender':'genero_participante', 'participant_relationship': 'relacion_participante',\n",
    "                   'participant_status':'estatus_participante','participant_type':'tipo_participante', 'n_killed':'num_muertos'})"
   ]
  },
  {
   "cell_type": "code",
   "execution_count": 7,
   "metadata": {},
   "outputs": [
    {
     "data": {
      "text/plain": [
       "id                               int64\n",
       "fecha                           object\n",
       "estado                          object\n",
       "condado_o_localidad             object\n",
       "direccion                       object\n",
       "num_muertos                      int64\n",
       "num_lesionados                   int64\n",
       "incident_url                    object\n",
       "source_url                      object\n",
       "incident_url_fields_missing       bool\n",
       "congressional_district         float64\n",
       "gun_stolen                      object\n",
       "tipo_arma                       object\n",
       "incident_characteristics        object\n",
       "latitude                       float64\n",
       "desc_lugar                      object\n",
       "longitude                      float64\n",
       "armas_involucradas             float64\n",
       "notes                           object\n",
       "edad_participante               object\n",
       "edad_grupo_participantes        object\n",
       "genero_participante             object\n",
       "participant_name                object\n",
       "relacion_participante           object\n",
       "estatus_participante            object\n",
       "tipo_participante               object\n",
       "sources                         object\n",
       "state_house_district           float64\n",
       "state_senate_district          float64\n",
       "dtype: object"
      ]
     },
     "execution_count": 7,
     "metadata": {},
     "output_type": "execute_result"
    }
   ],
   "source": [
    "df.dtypes"
   ]
  },
  {
   "cell_type": "markdown",
   "metadata": {},
   "source": [
    "### Identificando valores unicos\n",
    "Haremos una visualizacion de los valores unicos para las columnas estado, condado_o_localidad\n",
    "\n",
    "---"
   ]
  },
  {
   "cell_type": "code",
   "execution_count": 8,
   "metadata": {},
   "outputs": [
    {
     "name": "stdout",
     "output_type": "stream",
     "text": [
      "['Pennsylvania' 'California' 'Ohio' 'Colorado' 'North Carolina' 'Oklahoma'\n",
      " 'New Mexico' 'Louisiana' 'Maryland' 'Tennessee' 'Missouri'\n",
      " 'District of Columbia' 'Illinois' 'Delaware' 'Utah' 'Michigan' 'Georgia'\n",
      " 'Indiana' 'Mississippi' 'New York' 'Florida' 'Washington'\n",
      " 'South Carolina' 'Arizona' 'Kentucky' 'New Jersey' 'Virginia' 'Wisconsin'\n",
      " 'Rhode Island' 'Texas' 'Alabama' 'Kansas' 'Connecticut' 'West Virginia'\n",
      " 'Minnesota' 'Nevada' 'Nebraska' 'Massachusetts' 'Hawaii' 'New Hampshire'\n",
      " 'Iowa' 'Alaska' 'Arkansas' 'Idaho' 'Oregon' 'Wyoming' 'Maine'\n",
      " 'North Dakota' 'Montana' 'Vermont' 'South Dakota']  | Total:  51\n"
     ]
    }
   ],
   "source": [
    "count_column = df.estado.unique()\n",
    "print( count_column , ' | Total: ', len(count_column))"
   ]
  },
  {
   "cell_type": "markdown",
   "metadata": {},
   "source": [
    "Vemos que para la columna estado tenemos un total de 51 columnas unicas, con la cual, podriamos hacer graficas ya que no presenta una gran cantidad de datos\n",
    "\n",
    "\n",
    "---"
   ]
  },
  {
   "cell_type": "code",
   "execution_count": 9,
   "metadata": {},
   "outputs": [
    {
     "name": "stdout",
     "output_type": "stream",
     "text": [
      "['Mckeesport' 'Hawthorne' 'Lorain' ... 'Montgomery Creek'\n",
      " 'Chaffee (Allenville)' 'St Paul']  | Total:  12898\n"
     ]
    }
   ],
   "source": [
    "count_column = df.condado_o_localidad.unique()\n",
    "print( count_column , ' | Total: ', len(count_column))"
   ]
  },
  {
   "cell_type": "markdown",
   "metadata": {},
   "source": [
    "En este caso, para la columna condado_o_localidad tenemos demasiados registros unicos, por lo que si se quisiera una grafica con estos datos, tendriamos que aminorar la cantidad, talvez buscando por los que mas coincidencias tienen."
   ]
  },
  {
   "cell_type": "markdown",
   "metadata": {},
   "source": [
    "### Datos Nulos\n",
    "\n",
    "A continuacion, buscaremos por columna, si hay almenos algun dato nulo.\n",
    "Podemos observar que las columnas fecha, estado, ciudad_o_pais, num_muertos no tienen datos en nulo, pero hay 2 campos que si vamos a ocupar, los cuales son edad_participante y estatus_participante y si contienen datos nulos."
   ]
  },
  {
   "cell_type": "code",
   "execution_count": 10,
   "metadata": {},
   "outputs": [
    {
     "data": {
      "text/plain": [
       "id                             False\n",
       "fecha                          False\n",
       "estado                         False\n",
       "condado_o_localidad            False\n",
       "direccion                       True\n",
       "num_muertos                    False\n",
       "num_lesionados                 False\n",
       "incident_url                   False\n",
       "source_url                      True\n",
       "incident_url_fields_missing    False\n",
       "congressional_district          True\n",
       "gun_stolen                      True\n",
       "tipo_arma                       True\n",
       "incident_characteristics        True\n",
       "latitude                        True\n",
       "desc_lugar                      True\n",
       "longitude                       True\n",
       "armas_involucradas              True\n",
       "notes                           True\n",
       "edad_participante               True\n",
       "edad_grupo_participantes        True\n",
       "genero_participante             True\n",
       "participant_name                True\n",
       "relacion_participante           True\n",
       "estatus_participante            True\n",
       "tipo_participante               True\n",
       "sources                         True\n",
       "state_house_district            True\n",
       "state_senate_district           True\n",
       "dtype: bool"
      ]
     },
     "execution_count": 10,
     "metadata": {},
     "output_type": "execute_result"
    }
   ],
   "source": [
    "df.isnull().any()"
   ]
  },
  {
   "cell_type": "markdown",
   "metadata": {},
   "source": [
    "Hacemos una sumatoria, de las filas nulas por columnas, para determinar si es viable precindir de esas filar en caso\n",
    "de que sean pocas, pero los resultados muestran cantidades muy grandes, por lo que no se pueden eliminar. \n",
    "Debido a esto, tendremos que tener cuidado cuando generemos los reportes donde se utilicen estas columnas, ademas \n",
    "de que son columnas con datos compuestos, por lo que es mas  complicado ponerle un valor por defecto(como el caso\n",
    "de los int con 0, por ejemplo)\n"
   ]
  },
  {
   "cell_type": "code",
   "execution_count": 11,
   "metadata": {},
   "outputs": [
    {
     "data": {
      "text/plain": [
       "edad_participante       92298\n",
       "estatus_participante    27626\n",
       "tipo_participante       24863\n",
       "genero_participante     36362\n",
       "dtype: int64"
      ]
     },
     "execution_count": 11,
     "metadata": {},
     "output_type": "execute_result"
    }
   ],
   "source": [
    "df[['edad_participante', 'estatus_participante', 'tipo_participante', 'genero_participante']].isnull().sum()"
   ]
  },
  {
   "cell_type": "markdown",
   "metadata": {},
   "source": [
    "Eliminamos los nulos de la columna armas_involucradas y lo convertimos a entero, ya que posiblemente hagamos algunas busquedas con este campo"
   ]
  },
  {
   "cell_type": "code",
   "execution_count": 12,
   "metadata": {},
   "outputs": [],
   "source": [
    "df.armas_involucradas = df.armas_involucradas.fillna(0)\n",
    "df.armas_involucradas = df.armas_involucradas.astype('int')\n"
   ]
  },
  {
   "cell_type": "markdown",
   "metadata": {},
   "source": [
    "### Eliminacion de Columnas"
   ]
  },
  {
   "cell_type": "markdown",
   "metadata": {},
   "source": [
    "Eliminaremos algunas columnas que en su mayoria, son valores nulos, datos que no nos interesan, y el nombre de los participantes, manteniendo asi, el anonimato de estos."
   ]
  },
  {
   "cell_type": "code",
   "execution_count": 13,
   "metadata": {},
   "outputs": [],
   "source": [
    "df = df.drop(columns={'id', 'sources', 'incident_url', 'incident_url_fields_missing', 'source_url',\n",
    "                      'congressional_district', 'gun_stolen', 'tipo_arma', 'incident_characteristics',\n",
    "                      'latitude', 'desc_lugar', 'longitude', 'notes', 'direccion', \n",
    "                        'incident_url', 'edad_grupo_participantes', 'participant_name', 'relacion_participante', 'sources', 'state_house_district', 'state_senate_district'},axis = 1 )"
   ]
  },
  {
   "cell_type": "markdown",
   "metadata": {},
   "source": [
    "---\n",
    "\n",
    "### Creacion de Tabla participantes\n",
    "Debido a que tenemos datos compuestos con los que no podemos trabajar, vamos a dividirlo en otra tabla para que \n",
    "asi nos sea mas facil manipular los datos"
   ]
  },
  {
   "cell_type": "code",
   "execution_count": 14,
   "metadata": {},
   "outputs": [],
   "source": [
    "incidente_participante = {\n",
    "    'incidente_id'      : [],\n",
    "    'index_participante': [],\n",
    "    'edad'              : [],\n",
    "    'genero'            : [],\n",
    "    'estatus'           : [],\n",
    "    'tipo'              : [],\n",
    "}\n",
    "\n",
    "def splitColumn(string):\n",
    "    return string.split('||') if not pd.isnull(string) else []\n",
    "    \n",
    "def splitInfo(string):\n",
    "    string_splitted = string.split('::')\n",
    "    return string_splitted[1] if len(string_splitted) == 2 else None\n",
    "\n",
    "\n",
    "\n",
    "for incidente in df.index:\n",
    "    \n",
    "    edades  = splitColumn(df['edad_participante'][incidente])\n",
    "    generos = splitColumn(df['genero_participante'][incidente])\n",
    "    estatus = splitColumn(df['estatus_participante'][incidente])\n",
    "    tipo    = splitColumn(df['tipo_participante'][incidente])\n",
    "    participantes  = min(len(i) for i in [edades , generos ,estatus, tipo])\n",
    "    \n",
    "    for participante in range(participantes):\n",
    "        incidente_participante['incidente_id'].append(incidente)\n",
    "        incidente_participante['index_participante'].append(participante)\n",
    "        incidente_participante['edad'].append(splitInfo(edades[participante]))        \n",
    "        incidente_participante['genero'].append(splitInfo(generos[participante]))\n",
    "        incidente_participante['estatus'].append(splitInfo(estatus[participante]))\n",
    "        incidente_participante['tipo'].append(splitInfo(tipo[participante]))\n",
    "        \n",
    "\n",
    "\n",
    "\n",
    "participantes = pd.DataFrame(incidente_participante, columns=list(incidente_participante.keys()))        "
   ]
  },
  {
   "cell_type": "markdown",
   "metadata": {},
   "source": [
    "Eliminamos datos nulos de participantes"
   ]
  },
  {
   "cell_type": "code",
   "execution_count": 15,
   "metadata": {},
   "outputs": [],
   "source": [
    "participantes = participantes.dropna()"
   ]
  },
  {
   "cell_type": "markdown",
   "metadata": {},
   "source": [
    "Identificamos los casos unicos para las columnas \n",
    "- Genero\n",
    "- Estatus\n",
    "- Tipo\n",
    "\n",
    "Observamos que para <b>genero</b> solo tenemos dos casos: \n",
    "    - Male (hombre)\n",
    "    - Female (mujer)\n",
    "\n",
    "Encontramos un caso aislado que fue 'Male, female' por lo que este será eliminado.        "
   ]
  },
  {
   "cell_type": "code",
   "execution_count": 16,
   "metadata": {},
   "outputs": [
    {
     "name": "stdout",
     "output_type": "stream",
     "text": [
      "['Male' 'Female' 'Male, female']  | Total:  3\n"
     ]
    }
   ],
   "source": [
    "generos_unicos = participantes.genero.unique()\n",
    "print( generos_unicos , ' | Total: ', len(generos_unicos))\n"
   ]
  },
  {
   "cell_type": "markdown",
   "metadata": {},
   "source": [
    "Eliminamos un caso aisalado que se presento en la BD"
   ]
  },
  {
   "cell_type": "code",
   "execution_count": 17,
   "metadata": {},
   "outputs": [],
   "source": [
    "caso_aislados=participantes[participantes['genero']=='Male, female']\n",
    "participantes = participantes.drop(caso_aislados.index, axis=0)\n",
    "\n"
   ]
  },
  {
   "cell_type": "markdown",
   "metadata": {},
   "source": [
    "---\n",
    "\n",
    "En el tipo, solo tenemos dos casos los cuales son:\n",
    "- Victim\n",
    "- Subject-Suspect"
   ]
  },
  {
   "cell_type": "code",
   "execution_count": 18,
   "metadata": {},
   "outputs": [
    {
     "name": "stdout",
     "output_type": "stream",
     "text": [
      "['Victim' 'Subject-Suspect']  | Total:  2\n"
     ]
    }
   ],
   "source": [
    "tipos_unicos =participantes.tipo.unique()\n",
    "print(tipos_unicos, ' | Total: ', len(tipos_unicos))"
   ]
  },
  {
   "cell_type": "markdown",
   "metadata": {},
   "source": [
    "Ahora analizaremos los estatus"
   ]
  },
  {
   "cell_type": "code",
   "execution_count": 19,
   "metadata": {},
   "outputs": [
    {
     "name": "stdout",
     "output_type": "stream",
     "text": [
      "['Arrested' 'Killed' 'Injured, Unharmed, Arrested' 'Unharmed, Arrested'\n",
      " 'Injured' 'Killed, Unharmed, Arrested' 'Unharmed' 'Injured, Arrested'\n",
      " 'Killed, Injured' 'Killed, Unharmed' 'Killed, Arrested'\n",
      " 'Injured, Unharmed']  | Total:  12\n"
     ]
    }
   ],
   "source": [
    "status_unicos = participantes.estatus.unique()\n",
    "print( status_unicos , ' | Total: ', len(status_unicos))\n",
    "\n"
   ]
  },
  {
   "cell_type": "markdown",
   "metadata": {},
   "source": [
    "Observamos que hay distintos tipos de estutus, y algunos juntos separados por coma.\n",
    "En este caso solo tomaremo 3 estatus fundamentales:\n",
    "  - Arrested (arrestado)\n",
    "  - Killed   (muerto)\n",
    "  - Injured  (herido)\n",
    "  \n",
    "Y agregaremos 3 columnas para cada uno de los diferentes estatus al DataFrame para identificarlos con un 1 si se presenta este estatus, o 0 cero si no.\n",
    "Despues procederemos a borrar la columna de status ya que no la necesitaremos más."
   ]
  },
  {
   "cell_type": "code",
   "execution_count": 20,
   "metadata": {
    "scrolled": true
   },
   "outputs": [],
   "source": [
    "participantes['arrestado'] = 0\n",
    "participantes['muerto'] = 0\n",
    "participantes['herido'] = 0\n",
    "\n",
    "for participante in participantes.index:\n",
    "    \n",
    "    status = participantes['estatus'][participante].replace(' ', '').split(',')\n",
    "    participantes.loc[participantes.index == participante, 'arrestado'] = 1 if 'Arrested' in status else  0    \n",
    "    participantes.loc[participantes.index == participante, 'muerto'] = 1 if 'Killed' in status else  0\n",
    "    participantes.loc[participantes.index == participante, 'herido'] = 1 if 'Injured' in status else  0    \n",
    "\n",
    "participantes.drop(['estatus'], axis=1, inplace=True)\n",
    "\n"
   ]
  },
  {
   "cell_type": "markdown",
   "metadata": {},
   "source": [
    "--- \n",
    "\n",
    "Y por ultimo, procedemos a traducir los valores en las columnas de genero y tipo para que sea mas facil hacer las busquedas y homologar toda la BD"
   ]
  },
  {
   "cell_type": "code",
   "execution_count": 21,
   "metadata": {
    "scrolled": true
   },
   "outputs": [
    {
     "data": {
      "text/html": [
       "<div>\n",
       "<style scoped>\n",
       "    .dataframe tbody tr th:only-of-type {\n",
       "        vertical-align: middle;\n",
       "    }\n",
       "\n",
       "    .dataframe tbody tr th {\n",
       "        vertical-align: top;\n",
       "    }\n",
       "\n",
       "    .dataframe thead th {\n",
       "        text-align: right;\n",
       "    }\n",
       "</style>\n",
       "<table border=\"1\" class=\"dataframe\">\n",
       "  <thead>\n",
       "    <tr style=\"text-align: right;\">\n",
       "      <th></th>\n",
       "      <th>incidente_id</th>\n",
       "      <th>index_participante</th>\n",
       "      <th>edad</th>\n",
       "      <th>genero</th>\n",
       "      <th>tipo</th>\n",
       "      <th>arrestado</th>\n",
       "      <th>muerto</th>\n",
       "      <th>herido</th>\n",
       "    </tr>\n",
       "  </thead>\n",
       "  <tbody>\n",
       "    <tr>\n",
       "      <th>0</th>\n",
       "      <td>0</td>\n",
       "      <td>0</td>\n",
       "      <td>20</td>\n",
       "      <td>hombre</td>\n",
       "      <td>victima</td>\n",
       "      <td>1</td>\n",
       "      <td>0</td>\n",
       "      <td>0</td>\n",
       "    </tr>\n",
       "    <tr>\n",
       "      <th>1</th>\n",
       "      <td>1</td>\n",
       "      <td>0</td>\n",
       "      <td>20</td>\n",
       "      <td>hombre</td>\n",
       "      <td>victima</td>\n",
       "      <td>0</td>\n",
       "      <td>1</td>\n",
       "      <td>0</td>\n",
       "    </tr>\n",
       "    <tr>\n",
       "      <th>2</th>\n",
       "      <td>2</td>\n",
       "      <td>0</td>\n",
       "      <td>25</td>\n",
       "      <td>hombre</td>\n",
       "      <td>sospechoso</td>\n",
       "      <td>1</td>\n",
       "      <td>0</td>\n",
       "      <td>1</td>\n",
       "    </tr>\n",
       "    <tr>\n",
       "      <th>3</th>\n",
       "      <td>2</td>\n",
       "      <td>1</td>\n",
       "      <td>31</td>\n",
       "      <td>hombre</td>\n",
       "      <td>sospechoso</td>\n",
       "      <td>1</td>\n",
       "      <td>0</td>\n",
       "      <td>0</td>\n",
       "    </tr>\n",
       "    <tr>\n",
       "      <th>4</th>\n",
       "      <td>2</td>\n",
       "      <td>2</td>\n",
       "      <td>33</td>\n",
       "      <td>hombre</td>\n",
       "      <td>victima</td>\n",
       "      <td>0</td>\n",
       "      <td>1</td>\n",
       "      <td>0</td>\n",
       "    </tr>\n",
       "    <tr>\n",
       "      <th>...</th>\n",
       "      <td>...</td>\n",
       "      <td>...</td>\n",
       "      <td>...</td>\n",
       "      <td>...</td>\n",
       "      <td>...</td>\n",
       "      <td>...</td>\n",
       "      <td>...</td>\n",
       "      <td>...</td>\n",
       "    </tr>\n",
       "    <tr>\n",
       "      <th>215782</th>\n",
       "      <td>239673</td>\n",
       "      <td>0</td>\n",
       "      <td>21</td>\n",
       "      <td>hombre</td>\n",
       "      <td>victima</td>\n",
       "      <td>0</td>\n",
       "      <td>1</td>\n",
       "      <td>0</td>\n",
       "    </tr>\n",
       "    <tr>\n",
       "      <th>215783</th>\n",
       "      <td>239674</td>\n",
       "      <td>0</td>\n",
       "      <td>21</td>\n",
       "      <td>hombre</td>\n",
       "      <td>victima</td>\n",
       "      <td>0</td>\n",
       "      <td>0</td>\n",
       "      <td>1</td>\n",
       "    </tr>\n",
       "    <tr>\n",
       "      <th>215784</th>\n",
       "      <td>239675</td>\n",
       "      <td>0</td>\n",
       "      <td>42</td>\n",
       "      <td>hombre</td>\n",
       "      <td>victima</td>\n",
       "      <td>0</td>\n",
       "      <td>1</td>\n",
       "      <td>0</td>\n",
       "    </tr>\n",
       "    <tr>\n",
       "      <th>215785</th>\n",
       "      <td>239676</td>\n",
       "      <td>0</td>\n",
       "      <td>58</td>\n",
       "      <td>mujer</td>\n",
       "      <td>victima</td>\n",
       "      <td>0</td>\n",
       "      <td>1</td>\n",
       "      <td>0</td>\n",
       "    </tr>\n",
       "    <tr>\n",
       "      <th>215786</th>\n",
       "      <td>239676</td>\n",
       "      <td>1</td>\n",
       "      <td>62</td>\n",
       "      <td>hombre</td>\n",
       "      <td>sospechoso</td>\n",
       "      <td>0</td>\n",
       "      <td>1</td>\n",
       "      <td>0</td>\n",
       "    </tr>\n",
       "  </tbody>\n",
       "</table>\n",
       "<p>213754 rows × 8 columns</p>\n",
       "</div>"
      ],
      "text/plain": [
       "        incidente_id  index_participante edad  genero        tipo  arrestado  \\\n",
       "0                  0                   0   20  hombre     victima          1   \n",
       "1                  1                   0   20  hombre     victima          0   \n",
       "2                  2                   0   25  hombre  sospechoso          1   \n",
       "3                  2                   1   31  hombre  sospechoso          1   \n",
       "4                  2                   2   33  hombre     victima          0   \n",
       "...              ...                 ...  ...     ...         ...        ...   \n",
       "215782        239673                   0   21  hombre     victima          0   \n",
       "215783        239674                   0   21  hombre     victima          0   \n",
       "215784        239675                   0   42  hombre     victima          0   \n",
       "215785        239676                   0   58   mujer     victima          0   \n",
       "215786        239676                   1   62  hombre  sospechoso          0   \n",
       "\n",
       "        muerto  herido  \n",
       "0            0       0  \n",
       "1            1       0  \n",
       "2            0       1  \n",
       "3            0       0  \n",
       "4            1       0  \n",
       "...        ...     ...  \n",
       "215782       1       0  \n",
       "215783       0       1  \n",
       "215784       1       0  \n",
       "215785       1       0  \n",
       "215786       1       0  \n",
       "\n",
       "[213754 rows x 8 columns]"
      ]
     },
     "execution_count": 21,
     "metadata": {},
     "output_type": "execute_result"
    }
   ],
   "source": [
    "participantes['genero'].mask(participantes['genero'] == 'Male', 'hombre', inplace=True)\n",
    "participantes['genero'].mask(participantes['genero'] == 'Female', 'mujer', inplace=True)\n",
    "participantes['tipo'].mask(participantes['tipo'] == 'Victim', 'victima', inplace=True)\n",
    "participantes['tipo'].mask(participantes['tipo'] == 'Subject-Suspect', 'sospechoso', inplace=True)\n",
    "\n",
    "participantes"
   ]
  },
  {
   "cell_type": "markdown",
   "metadata": {},
   "source": [
    "---\n",
    "Una vez con la tabla de participantes creada, elimnaremos las columnas de edad_participante, \n",
    "genero_participante, estatus_participante, tipo_participante"
   ]
  },
  {
   "cell_type": "code",
   "execution_count": 22,
   "metadata": {},
   "outputs": [],
   "source": [
    "df.drop(columns= {'edad_participante', 'genero_participante', 'estatus_participante','tipo_participante',}, inplace=True)"
   ]
  },
  {
   "cell_type": "markdown",
   "metadata": {},
   "source": [
    "Antes de concluir, exportaremos la tabla de incidentes limpia, al igual que la tabla de participantes"
   ]
  },
  {
   "cell_type": "code",
   "execution_count": 23,
   "metadata": {},
   "outputs": [],
   "source": [
    "participantes.to_csv('participantes.csv', index=False)\n",
    "df.to_csv('incidentes.csv', index=False)"
   ]
  },
  {
   "cell_type": "markdown",
   "metadata": {},
   "source": [
    "--- \n",
    "\n",
    "### Identificacion de Clases\n",
    "En esta caso, vamos a realizar una busqueda por el conteo de muertos, haciendo 3 clases:\n",
    "- No Muertos\n",
    "- 1 Muerto\n",
    "- Mas de 1 muerto\n",
    "\n",
    "Despues, procederemos a guardalas en un csv para trabajar independientemente con ellas."
   ]
  },
  {
   "cell_type": "code",
   "execution_count": 24,
   "metadata": {},
   "outputs": [],
   "source": [
    "no_muertos = df[df['num_muertos'] == 0]\n",
    "no_muertos.to_csv('no_muertos.csv', index=True)\n",
    "\n",
    "un_muerto = df[df['num_muertos'] == 1]\n",
    "un_muerto.to_csv('un_muerto.csv', index=True)\n",
    "\n",
    "mas_de_un_muerto = df[df['num_muertos'] > 1]\n",
    "mas_de_un_muerto.to_csv('mas_de_un_muerto.csv', index=True)"
   ]
  },
  {
   "cell_type": "markdown",
   "metadata": {},
   "source": [
    "---\n",
    "\n",
    "Con esto podemos inferir cuales son las zonas mas y menos peligrosas, ya que pude haber un incidente, pero no quiere decir que haya muertos. \n",
    "\n",
    "Lo que hicimos abajo fue, obtener un conteo del listado unico donde haya habido mas de un muerto, pudiendo identificar cuales son las zonas mas mortales, aunque no quiera decir que en estos estados no haya incidentes con 0 muertos"
   ]
  },
  {
   "cell_type": "code",
   "execution_count": 25,
   "metadata": {},
   "outputs": [
    {
     "data": {
      "text/plain": [
       "2329"
      ]
     },
     "execution_count": 25,
     "metadata": {},
     "output_type": "execute_result"
    }
   ],
   "source": [
    "len(mas_de_un_muerto.condado_o_localidad.unique())"
   ]
  },
  {
   "cell_type": "markdown",
   "metadata": {},
   "source": [
    "---\n",
    "Y finalmente, tenemos nuestra BD preparada solo con los datos que necesitamos"
   ]
  },
  {
   "cell_type": "code",
   "execution_count": 26,
   "metadata": {
    "scrolled": true
   },
   "outputs": [
    {
     "data": {
      "text/html": [
       "<div>\n",
       "<style scoped>\n",
       "    .dataframe tbody tr th:only-of-type {\n",
       "        vertical-align: middle;\n",
       "    }\n",
       "\n",
       "    .dataframe tbody tr th {\n",
       "        vertical-align: top;\n",
       "    }\n",
       "\n",
       "    .dataframe thead th {\n",
       "        text-align: right;\n",
       "    }\n",
       "</style>\n",
       "<table border=\"1\" class=\"dataframe\">\n",
       "  <thead>\n",
       "    <tr style=\"text-align: right;\">\n",
       "      <th></th>\n",
       "      <th>fecha</th>\n",
       "      <th>estado</th>\n",
       "      <th>condado_o_localidad</th>\n",
       "      <th>num_muertos</th>\n",
       "      <th>num_lesionados</th>\n",
       "      <th>armas_involucradas</th>\n",
       "    </tr>\n",
       "  </thead>\n",
       "  <tbody>\n",
       "    <tr>\n",
       "      <th>0</th>\n",
       "      <td>2013-01-01</td>\n",
       "      <td>Pennsylvania</td>\n",
       "      <td>Mckeesport</td>\n",
       "      <td>0</td>\n",
       "      <td>4</td>\n",
       "      <td>0</td>\n",
       "    </tr>\n",
       "    <tr>\n",
       "      <th>1</th>\n",
       "      <td>2013-01-01</td>\n",
       "      <td>California</td>\n",
       "      <td>Hawthorne</td>\n",
       "      <td>1</td>\n",
       "      <td>3</td>\n",
       "      <td>0</td>\n",
       "    </tr>\n",
       "    <tr>\n",
       "      <th>2</th>\n",
       "      <td>2013-01-01</td>\n",
       "      <td>Ohio</td>\n",
       "      <td>Lorain</td>\n",
       "      <td>1</td>\n",
       "      <td>3</td>\n",
       "      <td>2</td>\n",
       "    </tr>\n",
       "    <tr>\n",
       "      <th>3</th>\n",
       "      <td>2013-01-05</td>\n",
       "      <td>Colorado</td>\n",
       "      <td>Aurora</td>\n",
       "      <td>4</td>\n",
       "      <td>0</td>\n",
       "      <td>0</td>\n",
       "    </tr>\n",
       "    <tr>\n",
       "      <th>4</th>\n",
       "      <td>2013-01-07</td>\n",
       "      <td>North Carolina</td>\n",
       "      <td>Greensboro</td>\n",
       "      <td>2</td>\n",
       "      <td>2</td>\n",
       "      <td>2</td>\n",
       "    </tr>\n",
       "    <tr>\n",
       "      <th>...</th>\n",
       "      <td>...</td>\n",
       "      <td>...</td>\n",
       "      <td>...</td>\n",
       "      <td>...</td>\n",
       "      <td>...</td>\n",
       "      <td>...</td>\n",
       "    </tr>\n",
       "    <tr>\n",
       "      <th>239672</th>\n",
       "      <td>2018-03-31</td>\n",
       "      <td>Louisiana</td>\n",
       "      <td>Rayne</td>\n",
       "      <td>0</td>\n",
       "      <td>0</td>\n",
       "      <td>1</td>\n",
       "    </tr>\n",
       "    <tr>\n",
       "      <th>239673</th>\n",
       "      <td>2018-03-31</td>\n",
       "      <td>Louisiana</td>\n",
       "      <td>Natchitoches</td>\n",
       "      <td>1</td>\n",
       "      <td>0</td>\n",
       "      <td>1</td>\n",
       "    </tr>\n",
       "    <tr>\n",
       "      <th>239674</th>\n",
       "      <td>2018-03-31</td>\n",
       "      <td>Louisiana</td>\n",
       "      <td>Gretna</td>\n",
       "      <td>0</td>\n",
       "      <td>1</td>\n",
       "      <td>1</td>\n",
       "    </tr>\n",
       "    <tr>\n",
       "      <th>239675</th>\n",
       "      <td>2018-03-31</td>\n",
       "      <td>Texas</td>\n",
       "      <td>Houston</td>\n",
       "      <td>1</td>\n",
       "      <td>0</td>\n",
       "      <td>1</td>\n",
       "    </tr>\n",
       "    <tr>\n",
       "      <th>239676</th>\n",
       "      <td>2018-03-31</td>\n",
       "      <td>Maine</td>\n",
       "      <td>Norridgewock</td>\n",
       "      <td>2</td>\n",
       "      <td>0</td>\n",
       "      <td>2</td>\n",
       "    </tr>\n",
       "  </tbody>\n",
       "</table>\n",
       "<p>239677 rows × 6 columns</p>\n",
       "</div>"
      ],
      "text/plain": [
       "             fecha          estado condado_o_localidad  num_muertos  \\\n",
       "0       2013-01-01    Pennsylvania          Mckeesport            0   \n",
       "1       2013-01-01      California           Hawthorne            1   \n",
       "2       2013-01-01            Ohio              Lorain            1   \n",
       "3       2013-01-05        Colorado              Aurora            4   \n",
       "4       2013-01-07  North Carolina          Greensboro            2   \n",
       "...            ...             ...                 ...          ...   \n",
       "239672  2018-03-31       Louisiana               Rayne            0   \n",
       "239673  2018-03-31       Louisiana        Natchitoches            1   \n",
       "239674  2018-03-31       Louisiana              Gretna            0   \n",
       "239675  2018-03-31           Texas             Houston            1   \n",
       "239676  2018-03-31           Maine        Norridgewock            2   \n",
       "\n",
       "        num_lesionados  armas_involucradas  \n",
       "0                    4                   0  \n",
       "1                    3                   0  \n",
       "2                    3                   2  \n",
       "3                    0                   0  \n",
       "4                    2                   2  \n",
       "...                ...                 ...  \n",
       "239672               0                   1  \n",
       "239673               0                   1  \n",
       "239674               1                   1  \n",
       "239675               0                   1  \n",
       "239676               0                   2  \n",
       "\n",
       "[239677 rows x 6 columns]"
      ]
     },
     "execution_count": 26,
     "metadata": {},
     "output_type": "execute_result"
    }
   ],
   "source": [
    "df"
   ]
  },
  {
   "cell_type": "code",
   "execution_count": 27,
   "metadata": {},
   "outputs": [
    {
     "data": {
      "text/html": [
       "<div>\n",
       "<style scoped>\n",
       "    .dataframe tbody tr th:only-of-type {\n",
       "        vertical-align: middle;\n",
       "    }\n",
       "\n",
       "    .dataframe tbody tr th {\n",
       "        vertical-align: top;\n",
       "    }\n",
       "\n",
       "    .dataframe thead th {\n",
       "        text-align: right;\n",
       "    }\n",
       "</style>\n",
       "<table border=\"1\" class=\"dataframe\">\n",
       "  <thead>\n",
       "    <tr style=\"text-align: right;\">\n",
       "      <th></th>\n",
       "      <th>incidente_id</th>\n",
       "      <th>index_participante</th>\n",
       "      <th>edad</th>\n",
       "      <th>genero</th>\n",
       "      <th>tipo</th>\n",
       "      <th>arrestado</th>\n",
       "      <th>muerto</th>\n",
       "      <th>herido</th>\n",
       "    </tr>\n",
       "  </thead>\n",
       "  <tbody>\n",
       "    <tr>\n",
       "      <th>0</th>\n",
       "      <td>0</td>\n",
       "      <td>0</td>\n",
       "      <td>20</td>\n",
       "      <td>hombre</td>\n",
       "      <td>victima</td>\n",
       "      <td>1</td>\n",
       "      <td>0</td>\n",
       "      <td>0</td>\n",
       "    </tr>\n",
       "    <tr>\n",
       "      <th>1</th>\n",
       "      <td>1</td>\n",
       "      <td>0</td>\n",
       "      <td>20</td>\n",
       "      <td>hombre</td>\n",
       "      <td>victima</td>\n",
       "      <td>0</td>\n",
       "      <td>1</td>\n",
       "      <td>0</td>\n",
       "    </tr>\n",
       "    <tr>\n",
       "      <th>2</th>\n",
       "      <td>2</td>\n",
       "      <td>0</td>\n",
       "      <td>25</td>\n",
       "      <td>hombre</td>\n",
       "      <td>sospechoso</td>\n",
       "      <td>1</td>\n",
       "      <td>0</td>\n",
       "      <td>1</td>\n",
       "    </tr>\n",
       "    <tr>\n",
       "      <th>3</th>\n",
       "      <td>2</td>\n",
       "      <td>1</td>\n",
       "      <td>31</td>\n",
       "      <td>hombre</td>\n",
       "      <td>sospechoso</td>\n",
       "      <td>1</td>\n",
       "      <td>0</td>\n",
       "      <td>0</td>\n",
       "    </tr>\n",
       "    <tr>\n",
       "      <th>4</th>\n",
       "      <td>2</td>\n",
       "      <td>2</td>\n",
       "      <td>33</td>\n",
       "      <td>hombre</td>\n",
       "      <td>victima</td>\n",
       "      <td>0</td>\n",
       "      <td>1</td>\n",
       "      <td>0</td>\n",
       "    </tr>\n",
       "    <tr>\n",
       "      <th>...</th>\n",
       "      <td>...</td>\n",
       "      <td>...</td>\n",
       "      <td>...</td>\n",
       "      <td>...</td>\n",
       "      <td>...</td>\n",
       "      <td>...</td>\n",
       "      <td>...</td>\n",
       "      <td>...</td>\n",
       "    </tr>\n",
       "    <tr>\n",
       "      <th>215782</th>\n",
       "      <td>239673</td>\n",
       "      <td>0</td>\n",
       "      <td>21</td>\n",
       "      <td>hombre</td>\n",
       "      <td>victima</td>\n",
       "      <td>0</td>\n",
       "      <td>1</td>\n",
       "      <td>0</td>\n",
       "    </tr>\n",
       "    <tr>\n",
       "      <th>215783</th>\n",
       "      <td>239674</td>\n",
       "      <td>0</td>\n",
       "      <td>21</td>\n",
       "      <td>hombre</td>\n",
       "      <td>victima</td>\n",
       "      <td>0</td>\n",
       "      <td>0</td>\n",
       "      <td>1</td>\n",
       "    </tr>\n",
       "    <tr>\n",
       "      <th>215784</th>\n",
       "      <td>239675</td>\n",
       "      <td>0</td>\n",
       "      <td>42</td>\n",
       "      <td>hombre</td>\n",
       "      <td>victima</td>\n",
       "      <td>0</td>\n",
       "      <td>1</td>\n",
       "      <td>0</td>\n",
       "    </tr>\n",
       "    <tr>\n",
       "      <th>215785</th>\n",
       "      <td>239676</td>\n",
       "      <td>0</td>\n",
       "      <td>58</td>\n",
       "      <td>mujer</td>\n",
       "      <td>victima</td>\n",
       "      <td>0</td>\n",
       "      <td>1</td>\n",
       "      <td>0</td>\n",
       "    </tr>\n",
       "    <tr>\n",
       "      <th>215786</th>\n",
       "      <td>239676</td>\n",
       "      <td>1</td>\n",
       "      <td>62</td>\n",
       "      <td>hombre</td>\n",
       "      <td>sospechoso</td>\n",
       "      <td>0</td>\n",
       "      <td>1</td>\n",
       "      <td>0</td>\n",
       "    </tr>\n",
       "  </tbody>\n",
       "</table>\n",
       "<p>213754 rows × 8 columns</p>\n",
       "</div>"
      ],
      "text/plain": [
       "        incidente_id  index_participante edad  genero        tipo  arrestado  \\\n",
       "0                  0                   0   20  hombre     victima          1   \n",
       "1                  1                   0   20  hombre     victima          0   \n",
       "2                  2                   0   25  hombre  sospechoso          1   \n",
       "3                  2                   1   31  hombre  sospechoso          1   \n",
       "4                  2                   2   33  hombre     victima          0   \n",
       "...              ...                 ...  ...     ...         ...        ...   \n",
       "215782        239673                   0   21  hombre     victima          0   \n",
       "215783        239674                   0   21  hombre     victima          0   \n",
       "215784        239675                   0   42  hombre     victima          0   \n",
       "215785        239676                   0   58   mujer     victima          0   \n",
       "215786        239676                   1   62  hombre  sospechoso          0   \n",
       "\n",
       "        muerto  herido  \n",
       "0            0       0  \n",
       "1            1       0  \n",
       "2            0       1  \n",
       "3            0       0  \n",
       "4            1       0  \n",
       "...        ...     ...  \n",
       "215782       1       0  \n",
       "215783       0       1  \n",
       "215784       1       0  \n",
       "215785       1       0  \n",
       "215786       1       0  \n",
       "\n",
       "[213754 rows x 8 columns]"
      ]
     },
     "execution_count": 27,
     "metadata": {},
     "output_type": "execute_result"
    }
   ],
   "source": [
    "participantes"
   ]
  },
  {
   "cell_type": "markdown",
   "metadata": {},
   "source": [
    "---\n",
    "## Visualizacion"
   ]
  },
  {
   "cell_type": "markdown",
   "metadata": {},
   "source": [
    "Procedemos a obtener la informacion limpiada"
   ]
  },
  {
   "cell_type": "code",
   "execution_count": 3,
   "metadata": {},
   "outputs": [],
   "source": [
    "incidentes    = pd.read_csv(r\"incidentes.csv\")\n",
    "participantes = pd.read_csv(r\"participantes.csv\")"
   ]
  },
  {
   "cell_type": "markdown",
   "metadata": {},
   "source": [
    "### Incidentes\n",
    "---\n",
    "Visualizaremos primero la informacion de los incidentes"
   ]
  },
  {
   "cell_type": "code",
   "execution_count": 4,
   "metadata": {
    "scrolled": true
   },
   "outputs": [
    {
     "data": {
      "text/html": [
       "<div>\n",
       "<style scoped>\n",
       "    .dataframe tbody tr th:only-of-type {\n",
       "        vertical-align: middle;\n",
       "    }\n",
       "\n",
       "    .dataframe tbody tr th {\n",
       "        vertical-align: top;\n",
       "    }\n",
       "\n",
       "    .dataframe thead th {\n",
       "        text-align: right;\n",
       "    }\n",
       "</style>\n",
       "<table border=\"1\" class=\"dataframe\">\n",
       "  <thead>\n",
       "    <tr style=\"text-align: right;\">\n",
       "      <th></th>\n",
       "      <th>fecha</th>\n",
       "      <th>estado</th>\n",
       "      <th>condado_o_localidad</th>\n",
       "      <th>num_muertos</th>\n",
       "      <th>num_lesionados</th>\n",
       "      <th>armas_involucradas</th>\n",
       "    </tr>\n",
       "  </thead>\n",
       "  <tbody>\n",
       "    <tr>\n",
       "      <th>0</th>\n",
       "      <td>2013-01-01</td>\n",
       "      <td>Pennsylvania</td>\n",
       "      <td>Mckeesport</td>\n",
       "      <td>0</td>\n",
       "      <td>4</td>\n",
       "      <td>0</td>\n",
       "    </tr>\n",
       "    <tr>\n",
       "      <th>1</th>\n",
       "      <td>2013-01-01</td>\n",
       "      <td>California</td>\n",
       "      <td>Hawthorne</td>\n",
       "      <td>1</td>\n",
       "      <td>3</td>\n",
       "      <td>0</td>\n",
       "    </tr>\n",
       "    <tr>\n",
       "      <th>2</th>\n",
       "      <td>2013-01-01</td>\n",
       "      <td>Ohio</td>\n",
       "      <td>Lorain</td>\n",
       "      <td>1</td>\n",
       "      <td>3</td>\n",
       "      <td>2</td>\n",
       "    </tr>\n",
       "    <tr>\n",
       "      <th>3</th>\n",
       "      <td>2013-01-05</td>\n",
       "      <td>Colorado</td>\n",
       "      <td>Aurora</td>\n",
       "      <td>4</td>\n",
       "      <td>0</td>\n",
       "      <td>0</td>\n",
       "    </tr>\n",
       "    <tr>\n",
       "      <th>4</th>\n",
       "      <td>2013-01-07</td>\n",
       "      <td>North Carolina</td>\n",
       "      <td>Greensboro</td>\n",
       "      <td>2</td>\n",
       "      <td>2</td>\n",
       "      <td>2</td>\n",
       "    </tr>\n",
       "  </tbody>\n",
       "</table>\n",
       "</div>"
      ],
      "text/plain": [
       "        fecha          estado condado_o_localidad  num_muertos  \\\n",
       "0  2013-01-01    Pennsylvania          Mckeesport            0   \n",
       "1  2013-01-01      California           Hawthorne            1   \n",
       "2  2013-01-01            Ohio              Lorain            1   \n",
       "3  2013-01-05        Colorado              Aurora            4   \n",
       "4  2013-01-07  North Carolina          Greensboro            2   \n",
       "\n",
       "   num_lesionados  armas_involucradas  \n",
       "0               4                   0  \n",
       "1               3                   0  \n",
       "2               3                   2  \n",
       "3               0                   0  \n",
       "4               2                   2  "
      ]
     },
     "execution_count": 4,
     "metadata": {},
     "output_type": "execute_result"
    }
   ],
   "source": [
    "incidentes.head(5)"
   ]
  },
  {
   "cell_type": "markdown",
   "metadata": {},
   "source": [
    "---\n",
    "Al describir la informacion, podemos observar, por ejemplo, que el promedio de armas involucradas por incidente es de 0.80, pero el promedio de muertos por incidente no es ni la mitad del promedio de armas involucradas, lo que podriamos pensar que no porque haya un arma involucrada, necesariamente tiene que haber muertos.\n",
    "Tambien podemos ver un maximo de los 3 datos presentados, entre los que mas llaman la atencion son numero de muertos con un maximo de 50, de la misma manera tambien vemos las armas involucradas con un maximo de 400"
   ]
  },
  {
   "cell_type": "code",
   "execution_count": 5,
   "metadata": {},
   "outputs": [
    {
     "data": {
      "text/html": [
       "<div>\n",
       "<style scoped>\n",
       "    .dataframe tbody tr th:only-of-type {\n",
       "        vertical-align: middle;\n",
       "    }\n",
       "\n",
       "    .dataframe tbody tr th {\n",
       "        vertical-align: top;\n",
       "    }\n",
       "\n",
       "    .dataframe thead th {\n",
       "        text-align: right;\n",
       "    }\n",
       "</style>\n",
       "<table border=\"1\" class=\"dataframe\">\n",
       "  <thead>\n",
       "    <tr style=\"text-align: right;\">\n",
       "      <th></th>\n",
       "      <th>num_muertos</th>\n",
       "      <th>num_lesionados</th>\n",
       "      <th>armas_involucradas</th>\n",
       "    </tr>\n",
       "  </thead>\n",
       "  <tbody>\n",
       "    <tr>\n",
       "      <th>count</th>\n",
       "      <td>239677.000000</td>\n",
       "      <td>239677.000000</td>\n",
       "      <td>239677.000000</td>\n",
       "    </tr>\n",
       "    <tr>\n",
       "      <th>mean</th>\n",
       "      <td>0.252290</td>\n",
       "      <td>0.494007</td>\n",
       "      <td>0.802964</td>\n",
       "    </tr>\n",
       "    <tr>\n",
       "      <th>std</th>\n",
       "      <td>0.521779</td>\n",
       "      <td>0.729952</td>\n",
       "      <td>3.641656</td>\n",
       "    </tr>\n",
       "    <tr>\n",
       "      <th>min</th>\n",
       "      <td>0.000000</td>\n",
       "      <td>0.000000</td>\n",
       "      <td>0.000000</td>\n",
       "    </tr>\n",
       "    <tr>\n",
       "      <th>25%</th>\n",
       "      <td>0.000000</td>\n",
       "      <td>0.000000</td>\n",
       "      <td>0.000000</td>\n",
       "    </tr>\n",
       "    <tr>\n",
       "      <th>50%</th>\n",
       "      <td>0.000000</td>\n",
       "      <td>0.000000</td>\n",
       "      <td>1.000000</td>\n",
       "    </tr>\n",
       "    <tr>\n",
       "      <th>75%</th>\n",
       "      <td>0.000000</td>\n",
       "      <td>1.000000</td>\n",
       "      <td>1.000000</td>\n",
       "    </tr>\n",
       "    <tr>\n",
       "      <th>max</th>\n",
       "      <td>50.000000</td>\n",
       "      <td>53.000000</td>\n",
       "      <td>400.000000</td>\n",
       "    </tr>\n",
       "  </tbody>\n",
       "</table>\n",
       "</div>"
      ],
      "text/plain": [
       "         num_muertos  num_lesionados  armas_involucradas\n",
       "count  239677.000000   239677.000000       239677.000000\n",
       "mean        0.252290        0.494007            0.802964\n",
       "std         0.521779        0.729952            3.641656\n",
       "min         0.000000        0.000000            0.000000\n",
       "25%         0.000000        0.000000            0.000000\n",
       "50%         0.000000        0.000000            1.000000\n",
       "75%         0.000000        1.000000            1.000000\n",
       "max        50.000000       53.000000          400.000000"
      ]
     },
     "execution_count": 5,
     "metadata": {},
     "output_type": "execute_result"
    }
   ],
   "source": [
    "incidentes.describe()"
   ]
  },
  {
   "cell_type": "markdown",
   "metadata": {},
   "source": [
    "---\n",
    "Al representar la informacion de numero de lesionados en una grafica 'box', podemos observar que la mayor agrupacion de personas lesionadas va entre 0 y 9, bajando la aparicion de estos a partir de 10, alcanzando hasta un maximo de 53, pudiendo inferir que los demas serian casos aislados"
   ]
  },
  {
   "cell_type": "code",
   "execution_count": 6,
   "metadata": {},
   "outputs": [
    {
     "data": {
      "text/plain": [
       "<matplotlib.axes._subplots.AxesSubplot at 0x7fad4bb92f10>"
      ]
     },
     "execution_count": 6,
     "metadata": {},
     "output_type": "execute_result"
    },
    {
     "data": {
      "image/png": "[encoded data removed]",
      "text/plain": [
       "<Figure size 720x216 with 1 Axes>"
      ]
     },
     "metadata": {
      "needs_background": "light"
     },
     "output_type": "display_data"
    }
   ],
   "source": [
    "incidentes.num_lesionados.plot(kind='box', vert=False, figsize=(10,3))"
   ]
  },
  {
   "cell_type": "markdown",
   "metadata": {},
   "source": [
    "De la misma manera, con la cantidad de muertos por incidente, podemos observar menos presencia de estos, teniendo mas agrupacion en la primer porcion de la grafica"
   ]
  },
  {
   "cell_type": "code",
   "execution_count": 7,
   "metadata": {},
   "outputs": [
    {
     "data": {
      "text/plain": [
       "<matplotlib.axes._subplots.AxesSubplot at 0x7fad4ad3e790>"
      ]
     },
     "execution_count": 7,
     "metadata": {},
     "output_type": "execute_result"
    },
    {
     "data": {
      "image/png": "[encoded data removed]",
      "text/plain": [
       "<Figure size 720x288 with 1 Axes>"
      ]
     },
     "metadata": {
      "needs_background": "light"
     },
     "output_type": "display_data"
    }
   ],
   "source": [
    "incidentes.num_muertos.plot(kind='box', vert=False, figsize=(10,4))"
   ]
  },
  {
   "cell_type": "markdown",
   "metadata": {},
   "source": [
    "Si hacemos una grafica de densidad para el numero de lesionados, concuerda con lo anterior dicho, ya que hay mas precencia de estos en las primeras cantidades"
   ]
  },
  {
   "cell_type": "code",
   "execution_count": 8,
   "metadata": {},
   "outputs": [
    {
     "data": {
      "text/plain": [
       "<matplotlib.axes._subplots.AxesSubplot at 0x7fad4c914c50>"
      ]
     },
     "execution_count": 8,
     "metadata": {},
     "output_type": "execute_result"
    },
    {
     "data": {
      "image/png": "[encoded data removed]",
      "text/plain": [
       "<Figure size 720x288 with 1 Axes>"
      ]
     },
     "metadata": {
      "needs_background": "light"
     },
     "output_type": "display_data"
    }
   ],
   "source": [
    "incidentes.num_lesionados.plot(kind='density',  figsize=(10,4))"
   ]
  },
  {
   "cell_type": "markdown",
   "metadata": {},
   "source": [
    "Para tener una mejor visualizacoin de los datos, tomaremos la columna de numero de muertos, filtrando por los que tengan menos de 5 muertos(tomando como referencia a las graficas anteriores), y dibujamos lineas verticales para la mediana y el promedio, las cuales concuerdan concuerdan con la informacion que tenemos arriba."
   ]
  },
  {
   "cell_type": "code",
   "execution_count": 9,
   "metadata": {},
   "outputs": [
    {
     "data": {
      "text/plain": [
       "<matplotlib.lines.Line2D at 0x7fad47630790>"
      ]
     },
     "execution_count": 9,
     "metadata": {},
     "output_type": "execute_result"
    },
    {
     "data": {
      "image/png": "[encoded data removed]",
      "text/plain": [
       "<Figure size 720x288 with 1 Axes>"
      ]
     },
     "metadata": {
      "needs_background": "light"
     },
     "output_type": "display_data"
    }
   ],
   "source": [
    "muertos_grafica = incidentes[incidentes.num_muertos <5].num_muertos.plot(kind='density',  figsize=(10,4))\n",
    "muertos_grafica.axvline(incidentes[incidentes.num_muertos <5].num_muertos.mean(), color=\"green\")\n",
    "muertos_grafica.axvline(incidentes[incidentes.num_muertos <5].num_muertos.median(), color=\"yellow\")"
   ]
  },
  {
   "cell_type": "markdown",
   "metadata": {},
   "source": [
    "---\n",
    "Hacemos otra grafica tipo histograma, que evidentemente sigue la tendencia de la graficas anteriores, sin embargo, hacemos mucho enfasis en el numero de muertos, porque una de nuestras preguntas de interes es determinar cuales son los estados mas peligrosos o mortales, por lo que es importante saber en que rango se situan la mayor presencia de estos."
   ]
  },
  {
   "cell_type": "code",
   "execution_count": 10,
   "metadata": {},
   "outputs": [
    {
     "data": {
      "text/plain": [
       "<matplotlib.axes._subplots.AxesSubplot at 0x7fad475c2a50>"
      ]
     },
     "execution_count": 10,
     "metadata": {},
     "output_type": "execute_result"
    },
    {
     "data": {
      "image/png": "[encoded data removed]",
      "text/plain": [
       "<Figure size 720x288 with 1 Axes>"
      ]
     },
     "metadata": {
      "needs_background": "light"
     },
     "output_type": "display_data"
    }
   ],
   "source": [
    "incidentes[incidentes.num_muertos <5].num_muertos.plot(kind='hist',  figsize=(10,4))"
   ]
  },
  {
   "cell_type": "markdown",
   "metadata": {},
   "source": [
    "Agrupando los datos por frecuencia en estados, donde la cantidad de num_muertos es mayor a 1, nos damos cuenta que los estados que **mas incidentes** presenta son los siguientes"
   ]
  },
  {
   "cell_type": "code",
   "execution_count": 11,
   "metadata": {
    "scrolled": true
   },
   "outputs": [
    {
     "data": {
      "text/plain": [
       "<matplotlib.axes._subplots.AxesSubplot at 0x7fad47565090>"
      ]
     },
     "execution_count": 11,
     "metadata": {},
     "output_type": "execute_result"
    },
    {
     "data": {
      "image/png": "[encoded data removed]",
      "text/plain": [
       "<Figure size 432x288 with 1 Axes>"
      ]
     },
     "metadata": {
      "needs_background": "light"
     },
     "output_type": "display_data"
    }
   ],
   "source": [
    "incidentes[incidentes.num_muertos > 1 ]['estado'].value_counts().head(10).plot.bar()"
   ]
  },
  {
   "cell_type": "markdown",
   "metadata": {},
   "source": [
    "Para el conteo de armas involucradas, podemos observar como predominan, los incidentes con 1 o menos armas de fuego, mientras que las otras aparecen en grupos mas reducido"
   ]
  },
  {
   "cell_type": "code",
   "execution_count": 12,
   "metadata": {},
   "outputs": [
    {
     "data": {
      "text/plain": [
       "<matplotlib.axes._subplots.AxesSubplot at 0x7fad46623950>"
      ]
     },
     "execution_count": 12,
     "metadata": {},
     "output_type": "execute_result"
    },
    {
     "data": {
      "image/png": "[encoded data removed]",
      "text/plain": [
       "<Figure size 432x288 with 1 Axes>"
      ]
     },
     "metadata": {},
     "output_type": "display_data"
    }
   ],
   "source": [
    "temp1 = incidentes['armas_involucradas'].apply(lambda x : \"4+\" if x>4 else str(x))\n",
    "temp = temp1.value_counts()\n",
    "df = pd.DataFrame({'labels': temp.index,\n",
    "                   'values': temp.values\n",
    "                  })\n",
    "df.plot.pie( y=\"values\", x=\"labels\" )"
   ]
  },
  {
   "cell_type": "markdown",
   "metadata": {},
   "source": [
    "---\n",
    "Al hacer una relacion entre las columnas, lamentablemente no encontramos una relacion tan fuerte como esperabamos, lo mas cercando podria ser las armas involucradas con el numero de muertos."
   ]
  },
  {
   "cell_type": "code",
   "execution_count": 13,
   "metadata": {},
   "outputs": [
    {
     "data": {
      "text/html": [
       "<div>\n",
       "<style scoped>\n",
       "    .dataframe tbody tr th:only-of-type {\n",
       "        vertical-align: middle;\n",
       "    }\n",
       "\n",
       "    .dataframe tbody tr th {\n",
       "        vertical-align: top;\n",
       "    }\n",
       "\n",
       "    .dataframe thead th {\n",
       "        text-align: right;\n",
       "    }\n",
       "</style>\n",
       "<table border=\"1\" class=\"dataframe\">\n",
       "  <thead>\n",
       "    <tr style=\"text-align: right;\">\n",
       "      <th></th>\n",
       "      <th>num_muertos</th>\n",
       "      <th>num_lesionados</th>\n",
       "      <th>armas_involucradas</th>\n",
       "    </tr>\n",
       "  </thead>\n",
       "  <tbody>\n",
       "    <tr>\n",
       "      <th>num_muertos</th>\n",
       "      <td>1.000000</td>\n",
       "      <td>-0.125425</td>\n",
       "      <td>-0.021718</td>\n",
       "    </tr>\n",
       "    <tr>\n",
       "      <th>num_lesionados</th>\n",
       "      <td>-0.125425</td>\n",
       "      <td>1.000000</td>\n",
       "      <td>-0.041273</td>\n",
       "    </tr>\n",
       "    <tr>\n",
       "      <th>armas_involucradas</th>\n",
       "      <td>-0.021718</td>\n",
       "      <td>-0.041273</td>\n",
       "      <td>1.000000</td>\n",
       "    </tr>\n",
       "  </tbody>\n",
       "</table>\n",
       "</div>"
      ],
      "text/plain": [
       "                    num_muertos  num_lesionados  armas_involucradas\n",
       "num_muertos            1.000000       -0.125425           -0.021718\n",
       "num_lesionados        -0.125425        1.000000           -0.041273\n",
       "armas_involucradas    -0.021718       -0.041273            1.000000"
      ]
     },
     "execution_count": 13,
     "metadata": {},
     "output_type": "execute_result"
    }
   ],
   "source": [
    "relacion = incidentes.corr()\n",
    "relacion"
   ]
  },
  {
   "cell_type": "code",
   "execution_count": 14,
   "metadata": {},
   "outputs": [
    {
     "data": {
      "text/plain": [
       "([<matplotlib.axis.YTick at 0x7fad46533990>,\n",
       "  <matplotlib.axis.YTick at 0x7fad4757acd0>,\n",
       "  <matplotlib.axis.YTick at 0x7fad465ab650>],\n",
       " <a list of 3 Text yticklabel objects>)"
      ]
     },
     "execution_count": 14,
     "metadata": {},
     "output_type": "execute_result"
    },
    {
     "data": {
      "image/png": "[encoded data removed]",
      "text/plain": [
       "<Figure size 576x576 with 1 Axes>"
      ]
     },
     "metadata": {
      "needs_background": "light"
     },
     "output_type": "display_data"
    }
   ],
   "source": [
    "grafica = plt.figure(figsize=(8,8))\n",
    "plt.matshow(relacion, cmap='RdBu', fignum=grafica.number)\n",
    "plt.xticks(range(len(relacion.columns)), relacion.columns, rotation=\"vertical\")\n",
    "plt.yticks(range(len(relacion.columns)), relacion.columns)"
   ]
  },
  {
   "cell_type": "markdown",
   "metadata": {},
   "source": [
    "---\n",
    "### Participantes\n",
    "Ahora visualizaremos los datos de los participantes"
   ]
  },
  {
   "cell_type": "code",
   "execution_count": 15,
   "metadata": {},
   "outputs": [
    {
     "data": {
      "text/html": [
       "<div>\n",
       "<style scoped>\n",
       "    .dataframe tbody tr th:only-of-type {\n",
       "        vertical-align: middle;\n",
       "    }\n",
       "\n",
       "    .dataframe tbody tr th {\n",
       "        vertical-align: top;\n",
       "    }\n",
       "\n",
       "    .dataframe thead th {\n",
       "        text-align: right;\n",
       "    }\n",
       "</style>\n",
       "<table border=\"1\" class=\"dataframe\">\n",
       "  <thead>\n",
       "    <tr style=\"text-align: right;\">\n",
       "      <th></th>\n",
       "      <th>incidente_id</th>\n",
       "      <th>index_participante</th>\n",
       "      <th>edad</th>\n",
       "      <th>genero</th>\n",
       "      <th>tipo</th>\n",
       "      <th>arrestado</th>\n",
       "      <th>muerto</th>\n",
       "      <th>herido</th>\n",
       "    </tr>\n",
       "  </thead>\n",
       "  <tbody>\n",
       "    <tr>\n",
       "      <th>0</th>\n",
       "      <td>0</td>\n",
       "      <td>0</td>\n",
       "      <td>20</td>\n",
       "      <td>hombre</td>\n",
       "      <td>victima</td>\n",
       "      <td>1</td>\n",
       "      <td>0</td>\n",
       "      <td>0</td>\n",
       "    </tr>\n",
       "    <tr>\n",
       "      <th>1</th>\n",
       "      <td>1</td>\n",
       "      <td>0</td>\n",
       "      <td>20</td>\n",
       "      <td>hombre</td>\n",
       "      <td>victima</td>\n",
       "      <td>0</td>\n",
       "      <td>1</td>\n",
       "      <td>0</td>\n",
       "    </tr>\n",
       "    <tr>\n",
       "      <th>2</th>\n",
       "      <td>2</td>\n",
       "      <td>0</td>\n",
       "      <td>25</td>\n",
       "      <td>hombre</td>\n",
       "      <td>sospechoso</td>\n",
       "      <td>1</td>\n",
       "      <td>0</td>\n",
       "      <td>1</td>\n",
       "    </tr>\n",
       "    <tr>\n",
       "      <th>3</th>\n",
       "      <td>2</td>\n",
       "      <td>1</td>\n",
       "      <td>31</td>\n",
       "      <td>hombre</td>\n",
       "      <td>sospechoso</td>\n",
       "      <td>1</td>\n",
       "      <td>0</td>\n",
       "      <td>0</td>\n",
       "    </tr>\n",
       "    <tr>\n",
       "      <th>4</th>\n",
       "      <td>2</td>\n",
       "      <td>2</td>\n",
       "      <td>33</td>\n",
       "      <td>hombre</td>\n",
       "      <td>victima</td>\n",
       "      <td>0</td>\n",
       "      <td>1</td>\n",
       "      <td>0</td>\n",
       "    </tr>\n",
       "  </tbody>\n",
       "</table>\n",
       "</div>"
      ],
      "text/plain": [
       "   incidente_id  index_participante  edad  genero        tipo  arrestado  \\\n",
       "0             0                   0    20  hombre     victima          1   \n",
       "1             1                   0    20  hombre     victima          0   \n",
       "2             2                   0    25  hombre  sospechoso          1   \n",
       "3             2                   1    31  hombre  sospechoso          1   \n",
       "4             2                   2    33  hombre     victima          0   \n",
       "\n",
       "   muerto  herido  \n",
       "0       0       0  \n",
       "1       1       0  \n",
       "2       0       1  \n",
       "3       0       0  \n",
       "4       1       0  "
      ]
     },
     "execution_count": 15,
     "metadata": {},
     "output_type": "execute_result"
    }
   ],
   "source": [
    "participantes.head(5)"
   ]
  },
  {
   "cell_type": "markdown",
   "metadata": {},
   "source": [
    "\n",
    "Al describir las columnas, podemos observar diferentes aspectos:\n",
    "- la mayor edad de un participante es 101\n",
    "- el promedio de edad es de 29\n",
    "- en un incidente puede haber hasta 66 participantes"
   ]
  },
  {
   "cell_type": "code",
   "execution_count": 16,
   "metadata": {},
   "outputs": [
    {
     "data": {
      "text/html": [
       "<div>\n",
       "<style scoped>\n",
       "    .dataframe tbody tr th:only-of-type {\n",
       "        vertical-align: middle;\n",
       "    }\n",
       "\n",
       "    .dataframe tbody tr th {\n",
       "        vertical-align: top;\n",
       "    }\n",
       "\n",
       "    .dataframe thead th {\n",
       "        text-align: right;\n",
       "    }\n",
       "</style>\n",
       "<table border=\"1\" class=\"dataframe\">\n",
       "  <thead>\n",
       "    <tr style=\"text-align: right;\">\n",
       "      <th></th>\n",
       "      <th>incidente_id</th>\n",
       "      <th>index_participante</th>\n",
       "      <th>edad</th>\n",
       "      <th>arrestado</th>\n",
       "      <th>muerto</th>\n",
       "      <th>herido</th>\n",
       "    </tr>\n",
       "  </thead>\n",
       "  <tbody>\n",
       "    <tr>\n",
       "      <th>count</th>\n",
       "      <td>213754.000000</td>\n",
       "      <td>213754.000000</td>\n",
       "      <td>213754.000000</td>\n",
       "      <td>213754.000000</td>\n",
       "      <td>213754.000000</td>\n",
       "      <td>213754.000000</td>\n",
       "    </tr>\n",
       "    <tr>\n",
       "      <th>mean</th>\n",
       "      <td>122521.918795</td>\n",
       "      <td>0.529773</td>\n",
       "      <td>29.568083</td>\n",
       "      <td>0.329206</td>\n",
       "      <td>0.236744</td>\n",
       "      <td>0.317182</td>\n",
       "    </tr>\n",
       "    <tr>\n",
       "      <th>std</th>\n",
       "      <td>67484.349724</td>\n",
       "      <td>1.360625</td>\n",
       "      <td>13.091172</td>\n",
       "      <td>0.469926</td>\n",
       "      <td>0.425085</td>\n",
       "      <td>0.465380</td>\n",
       "    </tr>\n",
       "    <tr>\n",
       "      <th>min</th>\n",
       "      <td>0.000000</td>\n",
       "      <td>0.000000</td>\n",
       "      <td>0.000000</td>\n",
       "      <td>0.000000</td>\n",
       "      <td>0.000000</td>\n",
       "      <td>0.000000</td>\n",
       "    </tr>\n",
       "    <tr>\n",
       "      <th>25%</th>\n",
       "      <td>65447.250000</td>\n",
       "      <td>0.000000</td>\n",
       "      <td>20.000000</td>\n",
       "      <td>0.000000</td>\n",
       "      <td>0.000000</td>\n",
       "      <td>0.000000</td>\n",
       "    </tr>\n",
       "    <tr>\n",
       "      <th>50%</th>\n",
       "      <td>123121.500000</td>\n",
       "      <td>0.000000</td>\n",
       "      <td>26.000000</td>\n",
       "      <td>0.000000</td>\n",
       "      <td>0.000000</td>\n",
       "      <td>0.000000</td>\n",
       "    </tr>\n",
       "    <tr>\n",
       "      <th>75%</th>\n",
       "      <td>180069.500000</td>\n",
       "      <td>1.000000</td>\n",
       "      <td>35.000000</td>\n",
       "      <td>1.000000</td>\n",
       "      <td>0.000000</td>\n",
       "      <td>1.000000</td>\n",
       "    </tr>\n",
       "    <tr>\n",
       "      <th>max</th>\n",
       "      <td>239676.000000</td>\n",
       "      <td>65.000000</td>\n",
       "      <td>101.000000</td>\n",
       "      <td>1.000000</td>\n",
       "      <td>1.000000</td>\n",
       "      <td>1.000000</td>\n",
       "    </tr>\n",
       "  </tbody>\n",
       "</table>\n",
       "</div>"
      ],
      "text/plain": [
       "        incidente_id  index_participante           edad      arrestado  \\\n",
       "count  213754.000000       213754.000000  213754.000000  213754.000000   \n",
       "mean   122521.918795            0.529773      29.568083       0.329206   \n",
       "std     67484.349724            1.360625      13.091172       0.469926   \n",
       "min         0.000000            0.000000       0.000000       0.000000   \n",
       "25%     65447.250000            0.000000      20.000000       0.000000   \n",
       "50%    123121.500000            0.000000      26.000000       0.000000   \n",
       "75%    180069.500000            1.000000      35.000000       1.000000   \n",
       "max    239676.000000           65.000000     101.000000       1.000000   \n",
       "\n",
       "              muerto         herido  \n",
       "count  213754.000000  213754.000000  \n",
       "mean        0.236744       0.317182  \n",
       "std         0.425085       0.465380  \n",
       "min         0.000000       0.000000  \n",
       "25%         0.000000       0.000000  \n",
       "50%         0.000000       0.000000  \n",
       "75%         0.000000       1.000000  \n",
       "max         1.000000       1.000000  "
      ]
     },
     "execution_count": 16,
     "metadata": {},
     "output_type": "execute_result"
    }
   ],
   "source": [
    "participantes.describe()"
   ]
  },
  {
   "cell_type": "markdown",
   "metadata": {},
   "source": [
    "Al describir los datos cuando el tipo de participante es sospechoso, observamos un par de diferencias, sobre todo en el estatus del participante, mientras que en el listado general, aparece que en promedio el 0.32 es arrestado, en el caso de los sospechosos aumenta drasticamente hasta 0.75 y los muertos pasan de 0.23  a 0.06, lo cual indicaría que los participantes tipo victima serian los mas afectados en esta area"
   ]
  },
  {
   "cell_type": "code",
   "execution_count": 17,
   "metadata": {},
   "outputs": [
    {
     "data": {
      "text/html": [
       "<div>\n",
       "<style scoped>\n",
       "    .dataframe tbody tr th:only-of-type {\n",
       "        vertical-align: middle;\n",
       "    }\n",
       "\n",
       "    .dataframe tbody tr th {\n",
       "        vertical-align: top;\n",
       "    }\n",
       "\n",
       "    .dataframe thead th {\n",
       "        text-align: right;\n",
       "    }\n",
       "</style>\n",
       "<table border=\"1\" class=\"dataframe\">\n",
       "  <thead>\n",
       "    <tr style=\"text-align: right;\">\n",
       "      <th></th>\n",
       "      <th>incidente_id</th>\n",
       "      <th>index_participante</th>\n",
       "      <th>edad</th>\n",
       "      <th>arrestado</th>\n",
       "      <th>muerto</th>\n",
       "      <th>herido</th>\n",
       "    </tr>\n",
       "  </thead>\n",
       "  <tbody>\n",
       "    <tr>\n",
       "      <th>count</th>\n",
       "      <td>91732.000000</td>\n",
       "      <td>91732.000000</td>\n",
       "      <td>91732.000000</td>\n",
       "      <td>91732.000000</td>\n",
       "      <td>91732.000000</td>\n",
       "      <td>91732.000000</td>\n",
       "    </tr>\n",
       "    <tr>\n",
       "      <th>mean</th>\n",
       "      <td>128545.359166</td>\n",
       "      <td>0.899948</td>\n",
       "      <td>29.192168</td>\n",
       "      <td>0.750709</td>\n",
       "      <td>0.066912</td>\n",
       "      <td>0.043224</td>\n",
       "    </tr>\n",
       "    <tr>\n",
       "      <th>std</th>\n",
       "      <td>66320.001122</td>\n",
       "      <td>1.498702</td>\n",
       "      <td>12.205517</td>\n",
       "      <td>0.432605</td>\n",
       "      <td>0.249871</td>\n",
       "      <td>0.203361</td>\n",
       "    </tr>\n",
       "    <tr>\n",
       "      <th>min</th>\n",
       "      <td>2.000000</td>\n",
       "      <td>0.000000</td>\n",
       "      <td>0.000000</td>\n",
       "      <td>0.000000</td>\n",
       "      <td>0.000000</td>\n",
       "      <td>0.000000</td>\n",
       "    </tr>\n",
       "    <tr>\n",
       "      <th>25%</th>\n",
       "      <td>73471.750000</td>\n",
       "      <td>0.000000</td>\n",
       "      <td>20.000000</td>\n",
       "      <td>1.000000</td>\n",
       "      <td>0.000000</td>\n",
       "      <td>0.000000</td>\n",
       "    </tr>\n",
       "    <tr>\n",
       "      <th>50%</th>\n",
       "      <td>130186.000000</td>\n",
       "      <td>1.000000</td>\n",
       "      <td>26.000000</td>\n",
       "      <td>1.000000</td>\n",
       "      <td>0.000000</td>\n",
       "      <td>0.000000</td>\n",
       "    </tr>\n",
       "    <tr>\n",
       "      <th>75%</th>\n",
       "      <td>185270.250000</td>\n",
       "      <td>1.000000</td>\n",
       "      <td>35.000000</td>\n",
       "      <td>1.000000</td>\n",
       "      <td>0.000000</td>\n",
       "      <td>0.000000</td>\n",
       "    </tr>\n",
       "    <tr>\n",
       "      <th>max</th>\n",
       "      <td>239676.000000</td>\n",
       "      <td>58.000000</td>\n",
       "      <td>98.000000</td>\n",
       "      <td>1.000000</td>\n",
       "      <td>1.000000</td>\n",
       "      <td>1.000000</td>\n",
       "    </tr>\n",
       "  </tbody>\n",
       "</table>\n",
       "</div>"
      ],
      "text/plain": [
       "        incidente_id  index_participante          edad     arrestado  \\\n",
       "count   91732.000000        91732.000000  91732.000000  91732.000000   \n",
       "mean   128545.359166            0.899948     29.192168      0.750709   \n",
       "std     66320.001122            1.498702     12.205517      0.432605   \n",
       "min         2.000000            0.000000      0.000000      0.000000   \n",
       "25%     73471.750000            0.000000     20.000000      1.000000   \n",
       "50%    130186.000000            1.000000     26.000000      1.000000   \n",
       "75%    185270.250000            1.000000     35.000000      1.000000   \n",
       "max    239676.000000           58.000000     98.000000      1.000000   \n",
       "\n",
       "             muerto        herido  \n",
       "count  91732.000000  91732.000000  \n",
       "mean       0.066912      0.043224  \n",
       "std        0.249871      0.203361  \n",
       "min        0.000000      0.000000  \n",
       "25%        0.000000      0.000000  \n",
       "50%        0.000000      0.000000  \n",
       "75%        0.000000      0.000000  \n",
       "max        1.000000      1.000000  "
      ]
     },
     "execution_count": 17,
     "metadata": {},
     "output_type": "execute_result"
    }
   ],
   "source": [
    "participantes[participantes['tipo'] == 'sospechoso'].describe()"
   ]
  },
  {
   "cell_type": "markdown",
   "metadata": {},
   "source": [
    "Efectivamente, en el apartado de muerto, el promedio aumenta hasta 0.36, lo cual es incluso mayor al promedio general, sin embargo el que mas aumenta de sobre manera es el de herido, pasando de 0.04 de sospechosos a 0.52 en victimas"
   ]
  },
  {
   "cell_type": "code",
   "execution_count": 18,
   "metadata": {},
   "outputs": [
    {
     "data": {
      "text/html": [
       "<div>\n",
       "<style scoped>\n",
       "    .dataframe tbody tr th:only-of-type {\n",
       "        vertical-align: middle;\n",
       "    }\n",
       "\n",
       "    .dataframe tbody tr th {\n",
       "        vertical-align: top;\n",
       "    }\n",
       "\n",
       "    .dataframe thead th {\n",
       "        text-align: right;\n",
       "    }\n",
       "</style>\n",
       "<table border=\"1\" class=\"dataframe\">\n",
       "  <thead>\n",
       "    <tr style=\"text-align: right;\">\n",
       "      <th></th>\n",
       "      <th>incidente_id</th>\n",
       "      <th>index_participante</th>\n",
       "      <th>edad</th>\n",
       "      <th>arrestado</th>\n",
       "      <th>muerto</th>\n",
       "      <th>herido</th>\n",
       "    </tr>\n",
       "  </thead>\n",
       "  <tbody>\n",
       "    <tr>\n",
       "      <th>count</th>\n",
       "      <td>122022.000000</td>\n",
       "      <td>122022.000000</td>\n",
       "      <td>122022.000000</td>\n",
       "      <td>122022.000000</td>\n",
       "      <td>122022.000000</td>\n",
       "      <td>122022.000000</td>\n",
       "    </tr>\n",
       "    <tr>\n",
       "      <th>mean</th>\n",
       "      <td>117993.700669</td>\n",
       "      <td>0.251487</td>\n",
       "      <td>29.850683</td>\n",
       "      <td>0.012334</td>\n",
       "      <td>0.364418</td>\n",
       "      <td>0.523135</td>\n",
       "    </tr>\n",
       "    <tr>\n",
       "      <th>std</th>\n",
       "      <td>67996.435109</td>\n",
       "      <td>1.172201</td>\n",
       "      <td>13.712648</td>\n",
       "      <td>0.110371</td>\n",
       "      <td>0.481269</td>\n",
       "      <td>0.499467</td>\n",
       "    </tr>\n",
       "    <tr>\n",
       "      <th>min</th>\n",
       "      <td>0.000000</td>\n",
       "      <td>0.000000</td>\n",
       "      <td>0.000000</td>\n",
       "      <td>0.000000</td>\n",
       "      <td>0.000000</td>\n",
       "      <td>0.000000</td>\n",
       "    </tr>\n",
       "    <tr>\n",
       "      <th>25%</th>\n",
       "      <td>59539.500000</td>\n",
       "      <td>0.000000</td>\n",
       "      <td>20.000000</td>\n",
       "      <td>0.000000</td>\n",
       "      <td>0.000000</td>\n",
       "      <td>0.000000</td>\n",
       "    </tr>\n",
       "    <tr>\n",
       "      <th>50%</th>\n",
       "      <td>117755.500000</td>\n",
       "      <td>0.000000</td>\n",
       "      <td>26.000000</td>\n",
       "      <td>0.000000</td>\n",
       "      <td>0.000000</td>\n",
       "      <td>1.000000</td>\n",
       "    </tr>\n",
       "    <tr>\n",
       "      <th>75%</th>\n",
       "      <td>175675.750000</td>\n",
       "      <td>0.000000</td>\n",
       "      <td>36.000000</td>\n",
       "      <td>0.000000</td>\n",
       "      <td>1.000000</td>\n",
       "      <td>1.000000</td>\n",
       "    </tr>\n",
       "    <tr>\n",
       "      <th>max</th>\n",
       "      <td>239676.000000</td>\n",
       "      <td>65.000000</td>\n",
       "      <td>101.000000</td>\n",
       "      <td>1.000000</td>\n",
       "      <td>1.000000</td>\n",
       "      <td>1.000000</td>\n",
       "    </tr>\n",
       "  </tbody>\n",
       "</table>\n",
       "</div>"
      ],
      "text/plain": [
       "        incidente_id  index_participante           edad      arrestado  \\\n",
       "count  122022.000000       122022.000000  122022.000000  122022.000000   \n",
       "mean   117993.700669            0.251487      29.850683       0.012334   \n",
       "std     67996.435109            1.172201      13.712648       0.110371   \n",
       "min         0.000000            0.000000       0.000000       0.000000   \n",
       "25%     59539.500000            0.000000      20.000000       0.000000   \n",
       "50%    117755.500000            0.000000      26.000000       0.000000   \n",
       "75%    175675.750000            0.000000      36.000000       0.000000   \n",
       "max    239676.000000           65.000000     101.000000       1.000000   \n",
       "\n",
       "              muerto         herido  \n",
       "count  122022.000000  122022.000000  \n",
       "mean        0.364418       0.523135  \n",
       "std         0.481269       0.499467  \n",
       "min         0.000000       0.000000  \n",
       "25%         0.000000       0.000000  \n",
       "50%         0.000000       1.000000  \n",
       "75%         1.000000       1.000000  \n",
       "max         1.000000       1.000000  "
      ]
     },
     "execution_count": 18,
     "metadata": {},
     "output_type": "execute_result"
    }
   ],
   "source": [
    "participantes[participantes['tipo'] == 'victima'].describe()"
   ]
  },
  {
   "cell_type": "markdown",
   "metadata": {},
   "source": [
    "---\n",
    "Agrupando los datos por tipo, podemos observar que las victimas superan en frecuencia a los sospechosos, asi como predomina la cantidad de hombres en los incidentes."
   ]
  },
  {
   "cell_type": "code",
   "execution_count": 19,
   "metadata": {},
   "outputs": [
    {
     "data": {
      "text/plain": [
       "<matplotlib.axes._subplots.AxesSubplot at 0x7fad4cc36710>"
      ]
     },
     "execution_count": 19,
     "metadata": {},
     "output_type": "execute_result"
    },
    {
     "data": {
      "image/png": "[encoded data removed]",
      "text/plain": [
       "<Figure size 432x288 with 1 Axes>"
      ]
     },
     "metadata": {
      "needs_background": "light"
     },
     "output_type": "display_data"
    }
   ],
   "source": [
    "participantes.groupby(['tipo', 'genero'])['tipo'].count().plot.bar(y='frecuency', stacked=True)\n"
   ]
  },
  {
   "cell_type": "markdown",
   "metadata": {},
   "source": [
    "En esta Grafica, agrupada por edad, observamos que la frecuencia aumenta drasticamente, al llegar a 20 años, pero apartir de ahi, sigue una tendencia a la baja."
   ]
  },
  {
   "cell_type": "code",
   "execution_count": 20,
   "metadata": {},
   "outputs": [
    {
     "data": {
      "text/plain": [
       "<matplotlib.axes._subplots.AxesSubplot at 0x7fad46470310>"
      ]
     },
     "execution_count": 20,
     "metadata": {},
     "output_type": "execute_result"
    },
    {
     "data": {
      "image/png": "[encoded data removed]",
      "text/plain": [
       "<Figure size 432x288 with 1 Axes>"
      ]
     },
     "metadata": {
      "needs_background": "light"
     },
     "output_type": "display_data"
    }
   ],
   "source": [
    "participantes.groupby(['edad'])['edad'].count().plot.line(y='frecuency')"
   ]
  },
  {
   "cell_type": "markdown",
   "metadata": {},
   "source": [
    "Sin embargo, si hacemos una comparacion de la misma grafica, pero filtrada por tipo, podemos observar que no hay mucha diferencia entre si"
   ]
  },
  {
   "cell_type": "code",
   "execution_count": 21,
   "metadata": {},
   "outputs": [
    {
     "data": {
      "text/plain": [
       "<matplotlib.axes._subplots.AxesSubplot at 0x7fad4643cf90>"
      ]
     },
     "execution_count": 21,
     "metadata": {},
     "output_type": "execute_result"
    },
    {
     "data": {
      "image/png": "[encoded data removed]",
      "text/plain": [
       "<Figure size 432x288 with 1 Axes>"
      ]
     },
     "metadata": {
      "needs_background": "light"
     },
     "output_type": "display_data"
    }
   ],
   "source": [
    "participantes[participantes.tipo=='sospechoso'].groupby(['edad'])['edad'].count().plot.line(y='frecuency')"
   ]
  },
  {
   "cell_type": "code",
   "execution_count": 22,
   "metadata": {
    "scrolled": true
   },
   "outputs": [
    {
     "data": {
      "text/plain": [
       "<matplotlib.axes._subplots.AxesSubplot at 0x7fad46423550>"
      ]
     },
     "execution_count": 22,
     "metadata": {},
     "output_type": "execute_result"
    },
    {
     "data": {
      "image/png": "[encoded data removed]",
      "text/plain": [
       "<Figure size 432x288 with 1 Axes>"
      ]
     },
     "metadata": {
      "needs_background": "light"
     },
     "output_type": "display_data"
    }
   ],
   "source": [
    "participantes[participantes.tipo=='victima'].groupby(['edad'])['edad'].count().plot.line(y='frecuency')"
   ]
  },
  {
   "cell_type": "markdown",
   "metadata": {},
   "source": [
    "Haciendo un filtrado por los participantes tipo victima, observamos que mas de la mitad, no murieron a causa del incidente, sin embargo, con esos mas de 44 mil podriamos obtener algunas predicciones"
   ]
  },
  {
   "cell_type": "code",
   "execution_count": 23,
   "metadata": {},
   "outputs": [
    {
     "data": {
      "text/html": [
       "<div>\n",
       "<style scoped>\n",
       "    .dataframe tbody tr th:only-of-type {\n",
       "        vertical-align: middle;\n",
       "    }\n",
       "\n",
       "    .dataframe tbody tr th {\n",
       "        vertical-align: top;\n",
       "    }\n",
       "\n",
       "    .dataframe thead th {\n",
       "        text-align: right;\n",
       "    }\n",
       "</style>\n",
       "<table border=\"1\" class=\"dataframe\">\n",
       "  <thead>\n",
       "    <tr style=\"text-align: right;\">\n",
       "      <th></th>\n",
       "      <th>muerto</th>\n",
       "      <th>count</th>\n",
       "    </tr>\n",
       "  </thead>\n",
       "  <tbody>\n",
       "    <tr>\n",
       "      <th>0</th>\n",
       "      <td>0</td>\n",
       "      <td>77555</td>\n",
       "    </tr>\n",
       "    <tr>\n",
       "      <th>1</th>\n",
       "      <td>1</td>\n",
       "      <td>44467</td>\n",
       "    </tr>\n",
       "  </tbody>\n",
       "</table>\n",
       "</div>"
      ],
      "text/plain": [
       "   muerto  count\n",
       "0       0  77555\n",
       "1       1  44467"
      ]
     },
     "execution_count": 23,
     "metadata": {},
     "output_type": "execute_result"
    }
   ],
   "source": [
    "participantes[participantes.tipo =='victima'].groupby('muerto')['muerto'].count().reset_index(name='count')"
   ]
  },
  {
   "cell_type": "markdown",
   "metadata": {},
   "source": [
    "Al observar si hay una correlacion entre los datos, no podemos interpretar mucho, ya que los datos en esta tabla son mayormente binarios."
   ]
  },
  {
   "cell_type": "code",
   "execution_count": 24,
   "metadata": {
    "scrolled": false
   },
   "outputs": [],
   "source": [
    "relacion = participantes.corr()"
   ]
  },
  {
   "cell_type": "markdown",
   "metadata": {},
   "source": [
    "---\n",
    "### Procedemos a unir los incidentes con los participantes de una manera estructurada"
   ]
  },
  {
   "cell_type": "code",
   "execution_count": 27,
   "metadata": {},
   "outputs": [],
   "source": [
    "i_p = pd.merge(incidentes, participantes, left_index=True, right_on='incidente_id')"
   ]
  },
  {
   "cell_type": "markdown",
   "metadata": {},
   "source": [
    "---\n",
    "De la misma, no podemos encontrar una fuerte correlacion en los datos, por lo que tendremos que proseguir con los objetivos principales, sin profundizar mas en los datos"
   ]
  },
  {
   "cell_type": "code",
   "execution_count": 28,
   "metadata": {},
   "outputs": [
    {
     "data": {
      "text/html": [
       "<div>\n",
       "<style scoped>\n",
       "    .dataframe tbody tr th:only-of-type {\n",
       "        vertical-align: middle;\n",
       "    }\n",
       "\n",
       "    .dataframe tbody tr th {\n",
       "        vertical-align: top;\n",
       "    }\n",
       "\n",
       "    .dataframe thead th {\n",
       "        text-align: right;\n",
       "    }\n",
       "</style>\n",
       "<table border=\"1\" class=\"dataframe\">\n",
       "  <thead>\n",
       "    <tr style=\"text-align: right;\">\n",
       "      <th></th>\n",
       "      <th>num_muertos</th>\n",
       "      <th>num_lesionados</th>\n",
       "      <th>armas_involucradas</th>\n",
       "      <th>incidente_id</th>\n",
       "      <th>index_participante</th>\n",
       "      <th>edad</th>\n",
       "      <th>arrestado</th>\n",
       "      <th>muerto</th>\n",
       "      <th>herido</th>\n",
       "    </tr>\n",
       "  </thead>\n",
       "  <tbody>\n",
       "    <tr>\n",
       "      <th>num_muertos</th>\n",
       "      <td>1.000000</td>\n",
       "      <td>0.513378</td>\n",
       "      <td>-0.013783</td>\n",
       "      <td>0.002389</td>\n",
       "      <td>0.440482</td>\n",
       "      <td>0.076391</td>\n",
       "      <td>-0.129132</td>\n",
       "      <td>0.409472</td>\n",
       "      <td>-0.184475</td>\n",
       "    </tr>\n",
       "    <tr>\n",
       "      <th>num_lesionados</th>\n",
       "      <td>0.513378</td>\n",
       "      <td>1.000000</td>\n",
       "      <td>-0.023965</td>\n",
       "      <td>-0.009250</td>\n",
       "      <td>0.447391</td>\n",
       "      <td>-0.068731</td>\n",
       "      <td>-0.197304</td>\n",
       "      <td>-0.130134</td>\n",
       "      <td>0.408862</td>\n",
       "    </tr>\n",
       "    <tr>\n",
       "      <th>armas_involucradas</th>\n",
       "      <td>-0.013783</td>\n",
       "      <td>-0.023965</td>\n",
       "      <td>1.000000</td>\n",
       "      <td>0.124528</td>\n",
       "      <td>0.190308</td>\n",
       "      <td>0.021035</td>\n",
       "      <td>0.146251</td>\n",
       "      <td>-0.046160</td>\n",
       "      <td>-0.066250</td>\n",
       "    </tr>\n",
       "    <tr>\n",
       "      <th>incidente_id</th>\n",
       "      <td>0.002389</td>\n",
       "      <td>-0.009250</td>\n",
       "      <td>0.124528</td>\n",
       "      <td>1.000000</td>\n",
       "      <td>-0.013552</td>\n",
       "      <td>0.012049</td>\n",
       "      <td>0.203697</td>\n",
       "      <td>0.008056</td>\n",
       "      <td>0.003653</td>\n",
       "    </tr>\n",
       "    <tr>\n",
       "      <th>index_participante</th>\n",
       "      <td>0.440482</td>\n",
       "      <td>0.447391</td>\n",
       "      <td>0.190308</td>\n",
       "      <td>-0.013552</td>\n",
       "      <td>1.000000</td>\n",
       "      <td>-0.066758</td>\n",
       "      <td>0.184554</td>\n",
       "      <td>-0.132865</td>\n",
       "      <td>-0.091777</td>\n",
       "    </tr>\n",
       "    <tr>\n",
       "      <th>edad</th>\n",
       "      <td>0.076391</td>\n",
       "      <td>-0.068731</td>\n",
       "      <td>0.021035</td>\n",
       "      <td>0.012049</td>\n",
       "      <td>-0.066758</td>\n",
       "      <td>1.000000</td>\n",
       "      <td>-0.052015</td>\n",
       "      <td>0.152225</td>\n",
       "      <td>-0.087376</td>\n",
       "    </tr>\n",
       "    <tr>\n",
       "      <th>arrestado</th>\n",
       "      <td>-0.129132</td>\n",
       "      <td>-0.197304</td>\n",
       "      <td>0.146251</td>\n",
       "      <td>0.203697</td>\n",
       "      <td>0.184554</td>\n",
       "      <td>-0.052015</td>\n",
       "      <td>1.000000</td>\n",
       "      <td>-0.388966</td>\n",
       "      <td>-0.426252</td>\n",
       "    </tr>\n",
       "    <tr>\n",
       "      <th>muerto</th>\n",
       "      <td>0.409472</td>\n",
       "      <td>-0.130134</td>\n",
       "      <td>-0.046160</td>\n",
       "      <td>0.008056</td>\n",
       "      <td>-0.132865</td>\n",
       "      <td>0.152225</td>\n",
       "      <td>-0.388966</td>\n",
       "      <td>1.000000</td>\n",
       "      <td>-0.379346</td>\n",
       "    </tr>\n",
       "    <tr>\n",
       "      <th>herido</th>\n",
       "      <td>-0.184475</td>\n",
       "      <td>0.408862</td>\n",
       "      <td>-0.066250</td>\n",
       "      <td>0.003653</td>\n",
       "      <td>-0.091777</td>\n",
       "      <td>-0.087376</td>\n",
       "      <td>-0.426252</td>\n",
       "      <td>-0.379346</td>\n",
       "      <td>1.000000</td>\n",
       "    </tr>\n",
       "  </tbody>\n",
       "</table>\n",
       "</div>"
      ],
      "text/plain": [
       "                    num_muertos  num_lesionados  armas_involucradas  \\\n",
       "num_muertos            1.000000        0.513378           -0.013783   \n",
       "num_lesionados         0.513378        1.000000           -0.023965   \n",
       "armas_involucradas    -0.013783       -0.023965            1.000000   \n",
       "incidente_id           0.002389       -0.009250            0.124528   \n",
       "index_participante     0.440482        0.447391            0.190308   \n",
       "edad                   0.076391       -0.068731            0.021035   \n",
       "arrestado             -0.129132       -0.197304            0.146251   \n",
       "muerto                 0.409472       -0.130134           -0.046160   \n",
       "herido                -0.184475        0.408862           -0.066250   \n",
       "\n",
       "                    incidente_id  index_participante      edad  arrestado  \\\n",
       "num_muertos             0.002389            0.440482  0.076391  -0.129132   \n",
       "num_lesionados         -0.009250            0.447391 -0.068731  -0.197304   \n",
       "armas_involucradas      0.124528            0.190308  0.021035   0.146251   \n",
       "incidente_id            1.000000           -0.013552  0.012049   0.203697   \n",
       "index_participante     -0.013552            1.000000 -0.066758   0.184554   \n",
       "edad                    0.012049           -0.066758  1.000000  -0.052015   \n",
       "arrestado               0.203697            0.184554 -0.052015   1.000000   \n",
       "muerto                  0.008056           -0.132865  0.152225  -0.388966   \n",
       "herido                  0.003653           -0.091777 -0.087376  -0.426252   \n",
       "\n",
       "                      muerto    herido  \n",
       "num_muertos         0.409472 -0.184475  \n",
       "num_lesionados     -0.130134  0.408862  \n",
       "armas_involucradas -0.046160 -0.066250  \n",
       "incidente_id        0.008056  0.003653  \n",
       "index_participante -0.132865 -0.091777  \n",
       "edad                0.152225 -0.087376  \n",
       "arrestado          -0.388966 -0.426252  \n",
       "muerto              1.000000 -0.379346  \n",
       "herido             -0.379346  1.000000  "
      ]
     },
     "execution_count": 28,
     "metadata": {},
     "output_type": "execute_result"
    }
   ],
   "source": [
    "i_p.corr()"
   ]
  },
  {
   "cell_type": "code",
   "execution_count": 29,
   "metadata": {},
   "outputs": [],
   "source": [
    "i_p['fecha'] = pd.to_datetime(i_p['fecha'])"
   ]
  },
  {
   "cell_type": "code",
   "execution_count": 30,
   "metadata": {},
   "outputs": [],
   "source": [
    "i_p['year'] = i_p.fecha.dt.to_period('Y')"
   ]
  },
  {
   "cell_type": "markdown",
   "metadata": {},
   "source": [
    "Exponiendo las cifras de los estados mas violentos, en base a si han salido muertos o heridos, hacemos un conteo de los incidentes, para poder identificar un factor que nos pueda ayudar a identificar si hubo un incremento o decremento de los mismo"
   ]
  },
  {
   "cell_type": "code",
   "execution_count": 77,
   "metadata": {},
   "outputs": [
    {
     "data": {
      "text/plain": [
       "<matplotlib.axes._subplots.AxesSubplot at 0x7fad455f1f50>"
      ]
     },
     "execution_count": 77,
     "metadata": {},
     "output_type": "execute_result"
    },
    {
     "data": {
      "image/png": "[encoded data removed]",
      "text/plain": [
       "<Figure size 432x288 with 1 Axes>"
      ]
     },
     "metadata": {
      "needs_background": "light"
     },
     "output_type": "display_data"
    }
   ],
   "source": [
    "total_texas = i_p[(i_p.estado=='Texas') & ( (i_p.muerto == 1) | (i_p.herido== 1)) ].groupby('year')['fecha'].count()\n",
    "total_texas.plot.bar(y='frecuency')"
   ]
  },
  {
   "cell_type": "code",
   "execution_count": 62,
   "metadata": {},
   "outputs": [
    {
     "data": {
      "text/plain": [
       "<matplotlib.axes._subplots.AxesSubplot at 0x7fad45ae8290>"
      ]
     },
     "execution_count": 62,
     "metadata": {},
     "output_type": "execute_result"
    },
    {
     "data": {
      "image/png": "[encoded data removed]",
      "text/plain": [
       "<Figure size 432x288 with 1 Axes>"
      ]
     },
     "metadata": {
      "needs_background": "light"
     },
     "output_type": "display_data"
    }
   ],
   "source": [
    "total_california = i_p[(i_p.estado=='California') & ( (i_p.muerto == 1) | (i_p.herido== 1)) ].groupby('year')['fecha'].count()\n",
    "total_california.plot.bar(y='frecuency')"
   ]
  },
  {
   "cell_type": "code",
   "execution_count": 63,
   "metadata": {},
   "outputs": [
    {
     "data": {
      "text/plain": [
       "<matplotlib.axes._subplots.AxesSubplot at 0x7fad45a5e510>"
      ]
     },
     "execution_count": 63,
     "metadata": {},
     "output_type": "execute_result"
    },
    {
     "data": {
      "image/png": "[encoded data removed]",
      "text/plain": [
       "<Figure size 432x288 with 1 Axes>"
      ]
     },
     "metadata": {
      "needs_background": "light"
     },
     "output_type": "display_data"
    }
   ],
   "source": [
    "total_florida = i_p[(i_p.estado=='Florida') & ( (i_p.muerto == 1) | (i_p.herido== 1)) ].groupby('year')['fecha'].count()\n",
    "total_florida.plot.bar(y='frecuency')"
   ]
  },
  {
   "cell_type": "code",
   "execution_count": 87,
   "metadata": {},
   "outputs": [
    {
     "data": {
      "image/png": "[encoded data removed]",
      "text/plain": [
       "<Figure size 432x288 with 1 Axes>"
      ]
     },
     "metadata": {
      "needs_background": "light"
     },
     "output_type": "display_data"
    }
   ],
   "source": [
    "df = pd.DataFrame({\n",
    "\n",
    "   'Florida': [total_florida[0], total_florida[1], total_florida[2], total_florida[3], total_florida[4], total_florida[5],],\n",
    "   'California': [total_california[0], total_california[1], total_california[2], total_california[3], total_california[4], total_california[5],],\n",
    "   'Texas': [total_texas[0],total_texas[1], total_texas[2], total_texas[3], total_texas[4], total_texas[5],],\n",
    "\n",
    "   }, index=[2013, 2014, 2015, 2016, 2017, 2018])\n",
    "\n",
    "lines = df.plot.line()\n"
   ]
  }
 ],
 "metadata": {
  "kernelspec": {
   "display_name": "Python 3",
   "language": "python",
   "name": "python3"
  },
  "language_info": {
   "codemirror_mode": {
    "name": "ipython",
    "version": 3
   },
   "file_extension": ".py",
   "mimetype": "text/x-python",
   "name": "python",
   "nbconvert_exporter": "python",
   "pygments_lexer": "ipython3",
   "version": "3.7.6"
  }
 },
 "nbformat": 4,
 "nbformat_minor": 4
}
