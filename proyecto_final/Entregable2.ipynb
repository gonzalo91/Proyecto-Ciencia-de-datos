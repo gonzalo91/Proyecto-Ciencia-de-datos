{
 "cells": [
  {
   "cell_type": "markdown",
   "metadata": {},
   "source": [
    "\n",
    "\n",
    "# Gun violence data / Avance II - Equipo \\#5\n",
    "\n",
    "\n",
    "\n",
    "### INTEGRANTES\n",
    "- Brayan Arturo Gonzalez Barron 1620548 \n",
    "- Jose Eduardo Lince Alvarez 1745066 \n",
    "- Gonzalo Adrián Cavazos Rodríguez 1742463 \n",
    "\n",
    "### Objetivos\n",
    "Objetivo Principal:\n",
    "Al estudiar este conjunto de datos se pretende poder hacer deducciones con base al comportamiento de estos, en el aspecto de que lugares son más peligrosos, o propensos en los que ellas personas puedan sufrir de un atentado, además con base a sus características predecir el estatus del participante.\n",
    "\n",
    "#### Objetivos Secundarios:\n",
    " - Situación final de los participantes, ya sea víctima, sospechoso, etc.\n",
    " - Que tanta posibilidad hay de morir en un incidente con arma de fuego\n",
    " - Determinar si el genero o la edad influyen en los incidentes\n",
    "\n",
    "\n",
    "### Caracteristicas Principales\n",
    "- Gran cantidad de datos\n",
    "- Datos relativamente recientes\n",
    "- Variedad de datos (Estatus final de participantes, edad, fecha, etc)\n",
    "\n",
    "### Beneficios de trabajar con esta BD\n",
    "Encontramos que hay una fuerte relacion con los datos relacionados, por lo que pudimos identificar algunos de los metodos de analisis que podriamos utilizar.\n",
    "Tambien observamos que nuestra base de datos presenta datos continuos y discretos con los cuales se puede trabajar para sacar clasificaciones o regresiones que nos definan la relación que existe entre estos mismos\n",
    "\n",
    "### Preguntas de interes\n",
    "¿Cuáles son los estados más peligrosos o mortales?\n",
    "\n",
    "¿Hay una alza o baja de incidentes por ataques de arma de fuego por estado? (Los mas peligrosos) \n",
    "\n",
    "*Es posible predecir el estatus final de los participantes en base a las caracteristicas de los participantes\n",
    "\n",
    "\n",
    "### MOTIVACION \n",
    "A traves de distintas tecnicas de mineria de datos, poder responder a las preguntas planteadas apoyandonos de algunos de los metodos estadisticos para la prediccion de eventos en futuro.\n",
    "\n",
    "    "
   ]
  },
  {
   "cell_type": "code",
   "execution_count": 2,
   "metadata": {},
   "outputs": [],
   "source": [
    "import pandas as pd\n",
    "import numpy as np\n",
    "import matplotlib.pyplot as plt"
   ]
  },
  {
   "cell_type": "code",
   "execution_count": 8,
   "metadata": {},
   "outputs": [
    {
     "data": {
      "text/html": [
       "<div>\n",
       "<style scoped>\n",
       "    .dataframe tbody tr th:only-of-type {\n",
       "        vertical-align: middle;\n",
       "    }\n",
       "\n",
       "    .dataframe tbody tr th {\n",
       "        vertical-align: top;\n",
       "    }\n",
       "\n",
       "    .dataframe thead th {\n",
       "        text-align: right;\n",
       "    }\n",
       "</style>\n",
       "<table border=\"1\" class=\"dataframe\">\n",
       "  <thead>\n",
       "    <tr style=\"text-align: right;\">\n",
       "      <th></th>\n",
       "      <th>incident_id</th>\n",
       "      <th>date</th>\n",
       "      <th>state</th>\n",
       "      <th>city_or_county</th>\n",
       "      <th>address</th>\n",
       "      <th>n_killed</th>\n",
       "      <th>n_injured</th>\n",
       "      <th>incident_url</th>\n",
       "      <th>source_url</th>\n",
       "      <th>incident_url_fields_missing</th>\n",
       "      <th>...</th>\n",
       "      <th>participant_age</th>\n",
       "      <th>participant_age_group</th>\n",
       "      <th>participant_gender</th>\n",
       "      <th>participant_name</th>\n",
       "      <th>participant_relationship</th>\n",
       "      <th>participant_status</th>\n",
       "      <th>participant_type</th>\n",
       "      <th>sources</th>\n",
       "      <th>state_house_district</th>\n",
       "      <th>state_senate_district</th>\n",
       "    </tr>\n",
       "  </thead>\n",
       "  <tbody>\n",
       "    <tr>\n",
       "      <th>0</th>\n",
       "      <td>461105</td>\n",
       "      <td>2013-01-01</td>\n",
       "      <td>Pennsylvania</td>\n",
       "      <td>Mckeesport</td>\n",
       "      <td>1506 Versailles Avenue and Coursin Street</td>\n",
       "      <td>0</td>\n",
       "      <td>4</td>\n",
       "      <td>http://www.gunviolencearchive.org/incident/461105</td>\n",
       "      <td>http://www.post-gazette.com/local/south/2013/0...</td>\n",
       "      <td>False</td>\n",
       "      <td>...</td>\n",
       "      <td>0::20</td>\n",
       "      <td>0::Adult 18+||1::Adult 18+||2::Adult 18+||3::A...</td>\n",
       "      <td>0::Male||1::Male||3::Male||4::Female</td>\n",
       "      <td>0::Julian Sims</td>\n",
       "      <td>NaN</td>\n",
       "      <td>0::Arrested||1::Injured||2::Injured||3::Injure...</td>\n",
       "      <td>0::Victim||1::Victim||2::Victim||3::Victim||4:...</td>\n",
       "      <td>http://pittsburgh.cbslocal.com/2013/01/01/4-pe...</td>\n",
       "      <td>NaN</td>\n",
       "      <td>NaN</td>\n",
       "    </tr>\n",
       "    <tr>\n",
       "      <th>1</th>\n",
       "      <td>460726</td>\n",
       "      <td>2013-01-01</td>\n",
       "      <td>California</td>\n",
       "      <td>Hawthorne</td>\n",
       "      <td>13500 block of Cerise Avenue</td>\n",
       "      <td>1</td>\n",
       "      <td>3</td>\n",
       "      <td>http://www.gunviolencearchive.org/incident/460726</td>\n",
       "      <td>http://www.dailybulletin.com/article/zz/201301...</td>\n",
       "      <td>False</td>\n",
       "      <td>...</td>\n",
       "      <td>0::20</td>\n",
       "      <td>0::Adult 18+||1::Adult 18+||2::Adult 18+||3::A...</td>\n",
       "      <td>0::Male</td>\n",
       "      <td>0::Bernard Gillis</td>\n",
       "      <td>NaN</td>\n",
       "      <td>0::Killed||1::Injured||2::Injured||3::Injured</td>\n",
       "      <td>0::Victim||1::Victim||2::Victim||3::Victim||4:...</td>\n",
       "      <td>http://losangeles.cbslocal.com/2013/01/01/man-...</td>\n",
       "      <td>62.0</td>\n",
       "      <td>35.0</td>\n",
       "    </tr>\n",
       "    <tr>\n",
       "      <th>2</th>\n",
       "      <td>478855</td>\n",
       "      <td>2013-01-01</td>\n",
       "      <td>Ohio</td>\n",
       "      <td>Lorain</td>\n",
       "      <td>1776 East 28th Street</td>\n",
       "      <td>1</td>\n",
       "      <td>3</td>\n",
       "      <td>http://www.gunviolencearchive.org/incident/478855</td>\n",
       "      <td>http://chronicle.northcoastnow.com/2013/02/14/...</td>\n",
       "      <td>False</td>\n",
       "      <td>...</td>\n",
       "      <td>0::25||1::31||2::33||3::34||4::33</td>\n",
       "      <td>0::Adult 18+||1::Adult 18+||2::Adult 18+||3::A...</td>\n",
       "      <td>0::Male||1::Male||2::Male||3::Male||4::Male</td>\n",
       "      <td>0::Damien Bell||1::Desmen Noble||2::Herman Sea...</td>\n",
       "      <td>NaN</td>\n",
       "      <td>0::Injured, Unharmed, Arrested||1::Unharmed, A...</td>\n",
       "      <td>0::Subject-Suspect||1::Subject-Suspect||2::Vic...</td>\n",
       "      <td>http://www.morningjournal.com/general-news/201...</td>\n",
       "      <td>56.0</td>\n",
       "      <td>13.0</td>\n",
       "    </tr>\n",
       "    <tr>\n",
       "      <th>3</th>\n",
       "      <td>478925</td>\n",
       "      <td>2013-01-05</td>\n",
       "      <td>Colorado</td>\n",
       "      <td>Aurora</td>\n",
       "      <td>16000 block of East Ithaca Place</td>\n",
       "      <td>4</td>\n",
       "      <td>0</td>\n",
       "      <td>http://www.gunviolencearchive.org/incident/478925</td>\n",
       "      <td>http://www.dailydemocrat.com/20130106/aurora-s...</td>\n",
       "      <td>False</td>\n",
       "      <td>...</td>\n",
       "      <td>0::29||1::33||2::56||3::33</td>\n",
       "      <td>0::Adult 18+||1::Adult 18+||2::Adult 18+||3::A...</td>\n",
       "      <td>0::Female||1::Male||2::Male||3::Male</td>\n",
       "      <td>0::Stacie Philbrook||1::Christopher Ratliffe||...</td>\n",
       "      <td>NaN</td>\n",
       "      <td>0::Killed||1::Killed||2::Killed||3::Killed</td>\n",
       "      <td>0::Victim||1::Victim||2::Victim||3::Subject-Su...</td>\n",
       "      <td>http://denver.cbslocal.com/2013/01/06/officer-...</td>\n",
       "      <td>40.0</td>\n",
       "      <td>28.0</td>\n",
       "    </tr>\n",
       "    <tr>\n",
       "      <th>4</th>\n",
       "      <td>478959</td>\n",
       "      <td>2013-01-07</td>\n",
       "      <td>North Carolina</td>\n",
       "      <td>Greensboro</td>\n",
       "      <td>307 Mourning Dove Terrace</td>\n",
       "      <td>2</td>\n",
       "      <td>2</td>\n",
       "      <td>http://www.gunviolencearchive.org/incident/478959</td>\n",
       "      <td>http://www.journalnow.com/news/local/article_d...</td>\n",
       "      <td>False</td>\n",
       "      <td>...</td>\n",
       "      <td>0::18||1::46||2::14||3::47</td>\n",
       "      <td>0::Adult 18+||1::Adult 18+||2::Teen 12-17||3::...</td>\n",
       "      <td>0::Female||1::Male||2::Male||3::Female</td>\n",
       "      <td>0::Danielle Imani Jameison||1::Maurice Eugene ...</td>\n",
       "      <td>3::Family</td>\n",
       "      <td>0::Injured||1::Injured||2::Killed||3::Killed</td>\n",
       "      <td>0::Victim||1::Victim||2::Victim||3::Subject-Su...</td>\n",
       "      <td>http://myfox8.com/2013/01/08/update-mother-sho...</td>\n",
       "      <td>62.0</td>\n",
       "      <td>27.0</td>\n",
       "    </tr>\n",
       "    <tr>\n",
       "      <th>...</th>\n",
       "      <td>...</td>\n",
       "      <td>...</td>\n",
       "      <td>...</td>\n",
       "      <td>...</td>\n",
       "      <td>...</td>\n",
       "      <td>...</td>\n",
       "      <td>...</td>\n",
       "      <td>...</td>\n",
       "      <td>...</td>\n",
       "      <td>...</td>\n",
       "      <td>...</td>\n",
       "      <td>...</td>\n",
       "      <td>...</td>\n",
       "      <td>...</td>\n",
       "      <td>...</td>\n",
       "      <td>...</td>\n",
       "      <td>...</td>\n",
       "      <td>...</td>\n",
       "      <td>...</td>\n",
       "      <td>...</td>\n",
       "      <td>...</td>\n",
       "    </tr>\n",
       "    <tr>\n",
       "      <th>239672</th>\n",
       "      <td>1083142</td>\n",
       "      <td>2018-03-31</td>\n",
       "      <td>Louisiana</td>\n",
       "      <td>Rayne</td>\n",
       "      <td>North Riceland Road and Highway 90</td>\n",
       "      <td>0</td>\n",
       "      <td>0</td>\n",
       "      <td>http://www.gunviolencearchive.org/incident/108...</td>\n",
       "      <td>http://www.klfy.com/news/local/rayne-woman-cha...</td>\n",
       "      <td>False</td>\n",
       "      <td>...</td>\n",
       "      <td>0::25</td>\n",
       "      <td>0::Adult 18+</td>\n",
       "      <td>0::Female</td>\n",
       "      <td>0::Jhkeya Tezeno</td>\n",
       "      <td>NaN</td>\n",
       "      <td>0::Unharmed, Arrested</td>\n",
       "      <td>0::Subject-Suspect</td>\n",
       "      <td>http://www.klfy.com/news/local/rayne-woman-cha...</td>\n",
       "      <td>NaN</td>\n",
       "      <td>NaN</td>\n",
       "    </tr>\n",
       "    <tr>\n",
       "      <th>239673</th>\n",
       "      <td>1083139</td>\n",
       "      <td>2018-03-31</td>\n",
       "      <td>Louisiana</td>\n",
       "      <td>Natchitoches</td>\n",
       "      <td>247 Keyser Ave</td>\n",
       "      <td>1</td>\n",
       "      <td>0</td>\n",
       "      <td>http://www.gunviolencearchive.org/incident/108...</td>\n",
       "      <td>http://www.ksla.com/story/37854648/man-wanted-...</td>\n",
       "      <td>False</td>\n",
       "      <td>...</td>\n",
       "      <td>1::21</td>\n",
       "      <td>0::Adult 18+||1::Adult 18+</td>\n",
       "      <td>0::Male||1::Male</td>\n",
       "      <td>0::Jamal Haskett||1::Jaquarious Tyjuan Ardison</td>\n",
       "      <td>NaN</td>\n",
       "      <td>0::Killed||1::Unharmed, Arrested</td>\n",
       "      <td>0::Victim||1::Subject-Suspect</td>\n",
       "      <td>http://www.ksla.com/story/37854648/man-wanted-...</td>\n",
       "      <td>23.0</td>\n",
       "      <td>31.0</td>\n",
       "    </tr>\n",
       "    <tr>\n",
       "      <th>239674</th>\n",
       "      <td>1083151</td>\n",
       "      <td>2018-03-31</td>\n",
       "      <td>Louisiana</td>\n",
       "      <td>Gretna</td>\n",
       "      <td>1300 block of Cook Street</td>\n",
       "      <td>0</td>\n",
       "      <td>1</td>\n",
       "      <td>http://www.gunviolencearchive.org/incident/108...</td>\n",
       "      <td>http://www.nola.com/crime/index.ssf/2018/04/sh...</td>\n",
       "      <td>False</td>\n",
       "      <td>...</td>\n",
       "      <td>0::21</td>\n",
       "      <td>0::Adult 18+</td>\n",
       "      <td>0::Male</td>\n",
       "      <td>NaN</td>\n",
       "      <td>NaN</td>\n",
       "      <td>0::Injured</td>\n",
       "      <td>0::Victim</td>\n",
       "      <td>http://www.nola.com/crime/index.ssf/2018/04/sh...</td>\n",
       "      <td>85.0</td>\n",
       "      <td>7.0</td>\n",
       "    </tr>\n",
       "    <tr>\n",
       "      <th>239675</th>\n",
       "      <td>1082514</td>\n",
       "      <td>2018-03-31</td>\n",
       "      <td>Texas</td>\n",
       "      <td>Houston</td>\n",
       "      <td>12630 Ashford Point Dr</td>\n",
       "      <td>1</td>\n",
       "      <td>0</td>\n",
       "      <td>http://www.gunviolencearchive.org/incident/108...</td>\n",
       "      <td>https://www.chron.com/news/houston-texas/houst...</td>\n",
       "      <td>False</td>\n",
       "      <td>...</td>\n",
       "      <td>0::42</td>\n",
       "      <td>0::Adult 18+</td>\n",
       "      <td>0::Male</td>\n",
       "      <td>0::Leroy Ellis</td>\n",
       "      <td>NaN</td>\n",
       "      <td>0::Killed</td>\n",
       "      <td>0::Victim</td>\n",
       "      <td>http://www.khou.com/article/news/hpd-investiga...</td>\n",
       "      <td>149.0</td>\n",
       "      <td>17.0</td>\n",
       "    </tr>\n",
       "    <tr>\n",
       "      <th>239676</th>\n",
       "      <td>1081940</td>\n",
       "      <td>2018-03-31</td>\n",
       "      <td>Maine</td>\n",
       "      <td>Norridgewock</td>\n",
       "      <td>434 Skowhegan Rd</td>\n",
       "      <td>2</td>\n",
       "      <td>0</td>\n",
       "      <td>http://www.gunviolencearchive.org/incident/108...</td>\n",
       "      <td>https://www.centralmaine.com/2018/03/31/police...</td>\n",
       "      <td>False</td>\n",
       "      <td>...</td>\n",
       "      <td>0::58||1::62</td>\n",
       "      <td>0::Adult 18+||1::Adult 18+</td>\n",
       "      <td>0::Female||1::Male</td>\n",
       "      <td>0::Marie Lancaster Hale||1::William Hale</td>\n",
       "      <td>1::Significant others - current or former</td>\n",
       "      <td>0::Killed||1::Killed</td>\n",
       "      <td>0::Victim||1::Subject-Suspect</td>\n",
       "      <td>https://www.centralmaine.com/2018/03/31/police...</td>\n",
       "      <td>111.0</td>\n",
       "      <td>3.0</td>\n",
       "    </tr>\n",
       "  </tbody>\n",
       "</table>\n",
       "<p>239677 rows × 29 columns</p>\n",
       "</div>"
      ],
      "text/plain": [
       "        incident_id        date           state city_or_county  \\\n",
       "0            461105  2013-01-01    Pennsylvania     Mckeesport   \n",
       "1            460726  2013-01-01      California      Hawthorne   \n",
       "2            478855  2013-01-01            Ohio         Lorain   \n",
       "3            478925  2013-01-05        Colorado         Aurora   \n",
       "4            478959  2013-01-07  North Carolina     Greensboro   \n",
       "...             ...         ...             ...            ...   \n",
       "239672      1083142  2018-03-31       Louisiana          Rayne   \n",
       "239673      1083139  2018-03-31       Louisiana   Natchitoches   \n",
       "239674      1083151  2018-03-31       Louisiana         Gretna   \n",
       "239675      1082514  2018-03-31           Texas        Houston   \n",
       "239676      1081940  2018-03-31           Maine   Norridgewock   \n",
       "\n",
       "                                          address  n_killed  n_injured  \\\n",
       "0       1506 Versailles Avenue and Coursin Street         0          4   \n",
       "1                    13500 block of Cerise Avenue         1          3   \n",
       "2                           1776 East 28th Street         1          3   \n",
       "3                16000 block of East Ithaca Place         4          0   \n",
       "4                       307 Mourning Dove Terrace         2          2   \n",
       "...                                           ...       ...        ...   \n",
       "239672         North Riceland Road and Highway 90         0          0   \n",
       "239673                             247 Keyser Ave         1          0   \n",
       "239674                  1300 block of Cook Street         0          1   \n",
       "239675                     12630 Ashford Point Dr         1          0   \n",
       "239676                           434 Skowhegan Rd         2          0   \n",
       "\n",
       "                                             incident_url  \\\n",
       "0       http://www.gunviolencearchive.org/incident/461105   \n",
       "1       http://www.gunviolencearchive.org/incident/460726   \n",
       "2       http://www.gunviolencearchive.org/incident/478855   \n",
       "3       http://www.gunviolencearchive.org/incident/478925   \n",
       "4       http://www.gunviolencearchive.org/incident/478959   \n",
       "...                                                   ...   \n",
       "239672  http://www.gunviolencearchive.org/incident/108...   \n",
       "239673  http://www.gunviolencearchive.org/incident/108...   \n",
       "239674  http://www.gunviolencearchive.org/incident/108...   \n",
       "239675  http://www.gunviolencearchive.org/incident/108...   \n",
       "239676  http://www.gunviolencearchive.org/incident/108...   \n",
       "\n",
       "                                               source_url  \\\n",
       "0       http://www.post-gazette.com/local/south/2013/0...   \n",
       "1       http://www.dailybulletin.com/article/zz/201301...   \n",
       "2       http://chronicle.northcoastnow.com/2013/02/14/...   \n",
       "3       http://www.dailydemocrat.com/20130106/aurora-s...   \n",
       "4       http://www.journalnow.com/news/local/article_d...   \n",
       "...                                                   ...   \n",
       "239672  http://www.klfy.com/news/local/rayne-woman-cha...   \n",
       "239673  http://www.ksla.com/story/37854648/man-wanted-...   \n",
       "239674  http://www.nola.com/crime/index.ssf/2018/04/sh...   \n",
       "239675  https://www.chron.com/news/houston-texas/houst...   \n",
       "239676  https://www.centralmaine.com/2018/03/31/police...   \n",
       "\n",
       "        incident_url_fields_missing  ...                    participant_age  \\\n",
       "0                             False  ...                              0::20   \n",
       "1                             False  ...                              0::20   \n",
       "2                             False  ...  0::25||1::31||2::33||3::34||4::33   \n",
       "3                             False  ...         0::29||1::33||2::56||3::33   \n",
       "4                             False  ...         0::18||1::46||2::14||3::47   \n",
       "...                             ...  ...                                ...   \n",
       "239672                        False  ...                              0::25   \n",
       "239673                        False  ...                              1::21   \n",
       "239674                        False  ...                              0::21   \n",
       "239675                        False  ...                              0::42   \n",
       "239676                        False  ...                       0::58||1::62   \n",
       "\n",
       "                                    participant_age_group  \\\n",
       "0       0::Adult 18+||1::Adult 18+||2::Adult 18+||3::A...   \n",
       "1       0::Adult 18+||1::Adult 18+||2::Adult 18+||3::A...   \n",
       "2       0::Adult 18+||1::Adult 18+||2::Adult 18+||3::A...   \n",
       "3       0::Adult 18+||1::Adult 18+||2::Adult 18+||3::A...   \n",
       "4       0::Adult 18+||1::Adult 18+||2::Teen 12-17||3::...   \n",
       "...                                                   ...   \n",
       "239672                                       0::Adult 18+   \n",
       "239673                         0::Adult 18+||1::Adult 18+   \n",
       "239674                                       0::Adult 18+   \n",
       "239675                                       0::Adult 18+   \n",
       "239676                         0::Adult 18+||1::Adult 18+   \n",
       "\n",
       "                                 participant_gender  \\\n",
       "0              0::Male||1::Male||3::Male||4::Female   \n",
       "1                                           0::Male   \n",
       "2       0::Male||1::Male||2::Male||3::Male||4::Male   \n",
       "3              0::Female||1::Male||2::Male||3::Male   \n",
       "4            0::Female||1::Male||2::Male||3::Female   \n",
       "...                                             ...   \n",
       "239672                                    0::Female   \n",
       "239673                             0::Male||1::Male   \n",
       "239674                                      0::Male   \n",
       "239675                                      0::Male   \n",
       "239676                           0::Female||1::Male   \n",
       "\n",
       "                                         participant_name  \\\n",
       "0                                          0::Julian Sims   \n",
       "1                                       0::Bernard Gillis   \n",
       "2       0::Damien Bell||1::Desmen Noble||2::Herman Sea...   \n",
       "3       0::Stacie Philbrook||1::Christopher Ratliffe||...   \n",
       "4       0::Danielle Imani Jameison||1::Maurice Eugene ...   \n",
       "...                                                   ...   \n",
       "239672                                   0::Jhkeya Tezeno   \n",
       "239673     0::Jamal Haskett||1::Jaquarious Tyjuan Ardison   \n",
       "239674                                                NaN   \n",
       "239675                                     0::Leroy Ellis   \n",
       "239676           0::Marie Lancaster Hale||1::William Hale   \n",
       "\n",
       "                         participant_relationship  \\\n",
       "0                                             NaN   \n",
       "1                                             NaN   \n",
       "2                                             NaN   \n",
       "3                                             NaN   \n",
       "4                                       3::Family   \n",
       "...                                           ...   \n",
       "239672                                        NaN   \n",
       "239673                                        NaN   \n",
       "239674                                        NaN   \n",
       "239675                                        NaN   \n",
       "239676  1::Significant others - current or former   \n",
       "\n",
       "                                       participant_status  \\\n",
       "0       0::Arrested||1::Injured||2::Injured||3::Injure...   \n",
       "1           0::Killed||1::Injured||2::Injured||3::Injured   \n",
       "2       0::Injured, Unharmed, Arrested||1::Unharmed, A...   \n",
       "3              0::Killed||1::Killed||2::Killed||3::Killed   \n",
       "4            0::Injured||1::Injured||2::Killed||3::Killed   \n",
       "...                                                   ...   \n",
       "239672                              0::Unharmed, Arrested   \n",
       "239673                   0::Killed||1::Unharmed, Arrested   \n",
       "239674                                         0::Injured   \n",
       "239675                                          0::Killed   \n",
       "239676                               0::Killed||1::Killed   \n",
       "\n",
       "                                         participant_type  \\\n",
       "0       0::Victim||1::Victim||2::Victim||3::Victim||4:...   \n",
       "1       0::Victim||1::Victim||2::Victim||3::Victim||4:...   \n",
       "2       0::Subject-Suspect||1::Subject-Suspect||2::Vic...   \n",
       "3       0::Victim||1::Victim||2::Victim||3::Subject-Su...   \n",
       "4       0::Victim||1::Victim||2::Victim||3::Subject-Su...   \n",
       "...                                                   ...   \n",
       "239672                                 0::Subject-Suspect   \n",
       "239673                      0::Victim||1::Subject-Suspect   \n",
       "239674                                          0::Victim   \n",
       "239675                                          0::Victim   \n",
       "239676                      0::Victim||1::Subject-Suspect   \n",
       "\n",
       "                                                  sources  \\\n",
       "0       http://pittsburgh.cbslocal.com/2013/01/01/4-pe...   \n",
       "1       http://losangeles.cbslocal.com/2013/01/01/man-...   \n",
       "2       http://www.morningjournal.com/general-news/201...   \n",
       "3       http://denver.cbslocal.com/2013/01/06/officer-...   \n",
       "4       http://myfox8.com/2013/01/08/update-mother-sho...   \n",
       "...                                                   ...   \n",
       "239672  http://www.klfy.com/news/local/rayne-woman-cha...   \n",
       "239673  http://www.ksla.com/story/37854648/man-wanted-...   \n",
       "239674  http://www.nola.com/crime/index.ssf/2018/04/sh...   \n",
       "239675  http://www.khou.com/article/news/hpd-investiga...   \n",
       "239676  https://www.centralmaine.com/2018/03/31/police...   \n",
       "\n",
       "       state_house_district state_senate_district  \n",
       "0                       NaN                   NaN  \n",
       "1                      62.0                  35.0  \n",
       "2                      56.0                  13.0  \n",
       "3                      40.0                  28.0  \n",
       "4                      62.0                  27.0  \n",
       "...                     ...                   ...  \n",
       "239672                  NaN                   NaN  \n",
       "239673                 23.0                  31.0  \n",
       "239674                 85.0                   7.0  \n",
       "239675                149.0                  17.0  \n",
       "239676                111.0                   3.0  \n",
       "\n",
       "[239677 rows x 29 columns]"
      ]
     },
     "execution_count": 8,
     "metadata": {},
     "output_type": "execute_result"
    }
   ],
   "source": [
    "df = pd.read_csv(r\"gun-violence.csv\")\n",
    "df"
   ]
  },
  {
   "cell_type": "markdown",
   "metadata": {},
   "source": [
    "## Preparacion\n",
    "\n",
    "Vemos que columnas podremos encontrar en este dataset, tenemos el id para determinar numero de incidentes,\n",
    "tambien fecha para saber cuando sucedieron los hechos, tenemos ubicaciones y direcciones de los eventos que\n",
    "nos podrian ayudar a filtrar y crear clases de zonas, \n",
    "numero de muertos para tomar encuenta los indices de violoencia, \n",
    "edad de los participantes para tambien obtener algun indicador de edad"
   ]
  },
  {
   "cell_type": "code",
   "execution_count": 3,
   "metadata": {},
   "outputs": [
    {
     "data": {
      "text/html": [
       "<div>\n",
       "<style scoped>\n",
       "    .dataframe tbody tr th:only-of-type {\n",
       "        vertical-align: middle;\n",
       "    }\n",
       "\n",
       "    .dataframe tbody tr th {\n",
       "        vertical-align: top;\n",
       "    }\n",
       "\n",
       "    .dataframe thead th {\n",
       "        text-align: right;\n",
       "    }\n",
       "</style>\n",
       "<table border=\"1\" class=\"dataframe\">\n",
       "  <thead>\n",
       "    <tr style=\"text-align: right;\">\n",
       "      <th></th>\n",
       "      <th>incident_id</th>\n",
       "      <th>date</th>\n",
       "      <th>state</th>\n",
       "      <th>city_or_county</th>\n",
       "      <th>address</th>\n",
       "      <th>n_killed</th>\n",
       "      <th>n_injured</th>\n",
       "      <th>incident_url</th>\n",
       "      <th>source_url</th>\n",
       "      <th>incident_url_fields_missing</th>\n",
       "      <th>...</th>\n",
       "      <th>participant_age</th>\n",
       "      <th>participant_age_group</th>\n",
       "      <th>participant_gender</th>\n",
       "      <th>participant_name</th>\n",
       "      <th>participant_relationship</th>\n",
       "      <th>participant_status</th>\n",
       "      <th>participant_type</th>\n",
       "      <th>sources</th>\n",
       "      <th>state_house_district</th>\n",
       "      <th>state_senate_district</th>\n",
       "    </tr>\n",
       "  </thead>\n",
       "  <tbody>\n",
       "    <tr>\n",
       "      <th>0</th>\n",
       "      <td>461105</td>\n",
       "      <td>2013-01-01</td>\n",
       "      <td>Pennsylvania</td>\n",
       "      <td>Mckeesport</td>\n",
       "      <td>1506 Versailles Avenue and Coursin Street</td>\n",
       "      <td>0</td>\n",
       "      <td>4</td>\n",
       "      <td>http://www.gunviolencearchive.org/incident/461105</td>\n",
       "      <td>http://www.post-gazette.com/local/south/2013/0...</td>\n",
       "      <td>False</td>\n",
       "      <td>...</td>\n",
       "      <td>0::20</td>\n",
       "      <td>0::Adult 18+||1::Adult 18+||2::Adult 18+||3::A...</td>\n",
       "      <td>0::Male||1::Male||3::Male||4::Female</td>\n",
       "      <td>0::Julian Sims</td>\n",
       "      <td>NaN</td>\n",
       "      <td>0::Arrested||1::Injured||2::Injured||3::Injure...</td>\n",
       "      <td>0::Victim||1::Victim||2::Victim||3::Victim||4:...</td>\n",
       "      <td>http://pittsburgh.cbslocal.com/2013/01/01/4-pe...</td>\n",
       "      <td>NaN</td>\n",
       "      <td>NaN</td>\n",
       "    </tr>\n",
       "    <tr>\n",
       "      <th>1</th>\n",
       "      <td>460726</td>\n",
       "      <td>2013-01-01</td>\n",
       "      <td>California</td>\n",
       "      <td>Hawthorne</td>\n",
       "      <td>13500 block of Cerise Avenue</td>\n",
       "      <td>1</td>\n",
       "      <td>3</td>\n",
       "      <td>http://www.gunviolencearchive.org/incident/460726</td>\n",
       "      <td>http://www.dailybulletin.com/article/zz/201301...</td>\n",
       "      <td>False</td>\n",
       "      <td>...</td>\n",
       "      <td>0::20</td>\n",
       "      <td>0::Adult 18+||1::Adult 18+||2::Adult 18+||3::A...</td>\n",
       "      <td>0::Male</td>\n",
       "      <td>0::Bernard Gillis</td>\n",
       "      <td>NaN</td>\n",
       "      <td>0::Killed||1::Injured||2::Injured||3::Injured</td>\n",
       "      <td>0::Victim||1::Victim||2::Victim||3::Victim||4:...</td>\n",
       "      <td>http://losangeles.cbslocal.com/2013/01/01/man-...</td>\n",
       "      <td>62.0</td>\n",
       "      <td>35.0</td>\n",
       "    </tr>\n",
       "    <tr>\n",
       "      <th>2</th>\n",
       "      <td>478855</td>\n",
       "      <td>2013-01-01</td>\n",
       "      <td>Ohio</td>\n",
       "      <td>Lorain</td>\n",
       "      <td>1776 East 28th Street</td>\n",
       "      <td>1</td>\n",
       "      <td>3</td>\n",
       "      <td>http://www.gunviolencearchive.org/incident/478855</td>\n",
       "      <td>http://chronicle.northcoastnow.com/2013/02/14/...</td>\n",
       "      <td>False</td>\n",
       "      <td>...</td>\n",
       "      <td>0::25||1::31||2::33||3::34||4::33</td>\n",
       "      <td>0::Adult 18+||1::Adult 18+||2::Adult 18+||3::A...</td>\n",
       "      <td>0::Male||1::Male||2::Male||3::Male||4::Male</td>\n",
       "      <td>0::Damien Bell||1::Desmen Noble||2::Herman Sea...</td>\n",
       "      <td>NaN</td>\n",
       "      <td>0::Injured, Unharmed, Arrested||1::Unharmed, A...</td>\n",
       "      <td>0::Subject-Suspect||1::Subject-Suspect||2::Vic...</td>\n",
       "      <td>http://www.morningjournal.com/general-news/201...</td>\n",
       "      <td>56.0</td>\n",
       "      <td>13.0</td>\n",
       "    </tr>\n",
       "    <tr>\n",
       "      <th>3</th>\n",
       "      <td>478925</td>\n",
       "      <td>2013-01-05</td>\n",
       "      <td>Colorado</td>\n",
       "      <td>Aurora</td>\n",
       "      <td>16000 block of East Ithaca Place</td>\n",
       "      <td>4</td>\n",
       "      <td>0</td>\n",
       "      <td>http://www.gunviolencearchive.org/incident/478925</td>\n",
       "      <td>http://www.dailydemocrat.com/20130106/aurora-s...</td>\n",
       "      <td>False</td>\n",
       "      <td>...</td>\n",
       "      <td>0::29||1::33||2::56||3::33</td>\n",
       "      <td>0::Adult 18+||1::Adult 18+||2::Adult 18+||3::A...</td>\n",
       "      <td>0::Female||1::Male||2::Male||3::Male</td>\n",
       "      <td>0::Stacie Philbrook||1::Christopher Ratliffe||...</td>\n",
       "      <td>NaN</td>\n",
       "      <td>0::Killed||1::Killed||2::Killed||3::Killed</td>\n",
       "      <td>0::Victim||1::Victim||2::Victim||3::Subject-Su...</td>\n",
       "      <td>http://denver.cbslocal.com/2013/01/06/officer-...</td>\n",
       "      <td>40.0</td>\n",
       "      <td>28.0</td>\n",
       "    </tr>\n",
       "    <tr>\n",
       "      <th>4</th>\n",
       "      <td>478959</td>\n",
       "      <td>2013-01-07</td>\n",
       "      <td>North Carolina</td>\n",
       "      <td>Greensboro</td>\n",
       "      <td>307 Mourning Dove Terrace</td>\n",
       "      <td>2</td>\n",
       "      <td>2</td>\n",
       "      <td>http://www.gunviolencearchive.org/incident/478959</td>\n",
       "      <td>http://www.journalnow.com/news/local/article_d...</td>\n",
       "      <td>False</td>\n",
       "      <td>...</td>\n",
       "      <td>0::18||1::46||2::14||3::47</td>\n",
       "      <td>0::Adult 18+||1::Adult 18+||2::Teen 12-17||3::...</td>\n",
       "      <td>0::Female||1::Male||2::Male||3::Female</td>\n",
       "      <td>0::Danielle Imani Jameison||1::Maurice Eugene ...</td>\n",
       "      <td>3::Family</td>\n",
       "      <td>0::Injured||1::Injured||2::Killed||3::Killed</td>\n",
       "      <td>0::Victim||1::Victim||2::Victim||3::Subject-Su...</td>\n",
       "      <td>http://myfox8.com/2013/01/08/update-mother-sho...</td>\n",
       "      <td>62.0</td>\n",
       "      <td>27.0</td>\n",
       "    </tr>\n",
       "  </tbody>\n",
       "</table>\n",
       "<p>5 rows × 29 columns</p>\n",
       "</div>"
      ],
      "text/plain": [
       "   incident_id        date           state city_or_county  \\\n",
       "0       461105  2013-01-01    Pennsylvania     Mckeesport   \n",
       "1       460726  2013-01-01      California      Hawthorne   \n",
       "2       478855  2013-01-01            Ohio         Lorain   \n",
       "3       478925  2013-01-05        Colorado         Aurora   \n",
       "4       478959  2013-01-07  North Carolina     Greensboro   \n",
       "\n",
       "                                     address  n_killed  n_injured  \\\n",
       "0  1506 Versailles Avenue and Coursin Street         0          4   \n",
       "1               13500 block of Cerise Avenue         1          3   \n",
       "2                      1776 East 28th Street         1          3   \n",
       "3           16000 block of East Ithaca Place         4          0   \n",
       "4                  307 Mourning Dove Terrace         2          2   \n",
       "\n",
       "                                        incident_url  \\\n",
       "0  http://www.gunviolencearchive.org/incident/461105   \n",
       "1  http://www.gunviolencearchive.org/incident/460726   \n",
       "2  http://www.gunviolencearchive.org/incident/478855   \n",
       "3  http://www.gunviolencearchive.org/incident/478925   \n",
       "4  http://www.gunviolencearchive.org/incident/478959   \n",
       "\n",
       "                                          source_url  \\\n",
       "0  http://www.post-gazette.com/local/south/2013/0...   \n",
       "1  http://www.dailybulletin.com/article/zz/201301...   \n",
       "2  http://chronicle.northcoastnow.com/2013/02/14/...   \n",
       "3  http://www.dailydemocrat.com/20130106/aurora-s...   \n",
       "4  http://www.journalnow.com/news/local/article_d...   \n",
       "\n",
       "   incident_url_fields_missing  ...                    participant_age  \\\n",
       "0                        False  ...                              0::20   \n",
       "1                        False  ...                              0::20   \n",
       "2                        False  ...  0::25||1::31||2::33||3::34||4::33   \n",
       "3                        False  ...         0::29||1::33||2::56||3::33   \n",
       "4                        False  ...         0::18||1::46||2::14||3::47   \n",
       "\n",
       "                               participant_age_group  \\\n",
       "0  0::Adult 18+||1::Adult 18+||2::Adult 18+||3::A...   \n",
       "1  0::Adult 18+||1::Adult 18+||2::Adult 18+||3::A...   \n",
       "2  0::Adult 18+||1::Adult 18+||2::Adult 18+||3::A...   \n",
       "3  0::Adult 18+||1::Adult 18+||2::Adult 18+||3::A...   \n",
       "4  0::Adult 18+||1::Adult 18+||2::Teen 12-17||3::...   \n",
       "\n",
       "                            participant_gender  \\\n",
       "0         0::Male||1::Male||3::Male||4::Female   \n",
       "1                                      0::Male   \n",
       "2  0::Male||1::Male||2::Male||3::Male||4::Male   \n",
       "3         0::Female||1::Male||2::Male||3::Male   \n",
       "4       0::Female||1::Male||2::Male||3::Female   \n",
       "\n",
       "                                    participant_name  \\\n",
       "0                                     0::Julian Sims   \n",
       "1                                  0::Bernard Gillis   \n",
       "2  0::Damien Bell||1::Desmen Noble||2::Herman Sea...   \n",
       "3  0::Stacie Philbrook||1::Christopher Ratliffe||...   \n",
       "4  0::Danielle Imani Jameison||1::Maurice Eugene ...   \n",
       "\n",
       "   participant_relationship  \\\n",
       "0                       NaN   \n",
       "1                       NaN   \n",
       "2                       NaN   \n",
       "3                       NaN   \n",
       "4                 3::Family   \n",
       "\n",
       "                                  participant_status  \\\n",
       "0  0::Arrested||1::Injured||2::Injured||3::Injure...   \n",
       "1      0::Killed||1::Injured||2::Injured||3::Injured   \n",
       "2  0::Injured, Unharmed, Arrested||1::Unharmed, A...   \n",
       "3         0::Killed||1::Killed||2::Killed||3::Killed   \n",
       "4       0::Injured||1::Injured||2::Killed||3::Killed   \n",
       "\n",
       "                                    participant_type  \\\n",
       "0  0::Victim||1::Victim||2::Victim||3::Victim||4:...   \n",
       "1  0::Victim||1::Victim||2::Victim||3::Victim||4:...   \n",
       "2  0::Subject-Suspect||1::Subject-Suspect||2::Vic...   \n",
       "3  0::Victim||1::Victim||2::Victim||3::Subject-Su...   \n",
       "4  0::Victim||1::Victim||2::Victim||3::Subject-Su...   \n",
       "\n",
       "                                             sources state_house_district  \\\n",
       "0  http://pittsburgh.cbslocal.com/2013/01/01/4-pe...                  NaN   \n",
       "1  http://losangeles.cbslocal.com/2013/01/01/man-...                 62.0   \n",
       "2  http://www.morningjournal.com/general-news/201...                 56.0   \n",
       "3  http://denver.cbslocal.com/2013/01/06/officer-...                 40.0   \n",
       "4  http://myfox8.com/2013/01/08/update-mother-sho...                 62.0   \n",
       "\n",
       "  state_senate_district  \n",
       "0                   NaN  \n",
       "1                  35.0  \n",
       "2                  13.0  \n",
       "3                  28.0  \n",
       "4                  27.0  \n",
       "\n",
       "[5 rows x 29 columns]"
      ]
     },
     "execution_count": 3,
     "metadata": {},
     "output_type": "execute_result"
    }
   ],
   "source": [
    "df.head(5)"
   ]
  },
  {
   "cell_type": "markdown",
   "metadata": {},
   "source": [
    "### Conteo de datos y columnas\n",
    "Podemos darnos cuenta que tenemos 239667 registros antes de realizar nuestra limpieza y alrededor de 29 columnas, no ocuparemos todas para la resolucion de las preguntas asi en la limpieza eliminaremos las que no son necesarias"
   ]
  },
  {
   "cell_type": "code",
   "execution_count": 4,
   "metadata": {},
   "outputs": [
    {
     "name": "stdout",
     "output_type": "stream",
     "text": [
      "(239677, 29)\n"
     ]
    }
   ],
   "source": [
    "print(df.shape)"
   ]
  },
  {
   "cell_type": "code",
   "execution_count": 5,
   "metadata": {},
   "outputs": [
    {
     "data": {
      "text/plain": [
       "Index(['incident_id', 'date', 'state', 'city_or_county', 'address', 'n_killed',\n",
       "       'n_injured', 'incident_url', 'source_url',\n",
       "       'incident_url_fields_missing', 'congressional_district', 'gun_stolen',\n",
       "       'gun_type', 'incident_characteristics', 'latitude',\n",
       "       'location_description', 'longitude', 'n_guns_involved', 'notes',\n",
       "       'participant_age', 'participant_age_group', 'participant_gender',\n",
       "       'participant_name', 'participant_relationship', 'participant_status',\n",
       "       'participant_type', 'sources', 'state_house_district',\n",
       "       'state_senate_district'],\n",
       "      dtype='object')"
      ]
     },
     "execution_count": 5,
     "metadata": {},
     "output_type": "execute_result"
    }
   ],
   "source": [
    "df.columns"
   ]
  },
  {
   "cell_type": "markdown",
   "metadata": {},
   "source": [
    "### Renombrando Columnas\n",
    "Le daremos un nombre en español a las columnas.\n",
    "\n",
    "Ademas, podemos describir nuestras columnas de una mejor manera"
   ]
  },
  {
   "cell_type": "code",
   "execution_count": 6,
   "metadata": {},
   "outputs": [],
   "source": [
    "df=df.rename(columns={'incident_id':'id', 'date':'fecha', 'state':'estado', 'city_or_county':'condado_o_localidad', 'address': 'direccion',\n",
    "                 'gun_type':'tipo_arma', 'n_injured':'num_lesionados', 'location_description':'desc_lugar',\n",
    "                  'participant_age':'edad_participante', 'participant_age_group':'edad_grupo_participantes',\n",
    "                      'n_guns_involved' : 'armas_involucradas',\n",
    "                   'participant_gender':'genero_participante', 'participant_relationship': 'relacion_participante',\n",
    "                   'participant_status':'estatus_participante','participant_type':'tipo_participante', 'n_killed':'num_muertos'})"
   ]
  },
  {
   "cell_type": "code",
   "execution_count": 7,
   "metadata": {},
   "outputs": [
    {
     "data": {
      "text/plain": [
       "id                               int64\n",
       "fecha                           object\n",
       "estado                          object\n",
       "condado_o_localidad             object\n",
       "direccion                       object\n",
       "num_muertos                      int64\n",
       "num_lesionados                   int64\n",
       "incident_url                    object\n",
       "source_url                      object\n",
       "incident_url_fields_missing       bool\n",
       "congressional_district         float64\n",
       "gun_stolen                      object\n",
       "tipo_arma                       object\n",
       "incident_characteristics        object\n",
       "latitude                       float64\n",
       "desc_lugar                      object\n",
       "longitude                      float64\n",
       "armas_involucradas             float64\n",
       "notes                           object\n",
       "edad_participante               object\n",
       "edad_grupo_participantes        object\n",
       "genero_participante             object\n",
       "participant_name                object\n",
       "relacion_participante           object\n",
       "estatus_participante            object\n",
       "tipo_participante               object\n",
       "sources                         object\n",
       "state_house_district           float64\n",
       "state_senate_district          float64\n",
       "dtype: object"
      ]
     },
     "execution_count": 7,
     "metadata": {},
     "output_type": "execute_result"
    }
   ],
   "source": [
    "df.dtypes"
   ]
  },
  {
   "cell_type": "markdown",
   "metadata": {},
   "source": [
    "### Identificando valores unicos\n",
    "Haremos una visualizacion de los valores unicos para las columnas estado, condado_o_localidad\n",
    "\n",
    "---"
   ]
  },
  {
   "cell_type": "code",
   "execution_count": 8,
   "metadata": {},
   "outputs": [
    {
     "name": "stdout",
     "output_type": "stream",
     "text": [
      "['Pennsylvania' 'California' 'Ohio' 'Colorado' 'North Carolina' 'Oklahoma'\n",
      " 'New Mexico' 'Louisiana' 'Maryland' 'Tennessee' 'Missouri'\n",
      " 'District of Columbia' 'Illinois' 'Delaware' 'Utah' 'Michigan' 'Georgia'\n",
      " 'Indiana' 'Mississippi' 'New York' 'Florida' 'Washington'\n",
      " 'South Carolina' 'Arizona' 'Kentucky' 'New Jersey' 'Virginia' 'Wisconsin'\n",
      " 'Rhode Island' 'Texas' 'Alabama' 'Kansas' 'Connecticut' 'West Virginia'\n",
      " 'Minnesota' 'Nevada' 'Nebraska' 'Massachusetts' 'Hawaii' 'New Hampshire'\n",
      " 'Iowa' 'Alaska' 'Arkansas' 'Idaho' 'Oregon' 'Wyoming' 'Maine'\n",
      " 'North Dakota' 'Montana' 'Vermont' 'South Dakota']  | Total:  51\n"
     ]
    }
   ],
   "source": [
    "count_column = df.estado.unique()\n",
    "print( count_column , ' | Total: ', len(count_column))"
   ]
  },
  {
   "cell_type": "markdown",
   "metadata": {},
   "source": [
    "Vemos que para la columna estado tenemos un total de 51 columnas unicas, con la cual, podriamos hacer graficas ya que no presenta una gran cantidad de datos\n",
    "\n",
    "\n",
    "---"
   ]
  },
  {
   "cell_type": "code",
   "execution_count": 9,
   "metadata": {},
   "outputs": [
    {
     "name": "stdout",
     "output_type": "stream",
     "text": [
      "['Mckeesport' 'Hawthorne' 'Lorain' ... 'Montgomery Creek'\n",
      " 'Chaffee (Allenville)' 'St Paul']  | Total:  12898\n"
     ]
    }
   ],
   "source": [
    "count_column = df.condado_o_localidad.unique()\n",
    "print( count_column , ' | Total: ', len(count_column))"
   ]
  },
  {
   "cell_type": "markdown",
   "metadata": {},
   "source": [
    "En este caso, para la columna condado_o_localidad tenemos demasiados registros unicos, por lo que si se quisiera una grafica con estos datos, tendriamos que aminorar la cantidad, talvez buscando por los que mas coincidencias tienen."
   ]
  },
  {
   "cell_type": "markdown",
   "metadata": {},
   "source": [
    "### Datos Nulos\n",
    "\n",
    "A continuacion, buscaremos por columna, si hay almenos algun dato nulo.\n",
    "Podemos observar que las columnas fecha, estado, ciudad_o_pais, num_muertos no tienen datos en nulo, pero hay 2 campos que si vamos a ocupar, los cuales son edad_participante y estatus_participante y si contienen datos nulos."
   ]
  },
  {
   "cell_type": "code",
   "execution_count": 10,
   "metadata": {},
   "outputs": [
    {
     "data": {
      "text/plain": [
       "id                             False\n",
       "fecha                          False\n",
       "estado                         False\n",
       "condado_o_localidad            False\n",
       "direccion                       True\n",
       "num_muertos                    False\n",
       "num_lesionados                 False\n",
       "incident_url                   False\n",
       "source_url                      True\n",
       "incident_url_fields_missing    False\n",
       "congressional_district          True\n",
       "gun_stolen                      True\n",
       "tipo_arma                       True\n",
       "incident_characteristics        True\n",
       "latitude                        True\n",
       "desc_lugar                      True\n",
       "longitude                       True\n",
       "armas_involucradas              True\n",
       "notes                           True\n",
       "edad_participante               True\n",
       "edad_grupo_participantes        True\n",
       "genero_participante             True\n",
       "participant_name                True\n",
       "relacion_participante           True\n",
       "estatus_participante            True\n",
       "tipo_participante               True\n",
       "sources                         True\n",
       "state_house_district            True\n",
       "state_senate_district           True\n",
       "dtype: bool"
      ]
     },
     "execution_count": 10,
     "metadata": {},
     "output_type": "execute_result"
    }
   ],
   "source": [
    "df.isnull().any()"
   ]
  },
  {
   "cell_type": "markdown",
   "metadata": {},
   "source": [
    "Hacemos una sumatoria, de las filas nulas por columnas, para determinar si es viable precindir de esas filar en caso\n",
    "de que sean pocas, pero los resultados muestran cantidades muy grandes, por lo que no se pueden eliminar. \n",
    "Debido a esto, tendremos que tener cuidado cuando generemos los reportes donde se utilicen estas columnas, ademas \n",
    "de que son columnas con datos compuestos, por lo que es mas  complicado ponerle un valor por defecto(como el caso\n",
    "de los int con 0, por ejemplo)\n"
   ]
  },
  {
   "cell_type": "code",
   "execution_count": 11,
   "metadata": {},
   "outputs": [
    {
     "data": {
      "text/plain": [
       "edad_participante       92298\n",
       "estatus_participante    27626\n",
       "tipo_participante       24863\n",
       "genero_participante     36362\n",
       "dtype: int64"
      ]
     },
     "execution_count": 11,
     "metadata": {},
     "output_type": "execute_result"
    }
   ],
   "source": [
    "df[['edad_participante', 'estatus_participante', 'tipo_participante', 'genero_participante']].isnull().sum()"
   ]
  },
  {
   "cell_type": "markdown",
   "metadata": {},
   "source": [
    "Eliminamos los nulos de la columna armas_involucradas y lo convertimos a entero, ya que posiblemente hagamos algunas busquedas con este campo"
   ]
  },
  {
   "cell_type": "code",
   "execution_count": 12,
   "metadata": {},
   "outputs": [],
   "source": [
    "df.armas_involucradas = df.armas_involucradas.fillna(0)\n",
    "df.armas_involucradas = df.armas_involucradas.astype('int')\n"
   ]
  },
  {
   "cell_type": "markdown",
   "metadata": {},
   "source": [
    "### Eliminacion de Columnas"
   ]
  },
  {
   "cell_type": "markdown",
   "metadata": {},
   "source": [
    "Eliminaremos algunas columnas que en su mayoria, son valores nulos, datos que no nos interesan, y el nombre de los participantes, manteniendo asi, el anonimato de estos."
   ]
  },
  {
   "cell_type": "code",
   "execution_count": 13,
   "metadata": {},
   "outputs": [],
   "source": [
    "df = df.drop(columns={'id', 'sources', 'incident_url', 'incident_url_fields_missing', 'source_url',\n",
    "                      'congressional_district', 'gun_stolen', 'tipo_arma', 'incident_characteristics',\n",
    "                      'latitude', 'desc_lugar', 'longitude', 'notes', 'direccion', \n",
    "                        'incident_url', 'edad_grupo_participantes', 'participant_name', 'relacion_participante', 'sources', 'state_house_district', 'state_senate_district'},axis = 1 )"
   ]
  },
  {
   "cell_type": "markdown",
   "metadata": {},
   "source": [
    "---\n",
    "\n",
    "### Creacion de Tabla participantes\n",
    "Debido a que tenemos datos compuestos con los que no podemos trabajar, vamos a dividirlo en otra tabla para que \n",
    "asi nos sea mas facil manipular los datos"
   ]
  },
  {
   "cell_type": "code",
   "execution_count": 14,
   "metadata": {},
   "outputs": [],
   "source": [
    "incidente_participante = {\n",
    "    'incidente_id'      : [],\n",
    "    'index_participante': [],\n",
    "    'edad'              : [],\n",
    "    'genero'            : [],\n",
    "    'estatus'           : [],\n",
    "    'tipo'              : [],\n",
    "}\n",
    "\n",
    "def splitColumn(string):\n",
    "    return string.split('||') if not pd.isnull(string) else []\n",
    "    \n",
    "def splitInfo(string):\n",
    "    string_splitted = string.split('::')\n",
    "    return string_splitted[1] if len(string_splitted) == 2 else None\n",
    "\n",
    "\n",
    "\n",
    "for incidente in df.index:\n",
    "    \n",
    "    edades  = splitColumn(df['edad_participante'][incidente])\n",
    "    generos = splitColumn(df['genero_participante'][incidente])\n",
    "    estatus = splitColumn(df['estatus_participante'][incidente])\n",
    "    tipo    = splitColumn(df['tipo_participante'][incidente])\n",
    "    participantes  = min(len(i) for i in [edades , generos ,estatus, tipo])\n",
    "    \n",
    "    for participante in range(participantes):\n",
    "        incidente_participante['incidente_id'].append(incidente)\n",
    "        incidente_participante['index_participante'].append(participante)\n",
    "        incidente_participante['edad'].append(splitInfo(edades[participante]))        \n",
    "        incidente_participante['genero'].append(splitInfo(generos[participante]))\n",
    "        incidente_participante['estatus'].append(splitInfo(estatus[participante]))\n",
    "        incidente_participante['tipo'].append(splitInfo(tipo[participante]))\n",
    "        \n",
    "\n",
    "\n",
    "\n",
    "participantes = pd.DataFrame(incidente_participante, columns=list(incidente_participante.keys()))        "
   ]
  },
  {
   "cell_type": "markdown",
   "metadata": {},
   "source": [
    "Eliminamos datos nulos de participantes"
   ]
  },
  {
   "cell_type": "code",
   "execution_count": 15,
   "metadata": {},
   "outputs": [],
   "source": [
    "participantes = participantes.dropna()"
   ]
  },
  {
   "cell_type": "markdown",
   "metadata": {},
   "source": [
    "Identificamos los casos unicos para las columnas \n",
    "- Genero\n",
    "- Estatus\n",
    "- Tipo\n",
    "\n",
    "Observamos que para <b>genero</b> solo tenemos dos casos: \n",
    "    - Male (hombre)\n",
    "    - Female (mujer)\n",
    "\n",
    "Encontramos un caso aislado que fue 'Male, female' por lo que este será eliminado.        "
   ]
  },
  {
   "cell_type": "code",
   "execution_count": 16,
   "metadata": {},
   "outputs": [
    {
     "name": "stdout",
     "output_type": "stream",
     "text": [
      "['Male' 'Female' 'Male, female']  | Total:  3\n"
     ]
    }
   ],
   "source": [
    "generos_unicos = participantes.genero.unique()\n",
    "print( generos_unicos , ' | Total: ', len(generos_unicos))\n"
   ]
  },
  {
   "cell_type": "markdown",
   "metadata": {},
   "source": [
    "Eliminamos un caso aisalado que se presento en la BD"
   ]
  },
  {
   "cell_type": "code",
   "execution_count": 17,
   "metadata": {},
   "outputs": [],
   "source": [
    "caso_aislados=participantes[participantes['genero']=='Male, female']\n",
    "participantes = participantes.drop(caso_aislados.index, axis=0)\n",
    "\n"
   ]
  },
  {
   "cell_type": "markdown",
   "metadata": {},
   "source": [
    "---\n",
    "\n",
    "En el tipo, solo tenemos dos casos los cuales son:\n",
    "- Victim\n",
    "- Subject-Suspect"
   ]
  },
  {
   "cell_type": "code",
   "execution_count": 18,
   "metadata": {},
   "outputs": [
    {
     "name": "stdout",
     "output_type": "stream",
     "text": [
      "['Victim' 'Subject-Suspect']  | Total:  2\n"
     ]
    }
   ],
   "source": [
    "tipos_unicos =participantes.tipo.unique()\n",
    "print(tipos_unicos, ' | Total: ', len(tipos_unicos))"
   ]
  },
  {
   "cell_type": "markdown",
   "metadata": {},
   "source": [
    "Ahora analizaremos los estatus"
   ]
  },
  {
   "cell_type": "code",
   "execution_count": 19,
   "metadata": {},
   "outputs": [
    {
     "name": "stdout",
     "output_type": "stream",
     "text": [
      "['Arrested' 'Killed' 'Injured, Unharmed, Arrested' 'Unharmed, Arrested'\n",
      " 'Injured' 'Killed, Unharmed, Arrested' 'Unharmed' 'Injured, Arrested'\n",
      " 'Killed, Injured' 'Killed, Unharmed' 'Killed, Arrested'\n",
      " 'Injured, Unharmed']  | Total:  12\n"
     ]
    }
   ],
   "source": [
    "status_unicos = participantes.estatus.unique()\n",
    "print( status_unicos , ' | Total: ', len(status_unicos))\n",
    "\n"
   ]
  },
  {
   "cell_type": "markdown",
   "metadata": {},
   "source": [
    "Observamos que hay distintos tipos de estutus, y algunos juntos separados por coma.\n",
    "En este caso solo tomaremo 3 estatus fundamentales:\n",
    "  - Arrested (arrestado)\n",
    "  - Killed   (muerto)\n",
    "  - Injured  (herido)\n",
    "  \n",
    "Y agregaremos 3 columnas para cada uno de los diferentes estatus al DataFrame para identificarlos con un 1 si se presenta este estatus, o 0 cero si no.\n",
    "Despues procederemos a borrar la columna de status ya que no la necesitaremos más."
   ]
  },
  {
   "cell_type": "code",
   "execution_count": 20,
   "metadata": {
    "scrolled": true
   },
   "outputs": [],
   "source": [
    "participantes['arrestado'] = 0\n",
    "participantes['muerto'] = 0\n",
    "participantes['herido'] = 0\n",
    "\n",
    "for participante in participantes.index:\n",
    "    \n",
    "    status = participantes['estatus'][participante].replace(' ', '').split(',')\n",
    "    participantes.loc[participantes.index == participante, 'arrestado'] = 1 if 'Arrested' in status else  0    \n",
    "    participantes.loc[participantes.index == participante, 'muerto'] = 1 if 'Killed' in status else  0\n",
    "    participantes.loc[participantes.index == participante, 'herido'] = 1 if 'Injured' in status else  0    \n",
    "\n",
    "participantes.drop(['estatus'], axis=1, inplace=True)\n",
    "\n"
   ]
  },
  {
   "cell_type": "markdown",
   "metadata": {},
   "source": [
    "--- \n",
    "\n",
    "Y por ultimo, procedemos a traducir los valores en las columnas de genero y tipo para que sea mas facil hacer las busquedas y homologar toda la BD"
   ]
  },
  {
   "cell_type": "code",
   "execution_count": 21,
   "metadata": {
    "scrolled": true
   },
   "outputs": [
    {
     "data": {
      "text/html": [
       "<div>\n",
       "<style scoped>\n",
       "    .dataframe tbody tr th:only-of-type {\n",
       "        vertical-align: middle;\n",
       "    }\n",
       "\n",
       "    .dataframe tbody tr th {\n",
       "        vertical-align: top;\n",
       "    }\n",
       "\n",
       "    .dataframe thead th {\n",
       "        text-align: right;\n",
       "    }\n",
       "</style>\n",
       "<table border=\"1\" class=\"dataframe\">\n",
       "  <thead>\n",
       "    <tr style=\"text-align: right;\">\n",
       "      <th></th>\n",
       "      <th>incidente_id</th>\n",
       "      <th>index_participante</th>\n",
       "      <th>edad</th>\n",
       "      <th>genero</th>\n",
       "      <th>tipo</th>\n",
       "      <th>arrestado</th>\n",
       "      <th>muerto</th>\n",
       "      <th>herido</th>\n",
       "    </tr>\n",
       "  </thead>\n",
       "  <tbody>\n",
       "    <tr>\n",
       "      <th>0</th>\n",
       "      <td>0</td>\n",
       "      <td>0</td>\n",
       "      <td>20</td>\n",
       "      <td>hombre</td>\n",
       "      <td>victima</td>\n",
       "      <td>1</td>\n",
       "      <td>0</td>\n",
       "      <td>0</td>\n",
       "    </tr>\n",
       "    <tr>\n",
       "      <th>1</th>\n",
       "      <td>1</td>\n",
       "      <td>0</td>\n",
       "      <td>20</td>\n",
       "      <td>hombre</td>\n",
       "      <td>victima</td>\n",
       "      <td>0</td>\n",
       "      <td>1</td>\n",
       "      <td>0</td>\n",
       "    </tr>\n",
       "    <tr>\n",
       "      <th>2</th>\n",
       "      <td>2</td>\n",
       "      <td>0</td>\n",
       "      <td>25</td>\n",
       "      <td>hombre</td>\n",
       "      <td>sospechoso</td>\n",
       "      <td>1</td>\n",
       "      <td>0</td>\n",
       "      <td>1</td>\n",
       "    </tr>\n",
       "    <tr>\n",
       "      <th>3</th>\n",
       "      <td>2</td>\n",
       "      <td>1</td>\n",
       "      <td>31</td>\n",
       "      <td>hombre</td>\n",
       "      <td>sospechoso</td>\n",
       "      <td>1</td>\n",
       "      <td>0</td>\n",
       "      <td>0</td>\n",
       "    </tr>\n",
       "    <tr>\n",
       "      <th>4</th>\n",
       "      <td>2</td>\n",
       "      <td>2</td>\n",
       "      <td>33</td>\n",
       "      <td>hombre</td>\n",
       "      <td>victima</td>\n",
       "      <td>0</td>\n",
       "      <td>1</td>\n",
       "      <td>0</td>\n",
       "    </tr>\n",
       "    <tr>\n",
       "      <th>...</th>\n",
       "      <td>...</td>\n",
       "      <td>...</td>\n",
       "      <td>...</td>\n",
       "      <td>...</td>\n",
       "      <td>...</td>\n",
       "      <td>...</td>\n",
       "      <td>...</td>\n",
       "      <td>...</td>\n",
       "    </tr>\n",
       "    <tr>\n",
       "      <th>215782</th>\n",
       "      <td>239673</td>\n",
       "      <td>0</td>\n",
       "      <td>21</td>\n",
       "      <td>hombre</td>\n",
       "      <td>victima</td>\n",
       "      <td>0</td>\n",
       "      <td>1</td>\n",
       "      <td>0</td>\n",
       "    </tr>\n",
       "    <tr>\n",
       "      <th>215783</th>\n",
       "      <td>239674</td>\n",
       "      <td>0</td>\n",
       "      <td>21</td>\n",
       "      <td>hombre</td>\n",
       "      <td>victima</td>\n",
       "      <td>0</td>\n",
       "      <td>0</td>\n",
       "      <td>1</td>\n",
       "    </tr>\n",
       "    <tr>\n",
       "      <th>215784</th>\n",
       "      <td>239675</td>\n",
       "      <td>0</td>\n",
       "      <td>42</td>\n",
       "      <td>hombre</td>\n",
       "      <td>victima</td>\n",
       "      <td>0</td>\n",
       "      <td>1</td>\n",
       "      <td>0</td>\n",
       "    </tr>\n",
       "    <tr>\n",
       "      <th>215785</th>\n",
       "      <td>239676</td>\n",
       "      <td>0</td>\n",
       "      <td>58</td>\n",
       "      <td>mujer</td>\n",
       "      <td>victima</td>\n",
       "      <td>0</td>\n",
       "      <td>1</td>\n",
       "      <td>0</td>\n",
       "    </tr>\n",
       "    <tr>\n",
       "      <th>215786</th>\n",
       "      <td>239676</td>\n",
       "      <td>1</td>\n",
       "      <td>62</td>\n",
       "      <td>hombre</td>\n",
       "      <td>sospechoso</td>\n",
       "      <td>0</td>\n",
       "      <td>1</td>\n",
       "      <td>0</td>\n",
       "    </tr>\n",
       "  </tbody>\n",
       "</table>\n",
       "<p>213754 rows × 8 columns</p>\n",
       "</div>"
      ],
      "text/plain": [
       "        incidente_id  index_participante edad  genero        tipo  arrestado  \\\n",
       "0                  0                   0   20  hombre     victima          1   \n",
       "1                  1                   0   20  hombre     victima          0   \n",
       "2                  2                   0   25  hombre  sospechoso          1   \n",
       "3                  2                   1   31  hombre  sospechoso          1   \n",
       "4                  2                   2   33  hombre     victima          0   \n",
       "...              ...                 ...  ...     ...         ...        ...   \n",
       "215782        239673                   0   21  hombre     victima          0   \n",
       "215783        239674                   0   21  hombre     victima          0   \n",
       "215784        239675                   0   42  hombre     victima          0   \n",
       "215785        239676                   0   58   mujer     victima          0   \n",
       "215786        239676                   1   62  hombre  sospechoso          0   \n",
       "\n",
       "        muerto  herido  \n",
       "0            0       0  \n",
       "1            1       0  \n",
       "2            0       1  \n",
       "3            0       0  \n",
       "4            1       0  \n",
       "...        ...     ...  \n",
       "215782       1       0  \n",
       "215783       0       1  \n",
       "215784       1       0  \n",
       "215785       1       0  \n",
       "215786       1       0  \n",
       "\n",
       "[213754 rows x 8 columns]"
      ]
     },
     "execution_count": 21,
     "metadata": {},
     "output_type": "execute_result"
    }
   ],
   "source": [
    "participantes['genero'].mask(participantes['genero'] == 'Male', 'hombre', inplace=True)\n",
    "participantes['genero'].mask(participantes['genero'] == 'Female', 'mujer', inplace=True)\n",
    "participantes['tipo'].mask(participantes['tipo'] == 'Victim', 'victima', inplace=True)\n",
    "participantes['tipo'].mask(participantes['tipo'] == 'Subject-Suspect', 'sospechoso', inplace=True)\n",
    "\n",
    "participantes"
   ]
  },
  {
   "cell_type": "markdown",
   "metadata": {},
   "source": [
    "---\n",
    "Una vez con la tabla de participantes creada, elimnaremos las columnas de edad_participante, \n",
    "genero_participante, estatus_participante, tipo_participante"
   ]
  },
  {
   "cell_type": "code",
   "execution_count": 22,
   "metadata": {},
   "outputs": [],
   "source": [
    "df.drop(columns= {'edad_participante', 'genero_participante', 'estatus_participante','tipo_participante',}, inplace=True)"
   ]
  },
  {
   "cell_type": "markdown",
   "metadata": {},
   "source": [
    "Antes de concluir, exportaremos la tabla de incidentes limpia, al igual que la tabla de participantes"
   ]
  },
  {
   "cell_type": "code",
   "execution_count": 23,
   "metadata": {},
   "outputs": [],
   "source": [
    "participantes.to_csv('participantes.csv', index=False)\n",
    "df.to_csv('incidentes.csv', index=False)"
   ]
  },
  {
   "cell_type": "markdown",
   "metadata": {},
   "source": [
    "--- \n",
    "\n",
    "### Identificacion de Clases\n",
    "En esta caso, vamos a realizar una busqueda por el conteo de muertos, haciendo 3 clases:\n",
    "- No Muertos\n",
    "- 1 Muerto\n",
    "- Mas de 1 muerto\n",
    "\n",
    "Despues, procederemos a guardalas en un csv para trabajar independientemente con ellas."
   ]
  },
  {
   "cell_type": "code",
   "execution_count": 24,
   "metadata": {},
   "outputs": [],
   "source": [
    "no_muertos = df[df['num_muertos'] == 0]\n",
    "no_muertos.to_csv('no_muertos.csv', index=True)\n",
    "\n",
    "un_muerto = df[df['num_muertos'] == 1]\n",
    "un_muerto.to_csv('un_muerto.csv', index=True)\n",
    "\n",
    "mas_de_un_muerto = df[df['num_muertos'] > 1]\n",
    "mas_de_un_muerto.to_csv('mas_de_un_muerto.csv', index=True)"
   ]
  },
  {
   "cell_type": "markdown",
   "metadata": {},
   "source": [
    "---\n",
    "\n",
    "Con esto podemos inferir cuales son las zonas mas y menos peligrosas, ya que pude haber un incidente, pero no quiere decir que haya muertos. \n",
    "\n",
    "Lo que hicimos abajo fue, obtener un conteo del listado unico donde haya habido mas de un muerto, pudiendo identificar cuales son las zonas mas mortales, aunque no quiera decir que en estos estados no haya incidentes con 0 muertos"
   ]
  },
  {
   "cell_type": "code",
   "execution_count": 25,
   "metadata": {},
   "outputs": [
    {
     "data": {
      "text/plain": [
       "2329"
      ]
     },
     "execution_count": 25,
     "metadata": {},
     "output_type": "execute_result"
    }
   ],
   "source": [
    "len(mas_de_un_muerto.condado_o_localidad.unique())"
   ]
  },
  {
   "cell_type": "markdown",
   "metadata": {},
   "source": [
    "---\n",
    "Y finalmente, tenemos nuestra BD preparada solo con los datos que necesitamos"
   ]
  },
  {
   "cell_type": "code",
   "execution_count": 26,
   "metadata": {
    "scrolled": true
   },
   "outputs": [
    {
     "data": {
      "text/html": [
       "<div>\n",
       "<style scoped>\n",
       "    .dataframe tbody tr th:only-of-type {\n",
       "        vertical-align: middle;\n",
       "    }\n",
       "\n",
       "    .dataframe tbody tr th {\n",
       "        vertical-align: top;\n",
       "    }\n",
       "\n",
       "    .dataframe thead th {\n",
       "        text-align: right;\n",
       "    }\n",
       "</style>\n",
       "<table border=\"1\" class=\"dataframe\">\n",
       "  <thead>\n",
       "    <tr style=\"text-align: right;\">\n",
       "      <th></th>\n",
       "      <th>fecha</th>\n",
       "      <th>estado</th>\n",
       "      <th>condado_o_localidad</th>\n",
       "      <th>num_muertos</th>\n",
       "      <th>num_lesionados</th>\n",
       "      <th>armas_involucradas</th>\n",
       "    </tr>\n",
       "  </thead>\n",
       "  <tbody>\n",
       "    <tr>\n",
       "      <th>0</th>\n",
       "      <td>2013-01-01</td>\n",
       "      <td>Pennsylvania</td>\n",
       "      <td>Mckeesport</td>\n",
       "      <td>0</td>\n",
       "      <td>4</td>\n",
       "      <td>0</td>\n",
       "    </tr>\n",
       "    <tr>\n",
       "      <th>1</th>\n",
       "      <td>2013-01-01</td>\n",
       "      <td>California</td>\n",
       "      <td>Hawthorne</td>\n",
       "      <td>1</td>\n",
       "      <td>3</td>\n",
       "      <td>0</td>\n",
       "    </tr>\n",
       "    <tr>\n",
       "      <th>2</th>\n",
       "      <td>2013-01-01</td>\n",
       "      <td>Ohio</td>\n",
       "      <td>Lorain</td>\n",
       "      <td>1</td>\n",
       "      <td>3</td>\n",
       "      <td>2</td>\n",
       "    </tr>\n",
       "    <tr>\n",
       "      <th>3</th>\n",
       "      <td>2013-01-05</td>\n",
       "      <td>Colorado</td>\n",
       "      <td>Aurora</td>\n",
       "      <td>4</td>\n",
       "      <td>0</td>\n",
       "      <td>0</td>\n",
       "    </tr>\n",
       "    <tr>\n",
       "      <th>4</th>\n",
       "      <td>2013-01-07</td>\n",
       "      <td>North Carolina</td>\n",
       "      <td>Greensboro</td>\n",
       "      <td>2</td>\n",
       "      <td>2</td>\n",
       "      <td>2</td>\n",
       "    </tr>\n",
       "    <tr>\n",
       "      <th>...</th>\n",
       "      <td>...</td>\n",
       "      <td>...</td>\n",
       "      <td>...</td>\n",
       "      <td>...</td>\n",
       "      <td>...</td>\n",
       "      <td>...</td>\n",
       "    </tr>\n",
       "    <tr>\n",
       "      <th>239672</th>\n",
       "      <td>2018-03-31</td>\n",
       "      <td>Louisiana</td>\n",
       "      <td>Rayne</td>\n",
       "      <td>0</td>\n",
       "      <td>0</td>\n",
       "      <td>1</td>\n",
       "    </tr>\n",
       "    <tr>\n",
       "      <th>239673</th>\n",
       "      <td>2018-03-31</td>\n",
       "      <td>Louisiana</td>\n",
       "      <td>Natchitoches</td>\n",
       "      <td>1</td>\n",
       "      <td>0</td>\n",
       "      <td>1</td>\n",
       "    </tr>\n",
       "    <tr>\n",
       "      <th>239674</th>\n",
       "      <td>2018-03-31</td>\n",
       "      <td>Louisiana</td>\n",
       "      <td>Gretna</td>\n",
       "      <td>0</td>\n",
       "      <td>1</td>\n",
       "      <td>1</td>\n",
       "    </tr>\n",
       "    <tr>\n",
       "      <th>239675</th>\n",
       "      <td>2018-03-31</td>\n",
       "      <td>Texas</td>\n",
       "      <td>Houston</td>\n",
       "      <td>1</td>\n",
       "      <td>0</td>\n",
       "      <td>1</td>\n",
       "    </tr>\n",
       "    <tr>\n",
       "      <th>239676</th>\n",
       "      <td>2018-03-31</td>\n",
       "      <td>Maine</td>\n",
       "      <td>Norridgewock</td>\n",
       "      <td>2</td>\n",
       "      <td>0</td>\n",
       "      <td>2</td>\n",
       "    </tr>\n",
       "  </tbody>\n",
       "</table>\n",
       "<p>239677 rows × 6 columns</p>\n",
       "</div>"
      ],
      "text/plain": [
       "             fecha          estado condado_o_localidad  num_muertos  \\\n",
       "0       2013-01-01    Pennsylvania          Mckeesport            0   \n",
       "1       2013-01-01      California           Hawthorne            1   \n",
       "2       2013-01-01            Ohio              Lorain            1   \n",
       "3       2013-01-05        Colorado              Aurora            4   \n",
       "4       2013-01-07  North Carolina          Greensboro            2   \n",
       "...            ...             ...                 ...          ...   \n",
       "239672  2018-03-31       Louisiana               Rayne            0   \n",
       "239673  2018-03-31       Louisiana        Natchitoches            1   \n",
       "239674  2018-03-31       Louisiana              Gretna            0   \n",
       "239675  2018-03-31           Texas             Houston            1   \n",
       "239676  2018-03-31           Maine        Norridgewock            2   \n",
       "\n",
       "        num_lesionados  armas_involucradas  \n",
       "0                    4                   0  \n",
       "1                    3                   0  \n",
       "2                    3                   2  \n",
       "3                    0                   0  \n",
       "4                    2                   2  \n",
       "...                ...                 ...  \n",
       "239672               0                   1  \n",
       "239673               0                   1  \n",
       "239674               1                   1  \n",
       "239675               0                   1  \n",
       "239676               0                   2  \n",
       "\n",
       "[239677 rows x 6 columns]"
      ]
     },
     "execution_count": 26,
     "metadata": {},
     "output_type": "execute_result"
    }
   ],
   "source": [
    "df"
   ]
  },
  {
   "cell_type": "code",
   "execution_count": 27,
   "metadata": {},
   "outputs": [
    {
     "data": {
      "text/html": [
       "<div>\n",
       "<style scoped>\n",
       "    .dataframe tbody tr th:only-of-type {\n",
       "        vertical-align: middle;\n",
       "    }\n",
       "\n",
       "    .dataframe tbody tr th {\n",
       "        vertical-align: top;\n",
       "    }\n",
       "\n",
       "    .dataframe thead th {\n",
       "        text-align: right;\n",
       "    }\n",
       "</style>\n",
       "<table border=\"1\" class=\"dataframe\">\n",
       "  <thead>\n",
       "    <tr style=\"text-align: right;\">\n",
       "      <th></th>\n",
       "      <th>incidente_id</th>\n",
       "      <th>index_participante</th>\n",
       "      <th>edad</th>\n",
       "      <th>genero</th>\n",
       "      <th>tipo</th>\n",
       "      <th>arrestado</th>\n",
       "      <th>muerto</th>\n",
       "      <th>herido</th>\n",
       "    </tr>\n",
       "  </thead>\n",
       "  <tbody>\n",
       "    <tr>\n",
       "      <th>0</th>\n",
       "      <td>0</td>\n",
       "      <td>0</td>\n",
       "      <td>20</td>\n",
       "      <td>hombre</td>\n",
       "      <td>victima</td>\n",
       "      <td>1</td>\n",
       "      <td>0</td>\n",
       "      <td>0</td>\n",
       "    </tr>\n",
       "    <tr>\n",
       "      <th>1</th>\n",
       "      <td>1</td>\n",
       "      <td>0</td>\n",
       "      <td>20</td>\n",
       "      <td>hombre</td>\n",
       "      <td>victima</td>\n",
       "      <td>0</td>\n",
       "      <td>1</td>\n",
       "      <td>0</td>\n",
       "    </tr>\n",
       "    <tr>\n",
       "      <th>2</th>\n",
       "      <td>2</td>\n",
       "      <td>0</td>\n",
       "      <td>25</td>\n",
       "      <td>hombre</td>\n",
       "      <td>sospechoso</td>\n",
       "      <td>1</td>\n",
       "      <td>0</td>\n",
       "      <td>1</td>\n",
       "    </tr>\n",
       "    <tr>\n",
       "      <th>3</th>\n",
       "      <td>2</td>\n",
       "      <td>1</td>\n",
       "      <td>31</td>\n",
       "      <td>hombre</td>\n",
       "      <td>sospechoso</td>\n",
       "      <td>1</td>\n",
       "      <td>0</td>\n",
       "      <td>0</td>\n",
       "    </tr>\n",
       "    <tr>\n",
       "      <th>4</th>\n",
       "      <td>2</td>\n",
       "      <td>2</td>\n",
       "      <td>33</td>\n",
       "      <td>hombre</td>\n",
       "      <td>victima</td>\n",
       "      <td>0</td>\n",
       "      <td>1</td>\n",
       "      <td>0</td>\n",
       "    </tr>\n",
       "    <tr>\n",
       "      <th>...</th>\n",
       "      <td>...</td>\n",
       "      <td>...</td>\n",
       "      <td>...</td>\n",
       "      <td>...</td>\n",
       "      <td>...</td>\n",
       "      <td>...</td>\n",
       "      <td>...</td>\n",
       "      <td>...</td>\n",
       "    </tr>\n",
       "    <tr>\n",
       "      <th>215782</th>\n",
       "      <td>239673</td>\n",
       "      <td>0</td>\n",
       "      <td>21</td>\n",
       "      <td>hombre</td>\n",
       "      <td>victima</td>\n",
       "      <td>0</td>\n",
       "      <td>1</td>\n",
       "      <td>0</td>\n",
       "    </tr>\n",
       "    <tr>\n",
       "      <th>215783</th>\n",
       "      <td>239674</td>\n",
       "      <td>0</td>\n",
       "      <td>21</td>\n",
       "      <td>hombre</td>\n",
       "      <td>victima</td>\n",
       "      <td>0</td>\n",
       "      <td>0</td>\n",
       "      <td>1</td>\n",
       "    </tr>\n",
       "    <tr>\n",
       "      <th>215784</th>\n",
       "      <td>239675</td>\n",
       "      <td>0</td>\n",
       "      <td>42</td>\n",
       "      <td>hombre</td>\n",
       "      <td>victima</td>\n",
       "      <td>0</td>\n",
       "      <td>1</td>\n",
       "      <td>0</td>\n",
       "    </tr>\n",
       "    <tr>\n",
       "      <th>215785</th>\n",
       "      <td>239676</td>\n",
       "      <td>0</td>\n",
       "      <td>58</td>\n",
       "      <td>mujer</td>\n",
       "      <td>victima</td>\n",
       "      <td>0</td>\n",
       "      <td>1</td>\n",
       "      <td>0</td>\n",
       "    </tr>\n",
       "    <tr>\n",
       "      <th>215786</th>\n",
       "      <td>239676</td>\n",
       "      <td>1</td>\n",
       "      <td>62</td>\n",
       "      <td>hombre</td>\n",
       "      <td>sospechoso</td>\n",
       "      <td>0</td>\n",
       "      <td>1</td>\n",
       "      <td>0</td>\n",
       "    </tr>\n",
       "  </tbody>\n",
       "</table>\n",
       "<p>213754 rows × 8 columns</p>\n",
       "</div>"
      ],
      "text/plain": [
       "        incidente_id  index_participante edad  genero        tipo  arrestado  \\\n",
       "0                  0                   0   20  hombre     victima          1   \n",
       "1                  1                   0   20  hombre     victima          0   \n",
       "2                  2                   0   25  hombre  sospechoso          1   \n",
       "3                  2                   1   31  hombre  sospechoso          1   \n",
       "4                  2                   2   33  hombre     victima          0   \n",
       "...              ...                 ...  ...     ...         ...        ...   \n",
       "215782        239673                   0   21  hombre     victima          0   \n",
       "215783        239674                   0   21  hombre     victima          0   \n",
       "215784        239675                   0   42  hombre     victima          0   \n",
       "215785        239676                   0   58   mujer     victima          0   \n",
       "215786        239676                   1   62  hombre  sospechoso          0   \n",
       "\n",
       "        muerto  herido  \n",
       "0            0       0  \n",
       "1            1       0  \n",
       "2            0       1  \n",
       "3            0       0  \n",
       "4            1       0  \n",
       "...        ...     ...  \n",
       "215782       1       0  \n",
       "215783       0       1  \n",
       "215784       1       0  \n",
       "215785       1       0  \n",
       "215786       1       0  \n",
       "\n",
       "[213754 rows x 8 columns]"
      ]
     },
     "execution_count": 27,
     "metadata": {},
     "output_type": "execute_result"
    }
   ],
   "source": [
    "participantes"
   ]
  },
  {
   "cell_type": "markdown",
   "metadata": {},
   "source": [
    "---\n",
    "## Visualizacion"
   ]
  },
  {
   "cell_type": "markdown",
   "metadata": {},
   "source": [
    "Procedemos a obtener la informacion limpiada"
   ]
  },
  {
   "cell_type": "code",
   "execution_count": 3,
   "metadata": {},
   "outputs": [],
   "source": [
    "incidentes    = pd.read_csv(r\"incidentes.csv\")\n",
    "participantes = pd.read_csv(r\"participantes.csv\")"
   ]
  },
  {
   "cell_type": "markdown",
   "metadata": {},
   "source": [
    "### Incidentes\n",
    "---\n",
    "Visualizaremos primero la informacion de los incidentes"
   ]
  },
  {
   "cell_type": "code",
   "execution_count": 4,
   "metadata": {
    "scrolled": true
   },
   "outputs": [
    {
     "data": {
      "text/html": [
       "<div>\n",
       "<style scoped>\n",
       "    .dataframe tbody tr th:only-of-type {\n",
       "        vertical-align: middle;\n",
       "    }\n",
       "\n",
       "    .dataframe tbody tr th {\n",
       "        vertical-align: top;\n",
       "    }\n",
       "\n",
       "    .dataframe thead th {\n",
       "        text-align: right;\n",
       "    }\n",
       "</style>\n",
       "<table border=\"1\" class=\"dataframe\">\n",
       "  <thead>\n",
       "    <tr style=\"text-align: right;\">\n",
       "      <th></th>\n",
       "      <th>fecha</th>\n",
       "      <th>estado</th>\n",
       "      <th>condado_o_localidad</th>\n",
       "      <th>num_muertos</th>\n",
       "      <th>num_lesionados</th>\n",
       "      <th>armas_involucradas</th>\n",
       "    </tr>\n",
       "  </thead>\n",
       "  <tbody>\n",
       "    <tr>\n",
       "      <th>0</th>\n",
       "      <td>2013-01-01</td>\n",
       "      <td>Pennsylvania</td>\n",
       "      <td>Mckeesport</td>\n",
       "      <td>0</td>\n",
       "      <td>4</td>\n",
       "      <td>0</td>\n",
       "    </tr>\n",
       "    <tr>\n",
       "      <th>1</th>\n",
       "      <td>2013-01-01</td>\n",
       "      <td>California</td>\n",
       "      <td>Hawthorne</td>\n",
       "      <td>1</td>\n",
       "      <td>3</td>\n",
       "      <td>0</td>\n",
       "    </tr>\n",
       "    <tr>\n",
       "      <th>2</th>\n",
       "      <td>2013-01-01</td>\n",
       "      <td>Ohio</td>\n",
       "      <td>Lorain</td>\n",
       "      <td>1</td>\n",
       "      <td>3</td>\n",
       "      <td>2</td>\n",
       "    </tr>\n",
       "    <tr>\n",
       "      <th>3</th>\n",
       "      <td>2013-01-05</td>\n",
       "      <td>Colorado</td>\n",
       "      <td>Aurora</td>\n",
       "      <td>4</td>\n",
       "      <td>0</td>\n",
       "      <td>0</td>\n",
       "    </tr>\n",
       "    <tr>\n",
       "      <th>4</th>\n",
       "      <td>2013-01-07</td>\n",
       "      <td>North Carolina</td>\n",
       "      <td>Greensboro</td>\n",
       "      <td>2</td>\n",
       "      <td>2</td>\n",
       "      <td>2</td>\n",
       "    </tr>\n",
       "  </tbody>\n",
       "</table>\n",
       "</div>"
      ],
      "text/plain": [
       "        fecha          estado condado_o_localidad  num_muertos  \\\n",
       "0  2013-01-01    Pennsylvania          Mckeesport            0   \n",
       "1  2013-01-01      California           Hawthorne            1   \n",
       "2  2013-01-01            Ohio              Lorain            1   \n",
       "3  2013-01-05        Colorado              Aurora            4   \n",
       "4  2013-01-07  North Carolina          Greensboro            2   \n",
       "\n",
       "   num_lesionados  armas_involucradas  \n",
       "0               4                   0  \n",
       "1               3                   0  \n",
       "2               3                   2  \n",
       "3               0                   0  \n",
       "4               2                   2  "
      ]
     },
     "execution_count": 4,
     "metadata": {},
     "output_type": "execute_result"
    }
   ],
   "source": [
    "incidentes.head(5)"
   ]
  },
  {
   "cell_type": "markdown",
   "metadata": {},
   "source": [
    "---\n",
    "Vamos a obtener los valores maximos, minimos y el promedio de cada una de las columnas numericas."
   ]
  },
  {
   "cell_type": "code",
   "execution_count": 5,
   "metadata": {},
   "outputs": [
    {
     "name": "stdout",
     "output_type": "stream",
     "text": [
      "count    239677.00000\n",
      "max          50.00000\n",
      "min           0.00000\n",
      "mean          0.25229\n",
      "Name: num_muertos, dtype: float64\n"
     ]
    }
   ],
   "source": [
    "print(incidentes.num_muertos.describe()[['count','max', 'min', 'mean']])"
   ]
  },
  {
   "cell_type": "code",
   "execution_count": 6,
   "metadata": {},
   "outputs": [
    {
     "name": "stdout",
     "output_type": "stream",
     "text": [
      "count    239677.000000\n",
      "max          53.000000\n",
      "min           0.000000\n",
      "mean          0.494007\n",
      "Name: num_lesionados, dtype: float64\n"
     ]
    }
   ],
   "source": [
    "print(incidentes.num_lesionados.describe()[['count','max', 'min', 'mean']])"
   ]
  },
  {
   "cell_type": "code",
   "execution_count": 7,
   "metadata": {
    "scrolled": true
   },
   "outputs": [
    {
     "name": "stdout",
     "output_type": "stream",
     "text": [
      "count    239677.000000\n",
      "max         400.000000\n",
      "min           0.000000\n",
      "mean          0.802964\n",
      "Name: armas_involucradas, dtype: float64\n"
     ]
    }
   ],
   "source": [
    "print(incidentes.armas_involucradas.describe()[['count','max', 'min', 'mean']])"
   ]
  },
  {
   "cell_type": "code",
   "execution_count": null,
   "metadata": {},
   "outputs": [],
   "source": []
  },
  {
   "cell_type": "markdown",
   "metadata": {},
   "source": [
    "Una observacion importante es que apesar de que las 3 columnas tienen datos muy altos, el promedio esta muy por de bajo de esa cifra, por ejemplo, en el caso de las armas involucradas, tenemos incidentes con hasta 400 armas, pero el promedio solo es de 0.8 armas por incidente, osea casi 1 arma por incidente, lo cual tenemos que estar preparados para trabajar con estos casos extraños."
   ]
  },
  {
   "cell_type": "markdown",
   "metadata": {},
   "source": [
    "---\n",
    "Para poder determinar que estados son mas peligrosos, nos basaremos en el numero de muertos y heridos por incidiente, para ello obtendremos los estados donde el valor de estos es mayor o igual a 1"
   ]
  },
  {
   "cell_type": "code",
   "execution_count": 10,
   "metadata": {},
   "outputs": [
    {
     "data": {
      "text/plain": [
       "<matplotlib.axes._subplots.AxesSubplot at 0x7f684be8c390>"
      ]
     },
     "execution_count": 10,
     "metadata": {},
     "output_type": "execute_result"
    },
    {
     "data": {
      "image/png": "[encoded data removed]",
      "text/plain": [
       "<Figure size 432x288 with 1 Axes>"
      ]
     },
     "metadata": {
      "needs_background": "light"
     },
     "output_type": "display_data"
    }
   ],
   "source": [
    "incidentes_muertos = incidentes[incidentes.num_muertos >= 1]['estado'].value_counts().head(5)\n",
    "incidentes_muertos.plot.bar()"
   ]
  },
  {
   "cell_type": "code",
   "execution_count": 11,
   "metadata": {},
   "outputs": [
    {
     "data": {
      "text/plain": [
       "<matplotlib.axes._subplots.AxesSubplot at 0x7f684b04f150>"
      ]
     },
     "execution_count": 11,
     "metadata": {},
     "output_type": "execute_result"
    },
    {
     "data": {
      "image/png": "[encoded data removed]",
      "text/plain": [
       "<Figure size 432x288 with 1 Axes>"
      ]
     },
     "metadata": {
      "needs_background": "light"
     },
     "output_type": "display_data"
    }
   ],
   "source": [
    "incidentes_lesionados = incidentes[incidentes.num_lesionados >= 1]['estado'].value_counts().head(5)\n",
    "incidentes_lesionados.plot.bar()"
   ]
  },
  {
   "cell_type": "markdown",
   "metadata": {},
   "source": [
    "Podemos identificar los 5 estados mas peligrosos:\n",
    "- Illinois\n",
    "- California\n",
    "- Florida\n",
    "- Texas\n",
    "- Ohio"
   ]
  },
  {
   "cell_type": "code",
   "execution_count": 12,
   "metadata": {},
   "outputs": [],
   "source": [
    "estados_peligrosos = list( incidentes[incidentes.num_lesionados >= 1]['estado'].value_counts().head(5).reset_index()['index'])"
   ]
  },
  {
   "cell_type": "code",
   "execution_count": 13,
   "metadata": {
    "scrolled": true
   },
   "outputs": [
    {
     "data": {
      "text/plain": [
       "<matplotlib.axes._subplots.AxesSubplot at 0x7f684afdb710>"
      ]
     },
     "execution_count": 13,
     "metadata": {},
     "output_type": "execute_result"
    },
    {
     "data": {
      "image/png": "[encoded data removed]",
      "text/plain": [
       "<Figure size 720x576 with 1 Axes>"
      ]
     },
     "metadata": {
      "needs_background": "light"
     },
     "output_type": "display_data"
    }
   ],
   "source": [
    "df = pd.DataFrame({\n",
    "                    'Lesionados': incidentes_lesionados,\n",
    "                    \n",
    "                    'Muertos': incidentes_muertos\n",
    "                  }, index=estados_peligrosos)\n",
    "\n",
    "df.plot.bar( title=\"Comparacion\",  stacked=True, figsize=(10,8))"
   ]
  },
  {
   "cell_type": "markdown",
   "metadata": {},
   "source": [
    "Podemos observar en la comparacion que a pesar de que Illinois es el estado con mas incidentes, California es el que mas tasa de muertes tiene."
   ]
  },
  {
   "cell_type": "markdown",
   "metadata": {},
   "source": [
    "---\n",
    "Ahora que ya sabemos los estados mas peligrosos en base a nuestras condiciones, haremos la comparacion de manera general para todos los incidentes"
   ]
  },
  {
   "cell_type": "code",
   "execution_count": 14,
   "metadata": {},
   "outputs": [
    {
     "data": {
      "text/plain": [
       "<matplotlib.axes._subplots.AxesSubplot at 0x7f684aee2d50>"
      ]
     },
     "execution_count": 14,
     "metadata": {},
     "output_type": "execute_result"
    },
    {
     "data": {
      "image/png": "[encoded data removed]",
      "text/plain": [
       "<Figure size 432x288 with 1 Axes>"
      ]
     },
     "metadata": {
      "needs_background": "light"
     },
     "output_type": "display_data"
    }
   ],
   "source": [
    "incidentes['estado'].value_counts().head(5).plot.bar()"
   ]
  },
  {
   "cell_type": "markdown",
   "metadata": {},
   "source": [
    "Podemos observar que los estados con mas registro de incidentes siguen siendo los mismos, por lo que podremos concluir que estos son los estados que mas atencion deben de tener para nuestro analisis"
   ]
  },
  {
   "cell_type": "markdown",
   "metadata": {},
   "source": [
    "---\n",
    "Para poder identificar las incidencias en base a la fecha, crearemos otra columna que se llamara periodo, que nos indicara el año y el trimestre en base a la fecha"
   ]
  },
  {
   "cell_type": "code",
   "execution_count": 15,
   "metadata": {
    "scrolled": true
   },
   "outputs": [
    {
     "data": {
      "text/plain": [
       "2017Q2    16401\n",
       "2016Q3    15714\n",
       "2017Q3    15539\n",
       "2014Q3    15530\n",
       "2016Q4    15496\n",
       "2015Q3    14949\n",
       "2017Q1    14837\n",
       "2017Q4    14624\n",
       "2016Q2    14104\n",
       "2015Q2    14082\n",
       "2018Q1    13802\n",
       "2016Q1    13449\n",
       "2015Q4    13219\n",
       "2014Q2    12651\n",
       "2014Q4    12564\n",
       "2015Q1    11329\n",
       "2014Q1    11109\n",
       "2013Q3       90\n",
       "2013Q2       75\n",
       "2013Q4       67\n",
       "2013Q1       46\n",
       "Name: periodo, dtype: int64"
      ]
     },
     "execution_count": 15,
     "metadata": {},
     "output_type": "execute_result"
    }
   ],
   "source": [
    "incidentes['fecha'] = pd.to_datetime(incidentes['fecha'])\n",
    "incidentes['periodo'] = incidentes.fecha.dt.to_period('Q').dt.strftime('%YQ%q')\n",
    "\n",
    "estados_periodos = {}\n",
    "trimestres = list(incidentes.periodo.value_counts(sort=False).sort_index().index)\n",
    "\n",
    "\n",
    "for estado in estados_peligrosos:\n",
    "    estados_periodos[estado] = []\n",
    "    for i, trimestre in enumerate(trimestres, start=0):\n",
    "        estados_periodos[estado].append( incidentes[(incidentes.estado == estado) & (incidentes.periodo == trimestre) ].estado.count() )\n",
    "\n",
    "incidentes.periodo.value_counts()"
   ]
  },
  {
   "cell_type": "code",
   "execution_count": 16,
   "metadata": {},
   "outputs": [
    {
     "data": {
      "image/png": "[encoded data removed]",
      "text/plain": [
       "<Figure size 864x288 with 1 Axes>"
      ]
     },
     "metadata": {
      "needs_background": "light"
     },
     "output_type": "display_data"
    }
   ],
   "source": [
    "\n",
    "df = pd.DataFrame(estados_periodos, index=trimestres)\n",
    "\n",
    "lines = df.plot(kind=\"line\", figsize=(12,4))"
   ]
  },
  {
   "cell_type": "markdown",
   "metadata": {},
   "source": [
    "Al parecer, los datos en el año 2013 no se habian estado registrando correctamente, por lo que los datos en este año seran excluidos del analisis para que no puedan afectar posibles datos predictivos en el futuro"
   ]
  },
  {
   "cell_type": "code",
   "execution_count": 17,
   "metadata": {
    "scrolled": true
   },
   "outputs": [
    {
     "data": {
      "image/png": "[encoded data removed]",
      "text/plain": [
       "<Figure size 864x288 with 1 Axes>"
      ]
     },
     "metadata": {
      "needs_background": "light"
     },
     "output_type": "display_data"
    }
   ],
   "source": [
    "incidentes['anio'] = incidentes.fecha.dt.to_period('Y')\n",
    "incidentes.anio    = incidentes.anio.astype('int')\n",
    "incidentes  = incidentes[incidentes.anio > 43]\n",
    "trimestres = list(incidentes.periodo.value_counts(sort=False).sort_index().index)\n",
    "estados_periodos = {}\n",
    "for estado in estados_peligrosos:\n",
    "    estados_periodos[estado] = []\n",
    "    for i, trimestre in enumerate(trimestres, start=0):\n",
    "        estados_periodos[estado].append( incidentes[(incidentes.estado == estado) & (incidentes.periodo == trimestre) ].estado.count() )\n",
    "\n",
    "                \n",
    "df = pd.DataFrame(estados_periodos, index=trimestres)\n",
    "\n",
    "lines = df.plot(kind=\"line\", figsize=(12,4))"
   ]
  },
  {
   "cell_type": "markdown",
   "metadata": {},
   "source": [
    "En la grafica podemos observar la tendencia de los incidentes en los estados mas peligrosos, vemos que **Illinois** tuvo una alza en los incidentes notable, de la misma manera con **Florida**, empezando con datos por debajo de los mil pero teniendo una alza importante por el 4 trimestre del 2016, sin embargo, hubo estados como **Ohio**, que parece constante, sin subidas bruscas en la cantidad de incidentes. \n",
    "Podremos decir que:\n",
    "- **Illinois**: Tuvo una agresiva alza de incidentes, sobre todo en el año 2016, pero teniendo una baja en picada para el primer trimestre del 2018(**Tendencia a la baja**)\n",
    "- **California**: Empezó de manera alta en el año 2014, teniendo su apogeo de incidentes en el segundo trimestre del 2017, y manteniendo una tendencia a la alza para el principio del 2018(**Tendencia a la alta**)\n",
    "- **Florida**: Al principio mantuvo una cantidad promedio de incidentes, pero tuvo un repunte de casos en el 3er trimestre del 2016, pero manteniendo una baja a finales del 2017(**Tendencia a la alta**)\n",
    "- **Texas**: Empezo de manera igual que  califronia pero logró mantenerse por debajo de los indices de ella, terminando el 2017 con una baja importante de incidentes(**Tendencia a la baja**). \n",
    "- **Ohio**: Fue el estado con menos incidentes de los 5, tambien fue el unico que no tuvo alzas bruscas, manteniendo casi siempre una taza normal de incidentes y con una **tendencia a la baja**"
   ]
  },
  {
   "cell_type": "markdown",
   "metadata": {},
   "source": [
    "---\n",
    "Para el conteo de armas involucradas, podemos observar como predominan, los incidentes con 1 o menos armas de fuego, mientras que las otras aparecen en grupos mas reducidos"
   ]
  },
  {
   "cell_type": "code",
   "execution_count": 18,
   "metadata": {},
   "outputs": [
    {
     "name": "stdout",
     "output_type": "stream",
     "text": [
      "[<matplotlib.axes._subplots.AxesSubplot object at 0x7f6847f992d0>\n",
      " <matplotlib.axes._subplots.AxesSubplot object at 0x7f6845f56a10>]\n"
     ]
    },
    {
     "data": {
      "image/png": "[encoded data removed]",
      "text/plain": [
       "<Figure size 1296x576 with 2 Axes>"
      ]
     },
     "metadata": {},
     "output_type": "display_data"
    }
   ],
   "source": [
    "temp1 = incidentes[~incidentes.estado.isin(estados_peligrosos)]['armas_involucradas'].apply(lambda x : \"4+\" if x>=4 else str(x))\n",
    "temp = temp1.value_counts()\n",
    "\n",
    "temp2 = incidentes[incidentes.estado.isin(estados_peligrosos)]['armas_involucradas'].apply(lambda x : \"4+\" if x>=4 else str(x))\n",
    "temp3 = temp2.value_counts()\n",
    "\n",
    "df = pd.DataFrame({\n",
    "                   'General': temp.values,\n",
    "                   'Estados Peligrosos' : temp3.values\n",
    "                  }, \n",
    "                index = temp.index)\n",
    "\n",
    "print(df.plot.pie( title=\"Proporcion de armas utilizadas por incidente\", autopct='%1.1f%%', subplots=True, figsize=(18,8)))"
   ]
  },
  {
   "cell_type": "markdown",
   "metadata": {},
   "source": [
    "Al comprarar las armas involucradas por incidente, de manera general, por los estados mas peligroso, vemos que hay un ligero aumento en la cantidad de armas utilizadas, lo cual podria explicar el aumento de muertos en estos estados"
   ]
  },
  {
   "cell_type": "markdown",
   "metadata": {},
   "source": [
    "---\n",
    "A pesar de  que los con al menos un arma de fuego son mas, el porcentaje de muertos es casi exactamente el mismo que cuando no se utilizan armas"
   ]
  },
  {
   "cell_type": "code",
   "execution_count": 51,
   "metadata": {},
   "outputs": [
    {
     "name": "stdout",
     "output_type": "stream",
     "text": [
      "[<matplotlib.axes._subplots.AxesSubplot object at 0x7fcf8150c290>\n",
      " <matplotlib.axes._subplots.AxesSubplot object at 0x7fcf82a01210>]\n"
     ]
    },
    {
     "data": {
      "image/png": "[encoded data removed]",
      "text/plain": [
       "<Figure size 1296x576 with 2 Axes>"
      ]
     },
     "metadata": {},
     "output_type": "display_data"
    }
   ],
   "source": [
    "\n",
    "temp  = incidentes[incidentes.armas_involucradas >= 1].num_muertos.apply(lambda x : \"4+\" if x>=4 else str(x))\n",
    "temp1 = temp.value_counts()\n",
    "\n",
    "temp2  = incidentes[incidentes.armas_involucradas == 0].num_muertos.apply(lambda x : \"4+\" if x>=4 else str(x))\n",
    "temp3  = temp2.value_counts()\n",
    "\n",
    "df = pd.DataFrame({\n",
    "   'Un arma o mas': temp1.values,\n",
    "   'Sin Armas' : temp3.values\n",
    "}, \n",
    "index = temp1.index)\n",
    "\n",
    "print(df.plot.pie( title=\"Muertos por armas utilizadas\", autopct='%1.1f%%', subplots=True, figsize=(18,8)))\n",
    "\n",
    "\n"
   ]
  },
  {
   "cell_type": "markdown",
   "metadata": {},
   "source": [
    "---\n",
    "### Participantes\n",
    "Ahora visualizaremos los datos de los participantes"
   ]
  },
  {
   "cell_type": "code",
   "execution_count": 19,
   "metadata": {},
   "outputs": [
    {
     "data": {
      "text/html": [
       "<div>\n",
       "<style scoped>\n",
       "    .dataframe tbody tr th:only-of-type {\n",
       "        vertical-align: middle;\n",
       "    }\n",
       "\n",
       "    .dataframe tbody tr th {\n",
       "        vertical-align: top;\n",
       "    }\n",
       "\n",
       "    .dataframe thead th {\n",
       "        text-align: right;\n",
       "    }\n",
       "</style>\n",
       "<table border=\"1\" class=\"dataframe\">\n",
       "  <thead>\n",
       "    <tr style=\"text-align: right;\">\n",
       "      <th></th>\n",
       "      <th>incidente_id</th>\n",
       "      <th>index_participante</th>\n",
       "      <th>edad</th>\n",
       "      <th>genero</th>\n",
       "      <th>tipo</th>\n",
       "      <th>arrestado</th>\n",
       "      <th>muerto</th>\n",
       "      <th>herido</th>\n",
       "    </tr>\n",
       "  </thead>\n",
       "  <tbody>\n",
       "    <tr>\n",
       "      <th>0</th>\n",
       "      <td>0</td>\n",
       "      <td>0</td>\n",
       "      <td>20</td>\n",
       "      <td>hombre</td>\n",
       "      <td>victima</td>\n",
       "      <td>1</td>\n",
       "      <td>0</td>\n",
       "      <td>0</td>\n",
       "    </tr>\n",
       "    <tr>\n",
       "      <th>1</th>\n",
       "      <td>1</td>\n",
       "      <td>0</td>\n",
       "      <td>20</td>\n",
       "      <td>hombre</td>\n",
       "      <td>victima</td>\n",
       "      <td>0</td>\n",
       "      <td>1</td>\n",
       "      <td>0</td>\n",
       "    </tr>\n",
       "    <tr>\n",
       "      <th>2</th>\n",
       "      <td>2</td>\n",
       "      <td>0</td>\n",
       "      <td>25</td>\n",
       "      <td>hombre</td>\n",
       "      <td>sospechoso</td>\n",
       "      <td>1</td>\n",
       "      <td>0</td>\n",
       "      <td>1</td>\n",
       "    </tr>\n",
       "    <tr>\n",
       "      <th>3</th>\n",
       "      <td>2</td>\n",
       "      <td>1</td>\n",
       "      <td>31</td>\n",
       "      <td>hombre</td>\n",
       "      <td>sospechoso</td>\n",
       "      <td>1</td>\n",
       "      <td>0</td>\n",
       "      <td>0</td>\n",
       "    </tr>\n",
       "    <tr>\n",
       "      <th>4</th>\n",
       "      <td>2</td>\n",
       "      <td>2</td>\n",
       "      <td>33</td>\n",
       "      <td>hombre</td>\n",
       "      <td>victima</td>\n",
       "      <td>0</td>\n",
       "      <td>1</td>\n",
       "      <td>0</td>\n",
       "    </tr>\n",
       "  </tbody>\n",
       "</table>\n",
       "</div>"
      ],
      "text/plain": [
       "   incidente_id  index_participante  edad  genero        tipo  arrestado  \\\n",
       "0             0                   0    20  hombre     victima          1   \n",
       "1             1                   0    20  hombre     victima          0   \n",
       "2             2                   0    25  hombre  sospechoso          1   \n",
       "3             2                   1    31  hombre  sospechoso          1   \n",
       "4             2                   2    33  hombre     victima          0   \n",
       "\n",
       "   muerto  herido  \n",
       "0       0       0  \n",
       "1       1       0  \n",
       "2       0       1  \n",
       "3       0       0  \n",
       "4       1       0  "
      ]
     },
     "execution_count": 19,
     "metadata": {},
     "output_type": "execute_result"
    }
   ],
   "source": [
    "participantes.head(5)"
   ]
  },
  {
   "cell_type": "code",
   "execution_count": 20,
   "metadata": {},
   "outputs": [
    {
     "data": {
      "text/plain": [
       "29.568082936459668"
      ]
     },
     "execution_count": 20,
     "metadata": {},
     "output_type": "execute_result"
    }
   ],
   "source": [
    "participantes.edad.mean()"
   ]
  },
  {
   "cell_type": "code",
   "execution_count": 21,
   "metadata": {},
   "outputs": [
    {
     "data": {
      "text/plain": [
       "101"
      ]
     },
     "execution_count": 21,
     "metadata": {},
     "output_type": "execute_result"
    }
   ],
   "source": [
    "participantes.edad.max()"
   ]
  },
  {
   "cell_type": "code",
   "execution_count": 22,
   "metadata": {},
   "outputs": [
    {
     "data": {
      "text/plain": [
       "66"
      ]
     },
     "execution_count": 22,
     "metadata": {},
     "output_type": "execute_result"
    }
   ],
   "source": [
    "participantes.groupby('incidente_id')['incidente_id'].count().max()"
   ]
  },
  {
   "cell_type": "code",
   "execution_count": 23,
   "metadata": {},
   "outputs": [
    {
     "name": "stdout",
     "output_type": "stream",
     "text": [
      "[<matplotlib.axes._subplots.AxesSubplot object at 0x7f684a57e090>]\n"
     ]
    },
    {
     "data": {
      "image/png": "[encoded data removed]",
      "text/plain": [
       "<Figure size 720x432 with 1 Axes>"
      ]
     },
     "metadata": {},
     "output_type": "display_data"
    }
   ],
   "source": [
    "\n",
    "print(participantes.groupby('tipo')['tipo'].count().plot.pie( title=\"Proporcion de tipo\", autopct='%1.1f%%', subplots=True, figsize=(10,6)))"
   ]
  },
  {
   "cell_type": "markdown",
   "metadata": {},
   "source": [
    "\n",
    "Al describir las columnas, podemos observar diferentes aspectos:\n",
    "- la mayor edad de un participante es 101\n",
    "- el promedio de edad es de 29\n",
    "- en un incidente puede haber hasta 66 participantes\n",
    "- El 42.9% fueron Sospechoso, y el 57.1% fueron victimas"
   ]
  },
  {
   "cell_type": "markdown",
   "metadata": {},
   "source": [
    "---\n",
    "Para tener una vision mas clara de los participantes, los analizaremos separandolos por tipo."
   ]
  },
  {
   "cell_type": "code",
   "execution_count": 24,
   "metadata": {},
   "outputs": [
    {
     "data": {
      "text/plain": [
       "incidente_id          128545.359166\n",
       "index_participante         0.899948\n",
       "edad                      29.192168\n",
       "arrestado                  0.750709\n",
       "muerto                     0.066912\n",
       "herido                     0.043224\n",
       "dtype: float64"
      ]
     },
     "execution_count": 24,
     "metadata": {},
     "output_type": "execute_result"
    }
   ],
   "source": [
    "participantes[participantes['tipo'] == 'sospechoso'].mean()"
   ]
  },
  {
   "cell_type": "markdown",
   "metadata": {},
   "source": [
    "Podemos observar que la edad promedio de los participantes es de 29 años, el 75% son arrestados, solo 6% son muertos, y el 4% son heridos\n",
    "\n",
    "---"
   ]
  },
  {
   "cell_type": "markdown",
   "metadata": {},
   "source": [
    "Sin embargo, para las victimas cambia un poco, vemos que la edad en promedio sigue manteniendose en 29 años, pero la proporcion de muertos aumenta a 36% y la relacion a los heridos aumenta a poco mas de la mitad de las victimas"
   ]
  },
  {
   "cell_type": "code",
   "execution_count": 25,
   "metadata": {
    "scrolled": true
   },
   "outputs": [
    {
     "data": {
      "text/plain": [
       "incidente_id          117993.700669\n",
       "index_participante         0.251487\n",
       "edad                      29.850683\n",
       "arrestado                  0.012334\n",
       "muerto                     0.364418\n",
       "herido                     0.523135\n",
       "dtype: float64"
      ]
     },
     "execution_count": 25,
     "metadata": {},
     "output_type": "execute_result"
    }
   ],
   "source": [
    "participantes[participantes['tipo'] == 'victima'].mean()"
   ]
  },
  {
   "cell_type": "code",
   "execution_count": 101,
   "metadata": {},
   "outputs": [
    {
     "name": "stdout",
     "output_type": "stream",
     "text": [
      "      muerto  count\n",
      "0  No muerto  77555\n",
      "1     Muerto  44467\n"
     ]
    },
    {
     "data": {
      "text/plain": [
       "<matplotlib.axes._subplots.AxesSubplot at 0x7f68446d9750>"
      ]
     },
     "execution_count": 101,
     "metadata": {},
     "output_type": "execute_result"
    },
    {
     "data": {
      "image/png": "[encoded data removed]",
      "text/plain": [
       "<Figure size 432x288 with 1 Axes>"
      ]
     },
     "metadata": {
      "needs_background": "light"
     },
     "output_type": "display_data"
    }
   ],
   "source": [
    "muertos = participantes[participantes.tipo =='victima'].groupby('muerto')['muerto'].count().reset_index(name='count')\n",
    "\n",
    "muertos.muerto = muertos.muerto.apply(lambda x : \"Muerto\" if x==1 else \"No muerto\")\n",
    "print(muertos)\n",
    "muertos.plot(kind=\"barh\", x = \"muerto\")"
   ]
  },
  {
   "cell_type": "markdown",
   "metadata": {},
   "source": [
    "---\n",
    "Agrupando los datos por tipo, podemos observar que las victimas superan en frecuencia a los sospechosos, asi como predomina la cantidad de hombres en los incidentes."
   ]
  },
  {
   "cell_type": "code",
   "execution_count": 103,
   "metadata": {
    "scrolled": true
   },
   "outputs": [
    {
     "data": {
      "text/plain": [
       "<matplotlib.axes._subplots.AxesSubplot at 0x7f6844640110>"
      ]
     },
     "execution_count": 103,
     "metadata": {},
     "output_type": "execute_result"
    },
    {
     "data": {
      "image/png": "[encoded data removed]",
      "text/plain": [
       "<Figure size 432x288 with 1 Axes>"
      ]
     },
     "metadata": {
      "needs_background": "light"
     },
     "output_type": "display_data"
    }
   ],
   "source": [
    "participantes.groupby(['tipo', 'genero'])['tipo'].count().plot.bar(y='frecuency', stacked=True)\n"
   ]
  },
  {
   "cell_type": "markdown",
   "metadata": {},
   "source": [
    "---\n",
    "Se hara una comparacion de las victimas en base al genero y si murio en el incidente, ya que se mostró que el 36% de las victimas morian"
   ]
  },
  {
   "cell_type": "code",
   "execution_count": 174,
   "metadata": {},
   "outputs": [
    {
     "name": "stdout",
     "output_type": "stream",
     "text": [
      "[<matplotlib.axes._subplots.AxesSubplot object at 0x7f6848bf2f50>\n",
      " <matplotlib.axes._subplots.AxesSubplot object at 0x7f6848b6ffd0>]\n"
     ]
    },
    {
     "data": {
      "image/png": "[encoded data removed]",
      "text/plain": [
       "<Figure size 1296x576 with 2 Axes>"
      ]
     },
     "metadata": {},
     "output_type": "display_data"
    }
   ],
   "source": [
    "participantes_agrupados = participantes.groupby(['muerto', 'genero'], as_index=False )['incidente_id'].count()\n",
    "\n",
    "df = pd.DataFrame({\n",
    "   'Hombres': list( participantes_agrupados[participantes_agrupados.genero == 'hombre'].incidente_id ),\n",
    "   'Mujeres' : list( participantes_agrupados[participantes_agrupados.genero == 'mujer'].incidente_id ),\n",
    "  }, \n",
    "index = ['No Muertos', 'Muertos'])\n",
    "\n",
    "print(df.plot.pie( title=\"Proporcion de muertos por genero\", autopct='%1.1f%%', subplots=True, figsize=(18,8)))"
   ]
  },
  {
   "cell_type": "markdown",
   "metadata": {},
   "source": [
    "Podemos identificar que el porcentaje de muertos por genero no varia mucho"
   ]
  },
  {
   "cell_type": "markdown",
   "metadata": {},
   "source": [
    "---\n",
    "En esta Grafica, agrupada por edad, observamos que la frecuencia aumenta drasticamente, al llegar a 20 años, que de hecho es el punto mas alto, pero debido a que la hay mas participantes en los demas grupos de edad, el promedio aumenta a 29 años"
   ]
  },
  {
   "cell_type": "code",
   "execution_count": 30,
   "metadata": {},
   "outputs": [
    {
     "data": {
      "text/plain": [
       "<matplotlib.axes._subplots.AxesSubplot at 0x7f6845851e50>"
      ]
     },
     "execution_count": 30,
     "metadata": {},
     "output_type": "execute_result"
    },
    {
     "data": {
      "image/png": "[encoded data removed]",
      "text/plain": [
       "<Figure size 1584x432 with 1 Axes>"
      ]
     },
     "metadata": {
      "needs_background": "light"
     },
     "output_type": "display_data"
    }
   ],
   "source": [
    "participantes.groupby(['edad'])['edad'].count().plot.bar(y='frecuency', figsize=(22,6))"
   ]
  },
  {
   "cell_type": "markdown",
   "metadata": {},
   "source": [
    "Sin embargo, si hacemos una comparacion de la misma grafica, pero filtrada por tipo(sospechoso, victima), podemos observar que no hay mucha diferencia entre si,"
   ]
  },
  {
   "cell_type": "code",
   "execution_count": 31,
   "metadata": {},
   "outputs": [
    {
     "data": {
      "text/plain": [
       "<matplotlib.axes._subplots.AxesSubplot at 0x7f68455d9290>"
      ]
     },
     "execution_count": 31,
     "metadata": {},
     "output_type": "execute_result"
    },
    {
     "data": {
      "image/png": "[encoded data removed]",
      "text/plain": [
       "<Figure size 1584x432 with 1 Axes>"
      ]
     },
     "metadata": {
      "needs_background": "light"
     },
     "output_type": "display_data"
    }
   ],
   "source": [
    "participantes[participantes.tipo=='sospechoso'].groupby(['edad'])['edad'].count().plot.bar(y='frecuency', figsize=(22,6))"
   ]
  },
  {
   "cell_type": "code",
   "execution_count": 32,
   "metadata": {
    "scrolled": true
   },
   "outputs": [
    {
     "data": {
      "text/plain": [
       "<matplotlib.axes._subplots.AxesSubplot at 0x7f68453a45d0>"
      ]
     },
     "execution_count": 32,
     "metadata": {},
     "output_type": "execute_result"
    },
    {
     "data": {
      "image/png": "[encoded data removed]",
      "text/plain": [
       "<Figure size 1584x432 with 1 Axes>"
      ]
     },
     "metadata": {
      "needs_background": "light"
     },
     "output_type": "display_data"
    }
   ],
   "source": [
    "participantes[participantes.tipo=='victima'].groupby(['edad'])['edad'].count().plot.bar(y='frecuency', figsize=(22,6))"
   ]
  },
  {
   "cell_type": "markdown",
   "metadata": {},
   "source": [
    "---\n",
    "Al agrupar a los participantes por tipo, podemos observar que como era de esperarse, las victimas son las que mas mueren, de hecho hay una diferencia mayor entre las victimas y los sospechosos que mueren, respecto a los sospechosos y victimas que no mueren."
   ]
  },
  {
   "cell_type": "code",
   "execution_count": 34,
   "metadata": {},
   "outputs": [
    {
     "data": {
      "text/plain": [
       "<matplotlib.axes._subplots.AxesSubplot at 0x7f6844ff2a90>"
      ]
     },
     "execution_count": 34,
     "metadata": {},
     "output_type": "execute_result"
    },
    {
     "data": {
      "image/png": "[encoded data removed]",
      "text/plain": [
       "<Figure size 432x288 with 1 Axes>"
      ]
     },
     "metadata": {
      "needs_background": "light"
     },
     "output_type": "display_data"
    }
   ],
   "source": [
    "participantes.groupby(['tipo', 'muerto'])['tipo'].count().plot.bar(y='frecuency', stacked=True)"
   ]
  },
  {
   "cell_type": "markdown",
   "metadata": {},
   "source": [
    "---\n",
    "### Procedemos a unir los incidentes con los participantes de una manera estructurada"
   ]
  },
  {
   "cell_type": "code",
   "execution_count": 24,
   "metadata": {},
   "outputs": [],
   "source": [
    "i_p = pd.merge(incidentes, participantes, left_index=True, right_on='incidente_id')"
   ]
  }
 ],
 "metadata": {
  "kernelspec": {
   "display_name": "Python 3",
   "language": "python",
   "name": "python3"
  },
  "language_info": {
   "codemirror_mode": {
    "name": "ipython",
    "version": 3
   },
   "file_extension": ".py",
   "mimetype": "text/x-python",
   "name": "python",
   "nbconvert_exporter": "python",
   "pygments_lexer": "ipython3",
   "version": "3.7.6"
  }
 },
 "nbformat": 4,
 "nbformat_minor": 4
}
